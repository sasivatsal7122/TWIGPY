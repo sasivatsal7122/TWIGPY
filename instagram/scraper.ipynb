{
 "cells": [
  {
   "cell_type": "code",
   "execution_count": 1,
   "id": "4c12dac1",
   "metadata": {},
   "outputs": [],
   "source": [
    "from selenium import webdriver\n",
    "from selenium.webdriver.chrome.service import Service\n",
    "from webdriver_manager.chrome import ChromeDriverManager\n",
    "from selenium.webdriver.support.ui import WebDriverWait\n",
    "from selenium.webdriver.support import expected_conditions as EC\n",
    "from selenium.webdriver.common.by import By\n",
    "from explicit import waiter, XPATH\n",
    "import time\n",
    "import pandas as pd\n",
    "from bs4 import BeautifulSoup"
   ]
  },
  {
   "cell_type": "code",
   "execution_count": 26,
   "id": "c261c5f8",
   "metadata": {},
   "outputs": [],
   "source": [
    "username = \"owasp.viit\"\n",
    "password = \"owasp@vignansiit\""
   ]
  },
  {
   "cell_type": "code",
   "execution_count": 27,
   "id": "2491c5f3",
   "metadata": {},
   "outputs": [],
   "source": [
    "def login(driver):\n",
    "    driver.get(\"https://www.instagram.com/accounts/login/\")\n",
    "    # entering the username in username field\n",
    "    waiter.find_write(driver, \"//*[@id='loginForm']/div/div[1]/div/label/input\", username, by=XPATH)\n",
    "    # entering the password in password field\n",
    "    waiter.find_write(driver, \"//*[@id='loginForm']/div/div[2]/div/label/input\", password, by=XPATH)\n",
    "    # clicking on the login button\n",
    "    waiter.find_element(driver, \"//*[@id='loginForm']/div/div[3]\", by=XPATH).click()\n",
    "    wait = WebDriverWait(driver, 10)\n",
    "    message_btn = wait.until(EC.visibility_of_all_elements_located((By.XPATH, \"//*[text()='Not now']\")))\n",
    "    return "
   ]
  },
  {
   "cell_type": "code",
   "execution_count": 29,
   "id": "202df7fc",
   "metadata": {},
   "outputs": [],
   "source": [
    "from tqdm import tqdm\n",
    "\n",
    "def scrape_again(driver,acc):\n",
    "    \n",
    "    try:\n",
    "        driver.get(f\"https://www.instagram.com/{acc}/\")\n",
    "        try:\n",
    "            wait_until = WebDriverWait(driver, 20).until(EC.presence_of_element_located((By.TAG_NAME , \"h2\")))\n",
    "        except:\n",
    "            wait_until = WebDriverWait(driver, 20).until(EC.presence_of_element_located((By.TAG_NAME , \"h1\")))\n",
    "\n",
    "        html_source = driver.page_source\n",
    "        sourcedata = html_source.encode('utf-8')\n",
    "        soup = BeautifulSoup( sourcedata , 'html.parser')\n",
    "\n",
    "        try:\n",
    "            screename = soup.find('h2',{\"class\":\"_aacl _aacs _aact _aacx _aada\"}).text\n",
    "        except:\n",
    "            screename = 'NULL'\n",
    "\n",
    "        po_fo_fol = soup.find_all('span',{\"class\":\"_ac2a\"})\n",
    "        posts_count = po_fo_fol[0].text\n",
    "        followers_count = po_fo_fol[1].text\n",
    "        following_count = po_fo_fol[2].text\n",
    "\n",
    "        try:\n",
    "            name = soup.find('span',{\"class\":\"_aacl _aacp _aacw _aacx _aad7 _aade\"}).text\n",
    "        except:\n",
    "            name = 'NULL'\n",
    "\n",
    "        is_verified = False\n",
    "        if soup.find('span',{\"class\":\"_act0 _a9_u _9ys7\"}):\n",
    "            is_verified = True\n",
    "\n",
    "        bio = 'NULL'\n",
    "        try:\n",
    "            if soup.find_all('div',{\"class\":\"_aacl _aacp _aacu _aacx _aad6 _aade\"})[3]:\n",
    "                bio = soup.find_all('div',{\"class\":\"_aacl _aacp _aacu _aacx _aad6 _aade\"})[3].text\n",
    "        except:\n",
    "            bio = 'NULL'\n",
    "\n",
    "        bio_url = 'NULL'\n",
    "        if soup.find('div',{\"class\":\"_aacl _aacp _aacw _aacz _aada _aade\"}):\n",
    "            bio_url = soup.find('div',{\"class\":\"_aacl _aacp _aacw _aacz _aada _aade\"}).text\n",
    "\n",
    "\n",
    "        is_bussiness_acc = False;bussiness_sector= 'NULL'\n",
    "        if soup.find('div',{\"class\":\"_aacl _aacp _aacu _aacy _aad6 _aade\"}):\n",
    "            is_bussiness_acc = True\n",
    "            bussiness_sector = soup.find('div',{\"class\":\"_aacl _aacp _aacu _aacy _aad6 _aade\"}).text\n",
    "\n",
    "        is_private = True\n",
    "        if soup.find('span',{\"class\":\"_ac-g\"}):\n",
    "            is_private = False\n",
    "\n",
    "        user_id = soup.find('script',{'type':\"application/json\"}).text\n",
    "        user_id = user_id[46:-17]\n",
    "\n",
    "        data={\n",
    "            'user id' : user_id,\n",
    "            'name':name,\n",
    "            'screen-name':screename,\n",
    "            'bio' : bio,\n",
    "            'bio url' : bio_url,\n",
    "            'followers' : followers_count,\n",
    "            'following' : following_count,\n",
    "            'posts' : posts_count,\n",
    "            'is verified':is_verified,\n",
    "            'is private' : is_private,\n",
    "            'is bussiness account' : is_bussiness_acc,\n",
    "            'bussiness sector' : bussiness_sector\n",
    "\n",
    "        }\n",
    "        result_dict.update({acc:data})\n",
    "    except:\n",
    "        pass"
   ]
  },
  {
   "cell_type": "code",
   "execution_count": 30,
   "id": "ba359ea2",
   "metadata": {},
   "outputs": [],
   "source": [
    "# from selenium.webdriver.chrome.options import Options\n",
    "# from selenium.webdriver.common.proxy import Proxy, ProxyType\n",
    "# import pickle\n",
    "\n",
    "\n",
    "# options = Options()\n",
    "\n",
    "# # options.headless = True\n",
    "# options.add_argument(\"--incognito\")\n",
    "# driver = webdriver.Chrome(options=options,service=Service(ChromeDriverManager().install())) \n",
    "\n",
    "# login(driver)\n",
    "\n",
    "# pickle.dump( driver.get_cookies() , open(\"cookies.pkl\",\"wb\"))"
   ]
  },
  {
   "cell_type": "code",
   "execution_count": 31,
   "id": "09e4587e",
   "metadata": {},
   "outputs": [
    {
     "name": "stderr",
     "output_type": "stream",
     "text": [
      "[WDM] - Current google-chrome version is 105.0.5195\n",
      "[WDM] - Get LATEST driver version for 105.0.5195\n",
      "[WDM] - Driver [C:\\Users\\sasiv\\.wdm\\drivers\\chromedriver\\win32\\105.0.5195.52\\chromedriver.exe] found in cache\n"
     ]
    },
    {
     "name": "stdout",
     "output_type": "stream",
     "text": [
      " \n"
     ]
    },
    {
     "name": "stderr",
     "output_type": "stream",
     "text": [
      "100%|████████████████████████████████████████████████████████████████████████████████| 407/407 [25:26<00:00,  3.75s/it]\n"
     ]
    }
   ],
   "source": [
    "alread_scraped_df = pd.read_excel(\"sofia_davis156's_insta_followers.xlsx\")\n",
    "accs = alread_scraped_df['followers_usernames']\n",
    "\n",
    "result_dict = dict()\n",
    "\n",
    "options = Options()\n",
    "\n",
    "options.headless = True\n",
    "options.add_argument(\"--incognito\")\n",
    "driver = webdriver.Chrome(options=options,service=Service(ChromeDriverManager().install())) \n",
    "driver.get(f\"https://www.instagram.com/\")\n",
    "cookies = pickle.load(open(\"instacookies.pkl\", \"rb\"))\n",
    "for cookie in cookies:\n",
    "    driver.add_cookie(cookie)\n",
    "\n",
    "scrape_again(driver,accs)\n"
   ]
  },
  {
   "cell_type": "code",
   "execution_count": 32,
   "id": "d8c69c90",
   "metadata": {},
   "outputs": [
    {
     "data": {
      "text/html": [
       "<div>\n",
       "<style scoped>\n",
       "    .dataframe tbody tr th:only-of-type {\n",
       "        vertical-align: middle;\n",
       "    }\n",
       "\n",
       "    .dataframe tbody tr th {\n",
       "        vertical-align: top;\n",
       "    }\n",
       "\n",
       "    .dataframe thead th {\n",
       "        text-align: right;\n",
       "    }\n",
       "</style>\n",
       "<table border=\"1\" class=\"dataframe\">\n",
       "  <thead>\n",
       "    <tr style=\"text-align: right;\">\n",
       "      <th></th>\n",
       "      <th>user id</th>\n",
       "      <th>name</th>\n",
       "      <th>screen-name</th>\n",
       "      <th>bio</th>\n",
       "      <th>bio url</th>\n",
       "      <th>followers</th>\n",
       "      <th>following</th>\n",
       "      <th>posts</th>\n",
       "      <th>is verified</th>\n",
       "      <th>is private</th>\n",
       "      <th>is bussiness account</th>\n",
       "      <th>bussiness sector</th>\n",
       "    </tr>\n",
       "  </thead>\n",
       "  <tbody>\n",
       "    <tr>\n",
       "      <th>0</th>\n",
       "      <td>7152384252551458534</td>\n",
       "      <td>Johel Baez</td>\n",
       "      <td>baez_johel</td>\n",
       "      <td>Libriano ☆Traders, Empresario 📈📊24 inviernos E...</td>\n",
       "      <td>NULL</td>\n",
       "      <td>283</td>\n",
       "      <td>2,114</td>\n",
       "      <td>25</td>\n",
       "      <td>False</td>\n",
       "      <td>False</td>\n",
       "      <td>True</td>\n",
       "      <td>Gamer</td>\n",
       "    </tr>\n",
       "    <tr>\n",
       "      <th>1</th>\n",
       "      <td>7152384269852213272</td>\n",
       "      <td>Ki Sha</td>\n",
       "      <td>ki.sha_black</td>\n",
       "      <td>CE0 kyristalMayLow key</td>\n",
       "      <td>NULL</td>\n",
       "      <td>355</td>\n",
       "      <td>1,244</td>\n",
       "      <td>38</td>\n",
       "      <td>False</td>\n",
       "      <td>True</td>\n",
       "      <td>False</td>\n",
       "      <td>NULL</td>\n",
       "    </tr>\n",
       "    <tr>\n",
       "      <th>2</th>\n",
       "      <td>7152384283070489227</td>\n",
       "      <td>NULL</td>\n",
       "      <td>NULL</td>\n",
       "      <td>@fenerbahce</td>\n",
       "      <td>NULL</td>\n",
       "      <td>531</td>\n",
       "      <td>1,057</td>\n",
       "      <td>0</td>\n",
       "      <td>False</td>\n",
       "      <td>True</td>\n",
       "      <td>False</td>\n",
       "      <td>NULL</td>\n",
       "    </tr>\n",
       "    <tr>\n",
       "      <th>3</th>\n",
       "      <td>7152384295381846254</td>\n",
       "      <td>Luchencko Matta</td>\n",
       "      <td>luchenckomatta</td>\n",
       "      <td>Mexicano, de agave y tabaco.                  ...</td>\n",
       "      <td>NULL</td>\n",
       "      <td>705</td>\n",
       "      <td>956</td>\n",
       "      <td>572</td>\n",
       "      <td>False</td>\n",
       "      <td>True</td>\n",
       "      <td>False</td>\n",
       "      <td>NULL</td>\n",
       "    </tr>\n",
       "    <tr>\n",
       "      <th>4</th>\n",
       "      <td>7152384308676859797</td>\n",
       "      <td>HøÜš Sam</td>\n",
       "      <td>hedjazhoussam</td>\n",
       "      <td>الحمد للهÉtudiant à l'université de Constantin...</td>\n",
       "      <td>NULL</td>\n",
       "      <td>202</td>\n",
       "      <td>3,720</td>\n",
       "      <td>2</td>\n",
       "      <td>False</td>\n",
       "      <td>True</td>\n",
       "      <td>False</td>\n",
       "      <td>NULL</td>\n",
       "    </tr>\n",
       "    <tr>\n",
       "      <th>...</th>\n",
       "      <td>...</td>\n",
       "      <td>...</td>\n",
       "      <td>...</td>\n",
       "      <td>...</td>\n",
       "      <td>...</td>\n",
       "      <td>...</td>\n",
       "      <td>...</td>\n",
       "      <td>...</td>\n",
       "      <td>...</td>\n",
       "      <td>...</td>\n",
       "      <td>...</td>\n",
       "      <td>...</td>\n",
       "    </tr>\n",
       "    <tr>\n",
       "      <th>393</th>\n",
       "      <td>7152390571752063112</td>\n",
       "      <td>doitttrading</td>\n",
       "      <td>doittrading</td>\n",
       "      <td>Find the newest and most innovative EAs and in...</td>\n",
       "      <td>www.mql5.com/en/market/product/86581</td>\n",
       "      <td>824</td>\n",
       "      <td>3,787</td>\n",
       "      <td>121</td>\n",
       "      <td>False</td>\n",
       "      <td>False</td>\n",
       "      <td>False</td>\n",
       "      <td>NULL</td>\n",
       "    </tr>\n",
       "    <tr>\n",
       "      <th>394</th>\n",
       "      <td>7152390587386233665</td>\n",
       "      <td>Queen nina</td>\n",
       "      <td>queennina651</td>\n",
       "      <td>NULL</td>\n",
       "      <td>NULL</td>\n",
       "      <td>55</td>\n",
       "      <td>104</td>\n",
       "      <td>1</td>\n",
       "      <td>False</td>\n",
       "      <td>False</td>\n",
       "      <td>False</td>\n",
       "      <td>NULL</td>\n",
       "    </tr>\n",
       "    <tr>\n",
       "      <th>395</th>\n",
       "      <td>7152390601640352720</td>\n",
       "      <td>Sukhrob Murodov</td>\n",
       "      <td>sukhrob_mb</td>\n",
       "      <td>NULL</td>\n",
       "      <td>NULL</td>\n",
       "      <td>327</td>\n",
       "      <td>657</td>\n",
       "      <td>47</td>\n",
       "      <td>False</td>\n",
       "      <td>False</td>\n",
       "      <td>False</td>\n",
       "      <td>NULL</td>\n",
       "    </tr>\n",
       "    <tr>\n",
       "      <th>396</th>\n",
       "      <td>7152390617465332488</td>\n",
       "      <td>NULL</td>\n",
       "      <td>NULL</td>\n",
       "      <td>NULL</td>\n",
       "      <td>NULL</td>\n",
       "      <td>69</td>\n",
       "      <td>234</td>\n",
       "      <td>0</td>\n",
       "      <td>False</td>\n",
       "      <td>False</td>\n",
       "      <td>False</td>\n",
       "      <td>NULL</td>\n",
       "    </tr>\n",
       "    <tr>\n",
       "      <th>397</th>\n",
       "      <td>7152390669288972567</td>\n",
       "      <td>Müstafa  Türķ</td>\n",
       "      <td>must_afa7741</td>\n",
       "      <td>NULL</td>\n",
       "      <td>NULL</td>\n",
       "      <td>36</td>\n",
       "      <td>133</td>\n",
       "      <td>0</td>\n",
       "      <td>False</td>\n",
       "      <td>False</td>\n",
       "      <td>False</td>\n",
       "      <td>NULL</td>\n",
       "    </tr>\n",
       "  </tbody>\n",
       "</table>\n",
       "<p>398 rows × 12 columns</p>\n",
       "</div>"
      ],
      "text/plain": [
       "                 user id             name     screen-name  \\\n",
       "0    7152384252551458534       Johel Baez      baez_johel   \n",
       "1    7152384269852213272           Ki Sha    ki.sha_black   \n",
       "2    7152384283070489227             NULL            NULL   \n",
       "3    7152384295381846254  Luchencko Matta  luchenckomatta   \n",
       "4    7152384308676859797         HøÜš Sam   hedjazhoussam   \n",
       "..                   ...              ...             ...   \n",
       "393  7152390571752063112     doitttrading     doittrading   \n",
       "394  7152390587386233665       Queen nina    queennina651   \n",
       "395  7152390601640352720  Sukhrob Murodov      sukhrob_mb   \n",
       "396  7152390617465332488             NULL            NULL   \n",
       "397  7152390669288972567    Müstafa  Türķ    must_afa7741   \n",
       "\n",
       "                                                   bio  \\\n",
       "0    Libriano ☆Traders, Empresario 📈📊24 inviernos E...   \n",
       "1                               CE0 kyristalMayLow key   \n",
       "2                                          @fenerbahce   \n",
       "3    Mexicano, de agave y tabaco.                  ...   \n",
       "4    الحمد للهÉtudiant à l'université de Constantin...   \n",
       "..                                                 ...   \n",
       "393  Find the newest and most innovative EAs and in...   \n",
       "394                                               NULL   \n",
       "395                                               NULL   \n",
       "396                                               NULL   \n",
       "397                                               NULL   \n",
       "\n",
       "                                  bio url followers following posts  \\\n",
       "0                                    NULL       283     2,114    25   \n",
       "1                                    NULL       355     1,244    38   \n",
       "2                                    NULL       531     1,057     0   \n",
       "3                                    NULL       705       956   572   \n",
       "4                                    NULL       202     3,720     2   \n",
       "..                                    ...       ...       ...   ...   \n",
       "393  www.mql5.com/en/market/product/86581       824     3,787   121   \n",
       "394                                  NULL        55       104     1   \n",
       "395                                  NULL       327       657    47   \n",
       "396                                  NULL        69       234     0   \n",
       "397                                  NULL        36       133     0   \n",
       "\n",
       "    is verified is private is bussiness account bussiness sector  \n",
       "0         False      False                 True            Gamer  \n",
       "1         False       True                False             NULL  \n",
       "2         False       True                False             NULL  \n",
       "3         False       True                False             NULL  \n",
       "4         False       True                False             NULL  \n",
       "..          ...        ...                  ...              ...  \n",
       "393       False      False                False             NULL  \n",
       "394       False      False                False             NULL  \n",
       "395       False      False                False             NULL  \n",
       "396       False      False                False             NULL  \n",
       "397       False      False                False             NULL  \n",
       "\n",
       "[398 rows x 12 columns]"
      ]
     },
     "execution_count": 32,
     "metadata": {},
     "output_type": "execute_result"
    }
   ],
   "source": [
    "df"
   ]
  },
  {
   "cell_type": "code",
   "execution_count": 27,
   "id": "0efd6694",
   "metadata": {},
   "outputs": [
    {
     "data": {
      "text/plain": [
       "176"
      ]
     },
     "execution_count": 27,
     "metadata": {},
     "output_type": "execute_result"
    }
   ],
   "source": [
    "len(result_dict)"
   ]
  },
  {
   "cell_type": "code",
   "execution_count": 91,
   "id": "fae47da4",
   "metadata": {},
   "outputs": [],
   "source": [
    "sourcedata = html_source.encode('utf-8')\n",
    "soup = BeautifulSoup( sourcedata , 'html.parser')"
   ]
  },
  {
   "cell_type": "code",
   "execution_count": 92,
   "id": "792b0920",
   "metadata": {
    "scrolled": true
   },
   "outputs": [
    {
     "data": {
      "text/plain": [
       "'sasivatsal'"
      ]
     },
     "execution_count": 92,
     "metadata": {},
     "output_type": "execute_result"
    }
   ],
   "source": [
    "screename = soup.find('h2',{\"class\":\"_aacl _aacs _aact _aacx _aada\"}).text\n",
    "screename"
   ]
  },
  {
   "cell_type": "code",
   "execution_count": 93,
   "id": "d10c9f73",
   "metadata": {},
   "outputs": [
    {
     "name": "stdout",
     "output_type": "stream",
     "text": [
      "7 433 455\n"
     ]
    }
   ],
   "source": [
    "po_fo_fol = soup.find_all('span',{\"class\":\"_ac2a\"})\n",
    "posts_count = po_fo_fol[0].text\n",
    "followers_count = po_fo_fol[1].text\n",
    "following_count = po_fo_fol[2].text\n",
    "\n",
    "print(posts_count,followers_count,following_count)"
   ]
  },
  {
   "cell_type": "code",
   "execution_count": 94,
   "id": "24a8e2ae",
   "metadata": {},
   "outputs": [
    {
     "data": {
      "text/plain": [
       "'Sasi Vatsal'"
      ]
     },
     "execution_count": 94,
     "metadata": {},
     "output_type": "execute_result"
    }
   ],
   "source": [
    "name = soup.find('span',{\"class\":\"_aacl _aacp _aacw _aacx _aad7 _aade\"}).text\n",
    "name"
   ]
  },
  {
   "cell_type": "code",
   "execution_count": 95,
   "id": "af20c607",
   "metadata": {},
   "outputs": [
    {
     "data": {
      "text/plain": [
       "False"
      ]
     },
     "execution_count": 95,
     "metadata": {},
     "output_type": "execute_result"
    }
   ],
   "source": [
    "is_verified = False\n",
    "if soup.find('span',{\"class\":\"_act0 _a9_u _9ys7\"}):\n",
    "    is_verified = True\n",
    "is_verified"
   ]
  },
  {
   "cell_type": "code",
   "execution_count": 96,
   "id": "71eb2547",
   "metadata": {},
   "outputs": [
    {
     "data": {
      "text/plain": [
       "'𝚊𝚒𝚝𝚎e𝚗𝚕𝚊𝚍|𝙰𝚜𝚝𝚛𝚘𝚙𝚑𝚒𝚕𝚎🔭🌘𝙾𝚗 𝚟𝚘𝚢𝚊𝚐𝚎 𝚒𝚗 𝚜𝚎𝚊𝚛𝚌𝚑 𝚘𝚏 𝚊𝚕𝚙𝚑𝚊𝚌𝚎𝚗𝚝𝚞𝚛𝚊𝚒𝙱 🚀𝙿𝚊𝚛𝚝 𝚝𝚒𝚖𝚎 𝚜𝚝𝚞𝚍𝚎𝚗𝚝🧖|𝙵𝚞𝚕𝚕𝚝𝚒𝚖𝚎 𝙽𝚎𝚝𝚏𝚕𝚒𝚡 𝚋𝚒𝚗𝚐𝚎𝚛🧑\\u200d💻𝙸 turn coffee into code 🛐'"
      ]
     },
     "execution_count": 96,
     "metadata": {},
     "output_type": "execute_result"
    }
   ],
   "source": [
    "bio = 'NULL'\n",
    "if soup.find_all('div',{\"class\":\"_aacl _aacp _aacu _aacx _aad6 _aade\"})[3]:\n",
    "    bio = soup.find_all('div',{\"class\":\"_aacl _aacp _aacu _aacx _aad6 _aade\"})[3].text\n",
    "bio"
   ]
  },
  {
   "cell_type": "code",
   "execution_count": 97,
   "id": "08a14e71",
   "metadata": {},
   "outputs": [
    {
     "data": {
      "text/plain": [
       "'NULL'"
      ]
     },
     "execution_count": 97,
     "metadata": {},
     "output_type": "execute_result"
    }
   ],
   "source": [
    "bio_url = 'NULL'\n",
    "if soup.find('div',{\"class\":\"_aacl _aacp _aacw _aacz _aada _aade\"}):\n",
    "    bio_url = soup.find('div',{\"class\":\"_aacl _aacp _aacw _aacz _aada _aade\"}).text\n",
    "bio_url"
   ]
  },
  {
   "cell_type": "code",
   "execution_count": 98,
   "id": "87505f72",
   "metadata": {},
   "outputs": [
    {
     "name": "stdout",
     "output_type": "stream",
     "text": [
      "False\n"
     ]
    }
   ],
   "source": [
    "is_bussiness_acc = False;bussiness_sector=None\n",
    "if soup.find('div',{\"class\":\"_aacl _aacp _aacu _aacy _aad6 _aade\"}):\n",
    "    is_bussiness_acc = True\n",
    "    bussiness_sector = soup.find('div',{\"class\":\"_aacl _aacp _aacu _aacy _aad6 _aade\"}).text\n",
    "if bussiness_sector:\n",
    "    print(is_bussiness_acc)\n",
    "    print(bussiness_sector)\n",
    "else:\n",
    "    print(is_bussiness_acc)"
   ]
  },
  {
   "cell_type": "code",
   "execution_count": 112,
   "id": "9a4a3147",
   "metadata": {},
   "outputs": [
    {
     "data": {
      "text/plain": [
       "True"
      ]
     },
     "execution_count": 112,
     "metadata": {},
     "output_type": "execute_result"
    }
   ],
   "source": [
    "is_private = False\n",
    "if soup.find('span',{\"class\":\"_ac-g\"}):\n",
    "    is_private = True\n",
    "is_private"
   ]
  },
  {
   "cell_type": "code",
   "execution_count": 123,
   "id": "7911f4f3",
   "metadata": {
    "scrolled": true
   },
   "outputs": [
    {
     "data": {
      "text/plain": [
       "'7152163973320430513'"
      ]
     },
     "execution_count": 123,
     "metadata": {},
     "output_type": "execute_result"
    }
   ],
   "source": [
    "ds = soup.find('script',{'type':\"application/json\"}).text\n",
    "ds[46:-17]"
   ]
  },
  {
   "cell_type": "code",
   "execution_count": null,
   "id": "e34907f0",
   "metadata": {},
   "outputs": [],
   "source": []
  }
 ],
 "metadata": {
  "kernelspec": {
   "display_name": "Python 3 (ipykernel)",
   "language": "python",
   "name": "python3"
  },
  "language_info": {
   "codemirror_mode": {
    "name": "ipython",
    "version": 3
   },
   "file_extension": ".py",
   "mimetype": "text/x-python",
   "name": "python",
   "nbconvert_exporter": "python",
   "pygments_lexer": "ipython3",
   "version": "3.9.7"
  }
 },
 "nbformat": 4,
 "nbformat_minor": 5
}
