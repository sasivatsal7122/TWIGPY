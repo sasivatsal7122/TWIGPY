{
 "cells": [
  {
   "cell_type": "code",
   "execution_count": 3,
   "id": "bb68fcdc",
   "metadata": {},
   "outputs": [],
   "source": [
    "from selenium import webdriver\n",
    "from selenium.webdriver.common.by import By\n",
    "from explicit import waiter, XPATH\n",
    "import time\n",
    "import pandas as pd\n",
    "from bs4 import BeautifulSoup\n",
    "import tweepy "
   ]
  },
  {
   "cell_type": "code",
   "execution_count": 9,
   "id": "b605c548",
   "metadata": {},
   "outputs": [],
   "source": [
    "consumer_key = \"K9DzxhDze6eNHrYXePTy0QX4A\"\n",
    "consumer_secret = \"VT9qZFqV5W5HQuSal4PhjVR0aLk3dGWaife7J7rZyqRaiK5tee\"\n",
    "access_token = \"1296831022718279680-khlkoQmW8z9rySV17uq5os2NWwxz3w\"\n",
    "access_token_secret = \"iXlgmzNzU5N8enRcfJP4hp75XDHycfOaWOcwdajIGjBpZ\"\n",
    "bearer_token = \"AAAAAAAAAAAAAAAAAAAAAGQHhwEAAAAApSN05LalJEvnvO0%2B0YundTH4WVI%3Dxq7ftFpEgH2M2maNENHyX4I8JDAokgcmR0f0wXgHwYd2AqYOtw\""
   ]
  },
  {
   "cell_type": "code",
   "execution_count": 10,
   "id": "a9d3061d",
   "metadata": {},
   "outputs": [],
   "source": [
    "username = \"@sasiv7122\"\n",
    "password = \"edgeforexfake\""
   ]
  },
  {
   "cell_type": "code",
   "execution_count": 37,
   "id": "3dcab287",
   "metadata": {},
   "outputs": [
    {
     "name": "stderr",
     "output_type": "stream",
     "text": [
      "C:\\Users\\sasiv\\AppData\\Local\\Temp\\ipykernel_2800\\2751738547.py:42: DeprecationWarning: executable_path has been deprecated, please pass in a Service object\n",
      "  driver = webdriver.Chrome(executable_path='./chromedriver/chromedriver.exe')\n"
     ]
    }
   ],
   "source": [
    "usernames_ls = []\n",
    "names_ls = []\n",
    "\n",
    "def login(driver):\n",
    "    driver.get(\"https://twitter.com/i/flow/login\")\n",
    "    waiter.find_write(driver, \"//*[@id='layers']/div/div/div/div/div/div/div[2]/div[2]/div/div/div[2]/div[2]/div/div/div/div[5]/label/div/div[2]/div/input\", username, by=XPATH)\n",
    "    waiter.find_element(driver, \"//*[@id='layers']/div/div/div/div/div/div/div[2]/div[2]/div/div/div[2]/div[2]/div/div/div/div[6]/div\", by=XPATH).click()\n",
    "    waiter.find_write(driver, \"//*[@id='layers']/div/div/div/div/div/div/div[2]/div[2]/div/div/div[2]/div[2]/div[1]/div/div/div[3]/div/label/div/div[2]/div[1]/input\", password, by=XPATH)\n",
    "    waiter.find_element(driver, \"//*[@id='layers']/div/div/div/div/div/div/div[2]/div[2]/div/div/div[2]/div[2]/div[2]/div/div[1]/div/div/div/div\", by=XPATH).click()\n",
    "    time.sleep(4)\n",
    "\n",
    "def extract_followers_func(driver):\n",
    "    driver.get(\"https://twitter.com/ParaRjs/followers\")\n",
    "    time.sleep(3)\n",
    "    html_source = driver.page_source\n",
    "    sourcedata = html_source.encode('utf-8')\n",
    "    soup = BeautifulSoup( sourcedata , 'html.parser')\n",
    "    users = soup.find_all('a',{'class':'css-4rbku5 css-18t94o4 css-1dbjc4n r-1loqt21 r-1wbh5a2 r-dnmrzs r-1ny4l3l'})\n",
    "    for i in users:\n",
    "        usernames_ls.append((i['href'])[1:])\n",
    "    last_height = driver.execute_script(\"return document.body.scrollHeight\")\n",
    "    while True:\n",
    "        driver.execute_script(\"window.scrollTo(0, document.body.scrollHeight);\")\n",
    "        time.sleep(3)\n",
    "        new_height = driver.execute_script(\"return document.body.scrollHeight\")\n",
    "        if new_height == last_height:\n",
    "            break\n",
    "        last_height = new_height\n",
    "        time.sleep(3)\n",
    "        html_source = driver.page_source\n",
    "        sourcedata = html_source.encode('utf-8')\n",
    "        soup = BeautifulSoup( sourcedata , 'html.parser')\n",
    "        users = soup.find_all('a',{'class':'css-4rbku5 css-18t94o4 css-1dbjc4n r-1loqt21 r-1wbh5a2 r-dnmrzs r-1ny4l3l'})\n",
    "        for i in users:\n",
    "            usernames_ls.append((i['href'])[1:])\n",
    "            \n",
    "    usernames = list(set(usernames_ls))\n",
    "    base = \"https://twitter.com/\"\n",
    "    hyperlinks = [base+i for i in usernames]\n",
    "    return usernames,hyperlinks\n",
    "    \n",
    "driver = webdriver.Chrome(executable_path='./chromedriver/chromedriver.exe') \n",
    "\n",
    "login(driver)\n",
    "usernames_ls,hyper_links = extract_followers_func(driver)\n",
    "data = {\n",
    "        'Followers Usernames' : usernames_ls,\n",
    "        'Followers Hyperlinks' : hyper_links\n",
    "    }\n",
    "df = pd.DataFrame(data)\n",
    "df.to_excel(\"twiterusernames_scraped.xlsx\")"
   ]
  },
  {
   "cell_type": "code",
   "execution_count": 110,
   "id": "36f0ba78",
   "metadata": {},
   "outputs": [],
   "source": [
    "scraped_handle_name = \"rupinder dhillon\""
   ]
  },
  {
   "cell_type": "code",
   "execution_count": 113,
   "id": "108623a7",
   "metadata": {},
   "outputs": [
    {
     "name": "stdout",
     "output_type": "stream",
     "text": [
      "3463\n"
     ]
    }
   ],
   "source": [
    "import subprocess\n",
    "\n",
    "excel_data_df = pd.read_excel('twiterusernames_scraped.xlsx')\n",
    "follwers_ls = excel_data_df[\"Followers Usernames\"].tolist()\n",
    "print(len(follwers_ls))\n",
    "follwers_ls_s = follwers_ls[:600]"
   ]
  },
  {
   "cell_type": "code",
   "execution_count": 114,
   "id": "3e16634b",
   "metadata": {},
   "outputs": [
    {
     "data": {
      "text/html": [
       "<div>\n",
       "<style scoped>\n",
       "    .dataframe tbody tr th:only-of-type {\n",
       "        vertical-align: middle;\n",
       "    }\n",
       "\n",
       "    .dataframe tbody tr th {\n",
       "        vertical-align: top;\n",
       "    }\n",
       "\n",
       "    .dataframe thead th {\n",
       "        text-align: right;\n",
       "    }\n",
       "</style>\n",
       "<table border=\"1\" class=\"dataframe\">\n",
       "  <thead>\n",
       "    <tr style=\"text-align: right;\">\n",
       "      <th></th>\n",
       "      <th>Follower of</th>\n",
       "      <th>User ID</th>\n",
       "      <th>Name</th>\n",
       "      <th>Screen Name</th>\n",
       "      <th>Private</th>\n",
       "      <th>Verified</th>\n",
       "      <th>Bio</th>\n",
       "      <th>Location</th>\n",
       "      <th>URL</th>\n",
       "      <th>Joined</th>\n",
       "      <th>Tweets</th>\n",
       "      <th>Following</th>\n",
       "      <th>Followers</th>\n",
       "      <th>Likes</th>\n",
       "      <th>Media</th>\n",
       "      <th>Avatar</th>\n",
       "    </tr>\n",
       "  </thead>\n",
       "  <tbody>\n",
       "  </tbody>\n",
       "</table>\n",
       "</div>"
      ],
      "text/plain": [
       "Empty DataFrame\n",
       "Columns: [Follower of, User ID, Name, Screen Name, Private, Verified, Bio, Location, URL, Joined, Tweets, Following, Followers, Likes, Media, Avatar]\n",
       "Index: []"
      ]
     },
     "execution_count": 114,
     "metadata": {},
     "output_type": "execute_result"
    }
   ],
   "source": [
    "df = pd.DataFrame(columns = [\n",
    "    'Follower of',\n",
    "            'User ID',\n",
    "           'Name',\n",
    "           'Screen Name' , \n",
    "           'Private', \n",
    "           'Verified',\n",
    "           'Bio',\n",
    "           'Location',\n",
    "           'URL',\n",
    "           'Joined',\n",
    "           'Tweets',\n",
    "           'Following',\n",
    "           'Followers',\n",
    "           'Likes',\n",
    "           'Media',\n",
    "           'Avatar'])\n",
    "df"
   ]
  },
  {
   "cell_type": "code",
   "execution_count": 107,
   "id": "4f919d76",
   "metadata": {},
   "outputs": [],
   "source": [
    "error_counter = 0"
   ]
  },
  {
   "cell_type": "code",
   "execution_count": 115,
   "id": "cc205241",
   "metadata": {},
   "outputs": [
    {
     "name": "stderr",
     "output_type": "stream",
     "text": [
      "100%|████████████████████████████████████████████████████████████████████████████████| 600/600 [33:27<00:00,  3.35s/it]\n"
     ]
    }
   ],
   "source": [
    "from tqdm import tqdm\n",
    "\n",
    "for name in tqdm(follwers_ls_s):\n",
    "    try:\n",
    "        boo = subprocess.check_output([\"twint\", \"-u\",name,\"--user-full\"],shell=True, stderr=subprocess.STDOUT)\n",
    "        boo = boo.decode()\n",
    "        ls = list(map(str,boo.split(\"|\")))\n",
    "        tdf = {\n",
    "                'Follower of': scraped_handle_name,\n",
    "               'User ID': ls[0][2:],\n",
    "               'Name': ls[1].replace(\"b'\",\"\"),\n",
    "               'Screen Name' :ls[2][1:], \n",
    "               'Private':ls[3][10:] , \n",
    "               'Verified':ls[4][11:] ,\n",
    "               'Bio':ls[5][6:].replace(\"b'\",\"\"),\n",
    "               'Location':ls[6][11:].replace(\"b'\",\"\"),\n",
    "               'URL':ls[7][6:]  ,\n",
    "               'Joined':ls[8][9:] ,\n",
    "               'Tweets':ls[9][9:]  ,\n",
    "               'Following' :ls[10][11:],\n",
    "               'Followers':ls[11][12:] ,\n",
    "               'Likes':ls[12][8:] ,\n",
    "               'Media':ls[13][8:],\n",
    "               'Avatar': ls[14][9:]\n",
    "            }\n",
    "        tdf = pd.DataFrame(tdf,index=[0])\n",
    "        df = pd.concat([df,tdf], ignore_index = True)\n",
    "    except:\n",
    "        error_counter+=1\n",
    "        df.to_excel(\"master_twitter_scraped.xlsx\")\n",
    "    finally:\n",
    "        df.to_excel(\"master_twitter_scraped.xlsx\")\n",
    "        "
   ]
  },
  {
   "cell_type": "code",
   "execution_count": 104,
   "id": "accbf754",
   "metadata": {},
   "outputs": [
    {
     "data": {
      "text/plain": [
       "\" b'Khaki Chadi' \""
      ]
     },
     "execution_count": 104,
     "metadata": {},
     "output_type": "execute_result"
    }
   ],
   "source": [
    "boo = subprocess.check_output([\"twint\", \"-u\",'Khakichadi',\"--user-full\"],shell=True, stderr=subprocess.STDOUT)\n",
    "boo = boo.decode()\n",
    "ls = list(map(str,boo.split(\"|\")))\n",
    "k = ls[1].replace(\"b'\",\"\")\n",
    "k"
   ]
  },
  {
   "cell_type": "code",
   "execution_count": 109,
   "id": "68918a78",
   "metadata": {},
   "outputs": [
    {
     "data": {
      "text/html": [
       "<div>\n",
       "<style scoped>\n",
       "    .dataframe tbody tr th:only-of-type {\n",
       "        vertical-align: middle;\n",
       "    }\n",
       "\n",
       "    .dataframe tbody tr th {\n",
       "        vertical-align: top;\n",
       "    }\n",
       "\n",
       "    .dataframe thead th {\n",
       "        text-align: right;\n",
       "    }\n",
       "</style>\n",
       "<table border=\"1\" class=\"dataframe\">\n",
       "  <thead>\n",
       "    <tr style=\"text-align: right;\">\n",
       "      <th></th>\n",
       "      <th>Follower of</th>\n",
       "      <th>User ID</th>\n",
       "      <th>Name</th>\n",
       "      <th>Screen Name</th>\n",
       "      <th>Private</th>\n",
       "      <th>Verified</th>\n",
       "      <th>Bio</th>\n",
       "      <th>Location</th>\n",
       "      <th>URL</th>\n",
       "      <th>Joined</th>\n",
       "      <th>Tweets</th>\n",
       "      <th>Following</th>\n",
       "      <th>Followers</th>\n",
       "      <th>Likes</th>\n",
       "      <th>Media</th>\n",
       "      <th>Avatar</th>\n",
       "    </tr>\n",
       "  </thead>\n",
       "  <tbody>\n",
       "    <tr>\n",
       "      <th>0</th>\n",
       "      <td>rupinder dhillon</td>\n",
       "      <td>35479981954187264</td>\n",
       "      <td>Nikul solanki Solanki Nikul'</td>\n",
       "      <td>@NikulsolankiSo1</td>\n",
       "      <td>False</td>\n",
       "      <td>False</td>\n",
       "      <td>'</td>\n",
       "      <td>'</td>\n",
       "      <td></td>\n",
       "      <td>2022-06-11 04:33:07 UTC</td>\n",
       "      <td>0</td>\n",
       "      <td>81</td>\n",
       "      <td>3</td>\n",
       "      <td>0</td>\n",
       "      <td>0</td>\n",
       "      <td>https://pbs.twimg.com/profile_images/153548022...</td>\n",
       "    </tr>\n",
       "    <tr>\n",
       "      <th>1</th>\n",
       "      <td>rupinder dhillon</td>\n",
       "      <td>5384329</td>\n",
       "      <td>Barrister\\\\U0001f1f5\\\\U0001f1f0'</td>\n",
       "      <td>@Blitzboy69</td>\n",
       "      <td>False</td>\n",
       "      <td>False</td>\n",
       "      <td>Lawyer, Farmer, Traveller and an Arsenal Fan w...</td>\n",
       "      <td>'</td>\n",
       "      <td></td>\n",
       "      <td>2011-02-21 07:29:49 UTC</td>\n",
       "      <td>5674</td>\n",
       "      <td>2585</td>\n",
       "      <td>591</td>\n",
       "      <td>15719</td>\n",
       "      <td>723</td>\n",
       "      <td>https://pbs.twimg.com/profile_images/155890499...</td>\n",
       "    </tr>\n",
       "    <tr>\n",
       "      <th>2</th>\n",
       "      <td>rupinder dhillon</td>\n",
       "      <td>1852263</td>\n",
       "      <td>mukeshmarda'</td>\n",
       "      <td>@mukeshmarda</td>\n",
       "      <td>False</td>\n",
       "      <td>False</td>\n",
       "      <td>I am a businessman  indian, firm believer in g...</td>\n",
       "      <td>union of States'</td>\n",
       "      <td></td>\n",
       "      <td>2011-05-02 18:27:26 UTC</td>\n",
       "      <td>147872</td>\n",
       "      <td>4745</td>\n",
       "      <td>6161</td>\n",
       "      <td>108472</td>\n",
       "      <td>10145</td>\n",
       "      <td>https://pbs.twimg.com/profile_images/155925502...</td>\n",
       "    </tr>\n",
       "    <tr>\n",
       "      <th>3</th>\n",
       "      <td>rupinder dhillon</td>\n",
       "      <td>25674376</td>\n",
       "      <td>Zomputer'</td>\n",
       "      <td>@zomputer</td>\n",
       "      <td>False</td>\n",
       "      <td>False</td>\n",
       "      <td>Politically - Right to the Center of the Left\\...</td>\n",
       "      <td>'</td>\n",
       "      <td></td>\n",
       "      <td>2015-05-25 01:16:28 UTC</td>\n",
       "      <td>36664</td>\n",
       "      <td>529</td>\n",
       "      <td>142</td>\n",
       "      <td>58888</td>\n",
       "      <td>380</td>\n",
       "      <td>https://pbs.twimg.com/profile_images/746656037...</td>\n",
       "    </tr>\n",
       "    <tr>\n",
       "      <th>4</th>\n",
       "      <td>rupinder dhillon</td>\n",
       "      <td>236235</td>\n",
       "      <td>Harshad Chandre'</td>\n",
       "      <td>@HarshadChandre</td>\n",
       "      <td>False</td>\n",
       "      <td>False</td>\n",
       "      <td>Do visit https://t.co/Fp48Rd0R7c'</td>\n",
       "      <td>Denver, CO'</td>\n",
       "      <td></td>\n",
       "      <td>2009-06-24 06:39:59 UTC</td>\n",
       "      <td>4473</td>\n",
       "      <td>928</td>\n",
       "      <td>296</td>\n",
       "      <td>125637</td>\n",
       "      <td>15</td>\n",
       "      <td>https://pbs.twimg.com/profile_images/669559095...</td>\n",
       "    </tr>\n",
       "  </tbody>\n",
       "</table>\n",
       "</div>"
      ],
      "text/plain": [
       "        Follower of             User ID                                Name  \\\n",
       "0  rupinder dhillon  35479981954187264        Nikul solanki Solanki Nikul'    \n",
       "1  rupinder dhillon            5384329    Barrister\\\\U0001f1f5\\\\U0001f1f0'    \n",
       "2  rupinder dhillon            1852263                        mukeshmarda'    \n",
       "3  rupinder dhillon           25674376                           Zomputer'    \n",
       "4  rupinder dhillon             236235                    Harshad Chandre'    \n",
       "\n",
       "         Screen Name Private Verified  \\\n",
       "0  @NikulsolankiSo1   False    False    \n",
       "1       @Blitzboy69   False    False    \n",
       "2      @mukeshmarda   False    False    \n",
       "3         @zomputer   False    False    \n",
       "4   @HarshadChandre   False    False    \n",
       "\n",
       "                                                 Bio           Location URL  \\\n",
       "0                                                 '                  '        \n",
       "1  Lawyer, Farmer, Traveller and an Arsenal Fan w...                 '        \n",
       "2  I am a businessman  indian, firm believer in g...  union of States'        \n",
       "3  Politically - Right to the Center of the Left\\...                 '        \n",
       "4                 Do visit https://t.co/Fp48Rd0R7c'        Denver, CO'        \n",
       "\n",
       "                     Joined   Tweets Following Followers    Likes   Media  \\\n",
       "0  2022-06-11 04:33:07 UTC        0        81         3        0       0    \n",
       "1  2011-02-21 07:29:49 UTC     5674      2585       591    15719     723    \n",
       "2  2011-05-02 18:27:26 UTC   147872      4745      6161   108472   10145    \n",
       "3  2015-05-25 01:16:28 UTC    36664       529       142    58888     380    \n",
       "4  2009-06-24 06:39:59 UTC     4473       928       296   125637      15    \n",
       "\n",
       "                                              Avatar  \n",
       "0  https://pbs.twimg.com/profile_images/153548022...  \n",
       "1  https://pbs.twimg.com/profile_images/155890499...  \n",
       "2  https://pbs.twimg.com/profile_images/155925502...  \n",
       "3  https://pbs.twimg.com/profile_images/746656037...  \n",
       "4  https://pbs.twimg.com/profile_images/669559095...  "
      ]
     },
     "execution_count": 109,
     "metadata": {},
     "output_type": "execute_result"
    }
   ],
   "source": [
    "df"
   ]
  },
  {
   "cell_type": "code",
   "execution_count": 116,
   "id": "e8c2313e",
   "metadata": {},
   "outputs": [
    {
     "data": {
      "text/plain": [
       "32"
      ]
     },
     "execution_count": 116,
     "metadata": {},
     "output_type": "execute_result"
    }
   ],
   "source": [
    "error_counter"
   ]
  },
  {
   "cell_type": "code",
   "execution_count": null,
   "id": "06c2b0d0",
   "metadata": {},
   "outputs": [],
   "source": []
  }
 ],
 "metadata": {
  "kernelspec": {
   "display_name": "Python 3 (ipykernel)",
   "language": "python",
   "name": "python3"
  },
  "language_info": {
   "codemirror_mode": {
    "name": "ipython",
    "version": 3
   },
   "file_extension": ".py",
   "mimetype": "text/x-python",
   "name": "python",
   "nbconvert_exporter": "python",
   "pygments_lexer": "ipython3",
   "version": "3.9.7"
  }
 },
 "nbformat": 4,
 "nbformat_minor": 5
}
