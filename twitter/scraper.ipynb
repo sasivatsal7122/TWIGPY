{
 "cells": [
  {
   "cell_type": "code",
   "execution_count": 1,
   "id": "3fe7a2a5",
   "metadata": {},
   "outputs": [],
   "source": [
    "from selenium import webdriver\n",
    "from selenium.webdriver.chrome.service import Service\n",
    "from webdriver_manager.chrome import ChromeDriverManager\n",
    "from selenium.webdriver.support.ui import WebDriverWait\n",
    "from selenium.webdriver.support import expected_conditions as EC\n",
    "from selenium.webdriver.common.by import By\n",
    "from selenium.webdriver.chrome.options import Options\n",
    "from selenium.common.exceptions import TimeoutException \n",
    "\n",
    "\n",
    "import pickle\n",
    "from tqdm import tqdm\n",
    "\n",
    "from explicit import waiter, XPATH\n",
    "import time\n",
    "import pandas as pd\n",
    "from bs4 import BeautifulSoup\n",
    "import json"
   ]
  },
  {
   "cell_type": "code",
   "execution_count": 2,
   "id": "38d6ba83",
   "metadata": {},
   "outputs": [],
   "source": [
    "def scrape_twitter(driver,accs):\n",
    "    global master_dict\n",
    "    master_dict = dict()\n",
    "    iter_counter = 0\n",
    "    \n",
    "    for username in tqdm(accs):\n",
    "        if iter_counter>50:\n",
    "            iter_counter = 0 \n",
    "            time.sleep(2)\n",
    "        iter_counter+=1\n",
    "        \n",
    "        try:\n",
    "            \n",
    "            driver.get(f\"https://twitter.com/{username}\")\n",
    "            \n",
    "            try:\n",
    "                WebDriverWait(driver, 20).until(EC.element_to_be_clickable((By.XPATH, \"(//span[text()='Follow']/ancestor::div[@role='button'])[1]\")))\n",
    "            except:\n",
    "                WebDriverWait(driver, 20).until(EC.element_to_be_clickable((By.XPATH, \"(//span[text()='Following']/ancestor::div[@role='button'])[1]\")))\n",
    "                \n",
    "            html_source = driver.page_source\n",
    "            sourcedata = html_source.encode('utf-8')\n",
    "            soup = BeautifulSoup( sourcedata , 'html.parser')\n",
    "\n",
    "\n",
    "            name = soup.find_all('div',{\"class\":\"css-901oao r-1awozwy r-1nao33i r-6koalj r-37j5jr r-adyw6z r-1vr29t4 r-135wba7 r-bcqeeo r-1udh08x r-qvutc0\"})\n",
    "            for i in name:\n",
    "                name = i.find('span',{\"class\":\"css-901oao css-16my406 r-poiln3 r-bcqeeo r-qvutc0\"}).text\n",
    "\n",
    "            screenname = soup.find_all('div',{\"class\":\"css-901oao css-1hf3ou5 r-1bwzh9t r-18u37iz r-37j5jr r-a023e6 r-16dba41 r-rjixqe r-bcqeeo r-qvutc0\"})\n",
    "            screenname = screenname[0].find('span',{\"class\":\"css-901oao css-16my406 r-poiln3 r-bcqeeo r-qvutc0\"}).text\n",
    "\n",
    "            user_id = soup.find(\"img\",{\"alt\":'Opens profile photo'})[\"src\"][37:-21]\n",
    "\n",
    "            fo_fol = soup.find_all('span',{\"class\":\"css-901oao css-16my406 r-1nao33i r-poiln3 r-1b43r93 r-b88u0q r-1cwl3u0 r-bcqeeo r-qvutc0\"})\n",
    "\n",
    "            following_count = fo_fol[0].find(\"span\",{'class':\"css-901oao css-16my406 r-poiln3 r-bcqeeo r-qvutc0\"}).text\n",
    "            followers_count = fo_fol[1].find(\"span\",{'class':\"css-901oao css-16my406 r-poiln3 r-bcqeeo r-qvutc0\"}).text\n",
    "\n",
    "\n",
    "            is_private = False\n",
    "            if soup.find(\"div\",{\"class\":\"css-901oao r-1nao33i r-37j5jr r-1yjpyg1 r-1vr29t4 r-ueyrd6 r-5oul0u r-bcqeeo r-fdjqy7 r-qvutc0\"}):\n",
    "                is_private = True\n",
    "\n",
    "\n",
    "            is_verified = False\n",
    "            if soup.find(\"svg\",{\"aria-label\":\"Verified account\"}):\n",
    "                is_verified = True\n",
    "\n",
    "            tweet_count = soup.find('div',{\"class\":\"css-901oao css-1hf3ou5 r-1bwzh9t r-37j5jr r-n6v787 r-16dba41 r-1cwl3u0 r-bcqeeo r-qvutc0\"}).text.replace(\"Tweets\",\"\").strip()\n",
    "\n",
    "            is_bussiness_acc = False ; bussiness_sector = \"NULL\"\n",
    "            if soup.find(\"span\",{\"data-testid\":\"UserProfessionalCategory\"}):\n",
    "                __ = soup.find(\"span\",{\"data-testid\":\"UserProfessionalCategory\"})\n",
    "                bussiness_sector = __.find(\"span\",{'class':'css-901oao css-16my406 r-poiln3 r-bcqeeo r-qvutc0'}).text\n",
    "                is_bussiness_acc = True\n",
    "\n",
    "            location = \"NULL\"\n",
    "            if soup.find(\"span\",{\"data-testid\":\"UserLocation\"}):\n",
    "                __ = soup.find(\"span\",{\"data-testid\":\"UserLocation\"})\n",
    "                location = __.find(\"span\",{'class':'css-901oao css-16my406 r-poiln3 r-bcqeeo r-qvutc0'}).text\n",
    "\n",
    "            bio_link = \"NULL\"\n",
    "            if soup.find(\"a\",{\"data-testid\":\"UserUrl\"}):\n",
    "                bio_link = soup.find(\"a\",{\"data-testid\":\"UserUrl\"})['href']\n",
    "\n",
    "            date_joined = \"NULL\"\n",
    "            if soup.find(\"span\",{\"data-testid\":\"UserJoinDate\"}):\n",
    "                __ = soup.find(\"span\",{\"data-testid\":\"UserJoinDate\"})\n",
    "                date_joined = __.find(\"span\",{\"class\":\"css-901oao css-16my406 r-poiln3 r-bcqeeo r-qvutc0\"}).text\n",
    "\n",
    "\n",
    "            user_bio = \"NULL\"\n",
    "            if soup.find(\"div\",{\"data-testid\":\"UserDescription\"}):\n",
    "                user_bio = \"\"\n",
    "                __ = soup.find_all(\"div\",{\"data-testid\":\"UserDescription\"})\n",
    "                user_bio = [user_bio+i.text for i in __][0]\n",
    "\n",
    "            data = {\n",
    "\n",
    "                \"user id\" : user_id,\n",
    "                \"screen name\" : screenname,\n",
    "                \"name\" : name,\n",
    "                \"followers\" : followers_count,\n",
    "                \"following\" : following_count,\n",
    "                \"bio\" : user_bio,\n",
    "                \"bio link\" : bio_link,\n",
    "                \"date joined\" : date_joined,\n",
    "                \"location\" : location,\n",
    "                \"is private\" : is_private,\n",
    "                \"is verified\" : is_verified,\n",
    "                \"is bussiness account\" : is_bussiness_acc,\n",
    "                \"bussiness sector\" : bussiness_sector,\n",
    "\n",
    "            }\n",
    "            master_dict.update({screenname:data})\n",
    "            \n",
    "            tdf = pd.DataFrame(data,index=[0])\n",
    "            global df\n",
    "            df = pd.concat([df,tdf], ignore_index = True)\n",
    "        \n",
    "        except TimeoutException:\n",
    "            df.to_excel(\"twitter_scraped.xlsx\")\n",
    "            pass\n",
    "        except IndexError:\n",
    "            mdf.to_excel(\"twitter_scraped.xlsx\")\n",
    "            pass\n",
    "        except TypeError:\n",
    "            df.to_excel(\"twitter_scraped.xlsx\")\n",
    "            pass\n",
    "        finally:\n",
    "            df.to_excel(\"twitter_scraped.xlsx\")"
   ]
  },
  {
   "cell_type": "code",
   "execution_count": 3,
   "id": "297f6594",
   "metadata": {},
   "outputs": [],
   "source": [
    "def scrape_twitter_daddy(driver,accs,acc_name):\n",
    "    global master_dict\n",
    "    master_dict = dict()\n",
    "    iter_counter = 0\n",
    "    \n",
    "    for username in tqdm(accs):\n",
    "        if iter_counter>10:\n",
    "            iter_counter = 0 \n",
    "            time.sleep(2)\n",
    "        iter_counter+=1\n",
    "        \n",
    "        driver.get(f\"https://twitter.com/{username}\")\n",
    "\n",
    "        try:\n",
    "            \n",
    "            WebDriverWait(driver, 30).until(EC.presence_of_element_located((By.CSS_SELECTOR, \"script[data-testid='UserProfileSchema-test']\")))\n",
    "        \n",
    "        except TimeoutException:\n",
    "            continue\n",
    "        \n",
    "        else:\n",
    "            html_source = driver.page_source\n",
    "            sourcedata = html_source.encode('utf-8')\n",
    "            \n",
    "            global soup\n",
    "            soup = BeautifulSoup( sourcedata , 'html.parser')\n",
    "                \n",
    "            js = soup.find(\"script\",{\"data-testid\":\"UserProfileSchema-test\"}).text\n",
    "\n",
    "            js = js.replace(\"\\n\",\"\")\n",
    "            res = json.loads(js)\n",
    "\n",
    "            user_id = res['author']['identifier']\n",
    "            screenname = res['author']['additionalName']\n",
    "            try:\n",
    "                name = res['author']['givenName']\n",
    "            except:\n",
    "                name = \"NULL\"\n",
    "            followers_count = res['author']['interactionStatistic'][0]['userInteractionCount']\n",
    "            following_count = res['author']['interactionStatistic'][1]['userInteractionCount']\n",
    "            tweet_count = res['author']['interactionStatistic'][2]['userInteractionCount']\n",
    "            try:\n",
    "                user_bio = res['author']['description']\n",
    "                if not user_bio:\n",
    "                    user_bio = \"NULL\"\n",
    "            except:\n",
    "                user_bio = \"NULL\"\n",
    "            try:\n",
    "                bio_link = res['relatedLink'][1]\n",
    "            except:\n",
    "                bio_link = \"NULL\"\n",
    "            date_joined = res['dateCreated']\n",
    "            try:\n",
    "                location = res['author']['homeLocation']['name']\n",
    "                if not location:\n",
    "                    location = \"NULL\"\n",
    "            except:\n",
    "                location = \"NULL\"\n",
    "\n",
    "            is_private = 'False'\n",
    "            if soup.find(\"div\",{\"class\":\"css-901oao r-1nao33i r-37j5jr r-1yjpyg1 r-1vr29t4 r-ueyrd6 r-5oul0u r-bcqeeo r-fdjqy7 r-qvutc0\"}):\n",
    "                is_private = 'True'\n",
    "\n",
    "\n",
    "            is_verified = 'False'\n",
    "            if soup.find(\"svg\",{\"aria-label\":\"Verified account\"}):\n",
    "                is_verified = 'True'\n",
    "\n",
    "            is_bussiness_acc = 'False' ; bussiness_sector = \"NULL\"\n",
    "            if soup.find(\"span\",{\"data-testid\":\"UserProfessionalCategory\"}):\n",
    "                __ = soup.find(\"span\",{\"data-testid\":\"UserProfessionalCategory\"})\n",
    "                bussiness_sector = __.find(\"span\",{'class':'css-901oao css-16my406 r-poiln3 r-bcqeeo r-qvutc0'}).text\n",
    "                is_bussiness_acc = 'True'\n",
    "\n",
    "            data = {\n",
    "                \n",
    "                \"follower of\" :acc_name,\n",
    "                \"user id\" : user_id,\n",
    "                \"screen name\" : screenname,\n",
    "                \"name\" : name,\n",
    "                \"followers\" : followers_count,\n",
    "                \"following\" : following_count,\n",
    "                \"bio\" : user_bio,\n",
    "                \"bio link\" : bio_link,\n",
    "                \"date joined\" : date_joined,\n",
    "                \"location\" : location,\n",
    "                \"is private\" : is_private,\n",
    "                \"is verified\" : is_verified,\n",
    "                \"is bussiness account\" : is_bussiness_acc,\n",
    "                \"bussiness sector\" : bussiness_sector,\n",
    "\n",
    "            }\n",
    "            master_dict.update({screenname:data})\n",
    "\n",
    "            tdf = pd.DataFrame(data,index=[0])\n",
    "            global df\n",
    "            df = pd.concat([df,tdf], ignore_index = True)\n",
    "            df.to_excel(f\"phase2/{acc_name}-phase2.xlsx\")"
   ]
  },
  {
   "cell_type": "code",
   "execution_count": 59,
   "id": "c4b54177",
   "metadata": {},
   "outputs": [],
   "source": [
    "username = \"EdgeForex16\"\n",
    "password = \"Success01!\""
   ]
  },
  {
   "cell_type": "code",
   "execution_count": 60,
   "id": "b3d7f957",
   "metadata": {},
   "outputs": [],
   "source": [
    "def login(driver):\n",
    "    driver.get(\"https://twitter.com/i/flow/login\")\n",
    "    waiter.find_write(driver, \"//*[@id='layers']/div/div/div/div/div/div/div[2]/div[2]/div/div/div[2]/div[2]/div/div/div/div[5]/label/div/div[2]/div/input\", username, by=XPATH)\n",
    "    waiter.find_element(driver, \"//*[@id='layers']/div/div/div/div/div/div/div[2]/div[2]/div/div/div[2]/div[2]/div/div/div/div[6]/div\", by=XPATH).click()\n",
    "    waiter.find_write(driver, \"//*[@id='layers']/div/div/div/div/div/div/div[2]/div[2]/div/div/div[2]/div[2]/div[1]/div/div/div[3]/div/label/div/div[2]/div[1]/input\", password, by=XPATH)\n",
    "    waiter.find_element(driver, \"//*[@id='layers']/div/div/div/div/div/div/div[2]/div[2]/div/div/div[2]/div[2]/div[2]/div/div[1]/div/div/div/div\", by=XPATH).click()\n",
    "    time.sleep(4)"
   ]
  },
  {
   "cell_type": "code",
   "execution_count": 4,
   "id": "a7125aa2",
   "metadata": {},
   "outputs": [
    {
     "name": "stderr",
     "output_type": "stream",
     "text": [
      "[WDM] - Current google-chrome version is 105.0.5195\n",
      "[WDM] - Get LATEST driver version for 105.0.5195\n",
      "[WDM] - Driver [C:\\Users\\sasiv\\.wdm\\drivers\\chromedriver\\win32\\105.0.5195.52\\chromedriver.exe] found in cache\n"
     ]
    },
    {
     "name": "stdout",
     "output_type": "stream",
     "text": [
      " \n"
     ]
    }
   ],
   "source": [
    "result_dict = dict()\n",
    "\n",
    "options = Options()\n",
    "\n",
    "options.headless = False\n",
    "options.add_argument(\"--incognito\")\n",
    "driver = webdriver.Chrome(options=options,service=Service(ChromeDriverManager().install())) \n",
    "driver.get(f\"https://www.twitter.com/\")\n",
    "cookies = pickle.load(open(\"twittercookies.pkl\", \"rb\"))\n",
    "for cookie in cookies:\n",
    "    driver.add_cookie(cookie)"
   ]
  },
  {
   "cell_type": "code",
   "execution_count": 5,
   "id": "2a78f6eb",
   "metadata": {},
   "outputs": [],
   "source": [
    "sample_df = pd.read_excel(\"sample.xlsx\")\n",
    "accs = list(sample_df['Followers Usernames'].to_list())\n",
    "accs = accs[145:]"
   ]
  },
  {
   "cell_type": "code",
   "execution_count": 7,
   "id": "cf80cdc1",
   "metadata": {},
   "outputs": [],
   "source": [
    "df = pd.DataFrame(columns = ['user id', 'screen name', 'name', 'followers', 'following', 'bio', 'bio link', 'date joined', 'location', 'is private', 'is verified', 'is bussiness account', 'bussiness sector'])"
   ]
  },
  {
   "cell_type": "code",
   "execution_count": 8,
   "id": "cecd4be0",
   "metadata": {
    "scrolled": false
   },
   "outputs": [
    {
     "name": "stderr",
     "output_type": "stream",
     "text": [
      "  1%|▋                                                                                 | 6/772 [00:19<59:27,  4.66s/it]"
     ]
    },
    {
     "name": "stdout",
     "output_type": "stream",
     "text": [
      "boo\n"
     ]
    },
    {
     "name": "stderr",
     "output_type": "stream",
     "text": [
      " 11%|████████▉                                                                        | 85/772 [02:31<47:23,  4.14s/it]"
     ]
    },
    {
     "name": "stdout",
     "output_type": "stream",
     "text": [
      "boo\n"
     ]
    },
    {
     "name": "stderr",
     "output_type": "stream",
     "text": [
      " 34%|███████████████████████████▎                                                    | 264/772 [08:02<41:55,  4.95s/it]"
     ]
    },
    {
     "name": "stdout",
     "output_type": "stream",
     "text": [
      "boo\n"
     ]
    },
    {
     "name": "stderr",
     "output_type": "stream",
     "text": [
      "\r",
      " 34%|██████████████████████████▊                                                   | 265/772 [08:15<1:01:12,  7.24s/it]"
     ]
    },
    {
     "name": "stdout",
     "output_type": "stream",
     "text": [
      "boo\n"
     ]
    },
    {
     "name": "stderr",
     "output_type": "stream",
     "text": [
      "\r",
      " 34%|██████████████████████████▉                                                   | 266/772 [08:25<1:09:24,  8.23s/it]"
     ]
    },
    {
     "name": "stdout",
     "output_type": "stream",
     "text": [
      "boo\n"
     ]
    },
    {
     "name": "stderr",
     "output_type": "stream",
     "text": [
      "\r",
      " 35%|██████████████████████████▉                                                   | 267/772 [08:36<1:16:02,  9.03s/it]"
     ]
    },
    {
     "name": "stdout",
     "output_type": "stream",
     "text": [
      "boo\n"
     ]
    },
    {
     "name": "stderr",
     "output_type": "stream",
     "text": [
      "\r",
      " 35%|███████████████████████████                                                   | 268/772 [08:47<1:19:14,  9.43s/it]"
     ]
    },
    {
     "name": "stdout",
     "output_type": "stream",
     "text": [
      "boo\n"
     ]
    },
    {
     "name": "stderr",
     "output_type": "stream",
     "text": [
      "\r",
      " 35%|███████████████████████████▏                                                  | 269/772 [08:58<1:23:01,  9.90s/it]"
     ]
    },
    {
     "name": "stdout",
     "output_type": "stream",
     "text": [
      "boo\n"
     ]
    },
    {
     "name": "stderr",
     "output_type": "stream",
     "text": [
      "\r",
      " 35%|███████████████████████████▎                                                  | 270/772 [09:08<1:24:22, 10.08s/it]"
     ]
    },
    {
     "name": "stdout",
     "output_type": "stream",
     "text": [
      "boo\n"
     ]
    },
    {
     "name": "stderr",
     "output_type": "stream",
     "text": [
      "\r",
      " 35%|███████████████████████████▍                                                  | 271/772 [09:19<1:25:40, 10.26s/it]"
     ]
    },
    {
     "name": "stdout",
     "output_type": "stream",
     "text": [
      "boo\n"
     ]
    },
    {
     "name": "stderr",
     "output_type": "stream",
     "text": [
      "\r",
      " 35%|███████████████████████████▍                                                  | 272/772 [09:29<1:26:12, 10.35s/it]"
     ]
    },
    {
     "name": "stdout",
     "output_type": "stream",
     "text": [
      "boo\n"
     ]
    },
    {
     "name": "stderr",
     "output_type": "stream",
     "text": [
      "\r",
      " 35%|███████████████████████████▌                                                  | 273/772 [09:40<1:26:24, 10.39s/it]"
     ]
    },
    {
     "name": "stdout",
     "output_type": "stream",
     "text": [
      "boo\n"
     ]
    },
    {
     "name": "stderr",
     "output_type": "stream",
     "text": [
      "\r",
      " 35%|███████████████████████████▋                                                  | 274/772 [09:51<1:26:39, 10.44s/it]"
     ]
    },
    {
     "name": "stdout",
     "output_type": "stream",
     "text": [
      "boo\n"
     ]
    },
    {
     "name": "stderr",
     "output_type": "stream",
     "text": [
      "\r",
      " 36%|███████████████████████████▊                                                  | 275/772 [10:02<1:27:49, 10.60s/it]"
     ]
    },
    {
     "name": "stdout",
     "output_type": "stream",
     "text": [
      "boo\n"
     ]
    },
    {
     "name": "stderr",
     "output_type": "stream",
     "text": [
      "\r",
      " 36%|███████████████████████████▉                                                  | 276/772 [10:14<1:32:42, 11.21s/it]"
     ]
    },
    {
     "name": "stdout",
     "output_type": "stream",
     "text": [
      "boo\n"
     ]
    },
    {
     "name": "stderr",
     "output_type": "stream",
     "text": [
      "\r",
      " 36%|███████████████████████████▉                                                  | 277/772 [10:25<1:30:48, 11.01s/it]"
     ]
    },
    {
     "name": "stdout",
     "output_type": "stream",
     "text": [
      "boo\n"
     ]
    },
    {
     "name": "stderr",
     "output_type": "stream",
     "text": [
      "\r",
      " 36%|████████████████████████████                                                  | 278/772 [10:36<1:30:44, 11.02s/it]"
     ]
    },
    {
     "name": "stdout",
     "output_type": "stream",
     "text": [
      "boo\n"
     ]
    },
    {
     "name": "stderr",
     "output_type": "stream",
     "text": [
      "\r",
      " 36%|████████████████████████████▏                                                 | 279/772 [10:47<1:31:02, 11.08s/it]"
     ]
    },
    {
     "name": "stdout",
     "output_type": "stream",
     "text": [
      "boo\n"
     ]
    },
    {
     "name": "stderr",
     "output_type": "stream",
     "text": [
      " 37%|█████████████████████████████▉                                                  | 289/772 [11:15<38:32,  4.79s/it]"
     ]
    },
    {
     "name": "stdout",
     "output_type": "stream",
     "text": [
      "boo\n"
     ]
    },
    {
     "name": "stderr",
     "output_type": "stream",
     "text": [
      "\r",
      " 38%|██████████████████████████████                                                  | 290/772 [11:26<54:50,  6.83s/it]"
     ]
    },
    {
     "name": "stdout",
     "output_type": "stream",
     "text": [
      "boo\n"
     ]
    },
    {
     "name": "stderr",
     "output_type": "stream",
     "text": [
      "\r",
      " 38%|█████████████████████████████▍                                                | 291/772 [11:37<1:05:08,  8.13s/it]"
     ]
    },
    {
     "name": "stdout",
     "output_type": "stream",
     "text": [
      "boo\n"
     ]
    },
    {
     "name": "stderr",
     "output_type": "stream",
     "text": [
      "\r",
      " 38%|█████████████████████████████▌                                                | 292/772 [11:48<1:11:54,  8.99s/it]"
     ]
    },
    {
     "name": "stdout",
     "output_type": "stream",
     "text": [
      "boo\n"
     ]
    },
    {
     "name": "stderr",
     "output_type": "stream",
     "text": [
      "\r",
      " 38%|█████████████████████████████▌                                                | 293/772 [12:00<1:18:16,  9.80s/it]"
     ]
    },
    {
     "name": "stdout",
     "output_type": "stream",
     "text": [
      "boo\n"
     ]
    },
    {
     "name": "stderr",
     "output_type": "stream",
     "text": [
      "\r",
      " 38%|█████████████████████████████▋                                                | 294/772 [12:11<1:21:52, 10.28s/it]"
     ]
    },
    {
     "name": "stdout",
     "output_type": "stream",
     "text": [
      "boo\n"
     ]
    },
    {
     "name": "stderr",
     "output_type": "stream",
     "text": [
      "\r",
      " 38%|█████████████████████████████▊                                                | 295/772 [12:23<1:23:41, 10.53s/it]"
     ]
    },
    {
     "name": "stdout",
     "output_type": "stream",
     "text": [
      "boo\n"
     ]
    },
    {
     "name": "stderr",
     "output_type": "stream",
     "text": [
      "\r",
      " 38%|█████████████████████████████▉                                                | 296/772 [12:34<1:25:20, 10.76s/it]"
     ]
    },
    {
     "name": "stdout",
     "output_type": "stream",
     "text": [
      "boo\n"
     ]
    },
    {
     "name": "stderr",
     "output_type": "stream",
     "text": [
      "\r",
      " 38%|██████████████████████████████                                                | 297/772 [12:45<1:26:06, 10.88s/it]"
     ]
    },
    {
     "name": "stdout",
     "output_type": "stream",
     "text": [
      "boo\n"
     ]
    },
    {
     "name": "stderr",
     "output_type": "stream",
     "text": [
      " 40%|███████████████████████████████▌                                                | 305/772 [13:11<38:50,  4.99s/it]"
     ]
    },
    {
     "name": "stdout",
     "output_type": "stream",
     "text": [
      "boo\n"
     ]
    },
    {
     "name": "stderr",
     "output_type": "stream",
     "text": [
      "\r",
      " 40%|███████████████████████████████▋                                                | 306/772 [13:22<52:42,  6.79s/it]"
     ]
    },
    {
     "name": "stdout",
     "output_type": "stream",
     "text": [
      "boo\n"
     ]
    },
    {
     "name": "stderr",
     "output_type": "stream",
     "text": [
      " 42%|█████████████████████████████████▌                                              | 324/772 [14:32<35:24,  4.74s/it]"
     ]
    },
    {
     "name": "stdout",
     "output_type": "stream",
     "text": [
      "boo\n"
     ]
    },
    {
     "name": "stderr",
     "output_type": "stream",
     "text": [
      "\r",
      " 42%|█████████████████████████████████▋                                              | 325/772 [14:43<49:03,  6.59s/it]"
     ]
    },
    {
     "name": "stdout",
     "output_type": "stream",
     "text": [
      "boo\n"
     ]
    },
    {
     "name": "stderr",
     "output_type": "stream",
     "text": [
      "\r",
      " 42%|█████████████████████████████████▊                                              | 326/772 [14:54<59:03,  7.94s/it]"
     ]
    },
    {
     "name": "stdout",
     "output_type": "stream",
     "text": [
      "boo\n"
     ]
    },
    {
     "name": "stderr",
     "output_type": "stream",
     "text": [
      " 69%|███████████████████████████████████████████████████████▍                        | 535/772 [22:06<17:21,  4.39s/it]"
     ]
    },
    {
     "name": "stdout",
     "output_type": "stream",
     "text": [
      "boo\n"
     ]
    },
    {
     "name": "stderr",
     "output_type": "stream",
     "text": [
      "\r",
      " 69%|███████████████████████████████████████████████████████▌                        | 536/772 [22:17<25:05,  6.38s/it]"
     ]
    },
    {
     "name": "stdout",
     "output_type": "stream",
     "text": [
      "boo\n"
     ]
    },
    {
     "name": "stderr",
     "output_type": "stream",
     "text": [
      "\r",
      " 70%|███████████████████████████████████████████████████████▋                        | 537/772 [22:29<30:47,  7.86s/it]"
     ]
    },
    {
     "name": "stdout",
     "output_type": "stream",
     "text": [
      "boo\n"
     ]
    },
    {
     "name": "stderr",
     "output_type": "stream",
     "text": [
      "\r",
      " 70%|███████████████████████████████████████████████████████▊                        | 538/772 [22:40<34:26,  8.83s/it]"
     ]
    },
    {
     "name": "stdout",
     "output_type": "stream",
     "text": [
      "boo\n"
     ]
    },
    {
     "name": "stderr",
     "output_type": "stream",
     "text": [
      "\r",
      " 70%|███████████████████████████████████████████████████████▊                        | 539/772 [22:51<37:03,  9.54s/it]"
     ]
    },
    {
     "name": "stdout",
     "output_type": "stream",
     "text": [
      "boo\n"
     ]
    },
    {
     "name": "stderr",
     "output_type": "stream",
     "text": [
      "\r",
      " 70%|███████████████████████████████████████████████████████▉                        | 540/772 [23:04<41:32, 10.74s/it]"
     ]
    },
    {
     "name": "stdout",
     "output_type": "stream",
     "text": [
      "boo\n"
     ]
    },
    {
     "name": "stderr",
     "output_type": "stream",
     "text": [
      "\r",
      " 70%|████████████████████████████████████████████████████████                        | 541/772 [23:15<41:37, 10.81s/it]"
     ]
    },
    {
     "name": "stdout",
     "output_type": "stream",
     "text": [
      "boo\n"
     ]
    },
    {
     "name": "stderr",
     "output_type": "stream",
     "text": [
      "\r",
      " 70%|████████████████████████████████████████████████████████▏                       | 542/772 [23:27<42:15, 11.02s/it]"
     ]
    },
    {
     "name": "stdout",
     "output_type": "stream",
     "text": [
      "boo\n"
     ]
    },
    {
     "name": "stderr",
     "output_type": "stream",
     "text": [
      "\r",
      " 70%|████████████████████████████████████████████████████████▎                       | 543/772 [23:38<42:03, 11.02s/it]"
     ]
    },
    {
     "name": "stdout",
     "output_type": "stream",
     "text": [
      "boo\n"
     ]
    },
    {
     "name": "stderr",
     "output_type": "stream",
     "text": [
      "\r",
      " 70%|████████████████████████████████████████████████████████▎                       | 544/772 [23:49<42:15, 11.12s/it]"
     ]
    },
    {
     "name": "stdout",
     "output_type": "stream",
     "text": [
      "boo\n"
     ]
    },
    {
     "name": "stderr",
     "output_type": "stream",
     "text": [
      "\r",
      " 71%|████████████████████████████████████████████████████████▍                       | 545/772 [24:00<41:54, 11.08s/it]"
     ]
    },
    {
     "name": "stdout",
     "output_type": "stream",
     "text": [
      "boo\n"
     ]
    },
    {
     "name": "stderr",
     "output_type": "stream",
     "text": [
      "\r",
      " 71%|████████████████████████████████████████████████████████▌                       | 546/772 [24:11<41:47, 11.09s/it]"
     ]
    },
    {
     "name": "stdout",
     "output_type": "stream",
     "text": [
      "boo\n"
     ]
    },
    {
     "name": "stderr",
     "output_type": "stream",
     "text": [
      "\r",
      " 71%|████████████████████████████████████████████████████████▋                       | 547/772 [24:23<41:42, 11.12s/it]"
     ]
    },
    {
     "name": "stdout",
     "output_type": "stream",
     "text": [
      "boo\n"
     ]
    },
    {
     "name": "stderr",
     "output_type": "stream",
     "text": [
      "\r",
      " 71%|████████████████████████████████████████████████████████▊                       | 548/772 [24:34<41:34, 11.14s/it]"
     ]
    },
    {
     "name": "stdout",
     "output_type": "stream",
     "text": [
      "boo\n"
     ]
    },
    {
     "name": "stderr",
     "output_type": "stream",
     "text": [
      " 72%|█████████████████████████████████████████████████████████▊                      | 558/772 [25:11<17:24,  4.88s/it]"
     ]
    },
    {
     "name": "stdout",
     "output_type": "stream",
     "text": [
      "boo\n"
     ]
    },
    {
     "name": "stderr",
     "output_type": "stream",
     "text": [
      " 75%|████████████████████████████████████████████████████████████▏                   | 581/772 [26:09<14:13,  4.47s/it]"
     ]
    },
    {
     "name": "stdout",
     "output_type": "stream",
     "text": [
      "boo\n"
     ]
    },
    {
     "name": "stderr",
     "output_type": "stream",
     "text": [
      "100%|████████████████████████████████████████████████████████████████████████████████| 772/772 [32:54<00:00,  2.56s/it]\n"
     ]
    }
   ],
   "source": [
    "scrape_twitter_daddy(driver,accs)"
   ]
  },
  {
   "cell_type": "code",
   "execution_count": 29,
   "id": "c7231b3c",
   "metadata": {},
   "outputs": [
    {
     "data": {
      "text/plain": [
       "5"
      ]
     },
     "execution_count": 29,
     "metadata": {},
     "output_type": "execute_result"
    }
   ],
   "source": [
    "len(master_dict)"
   ]
  },
  {
   "cell_type": "code",
   "execution_count": 57,
   "id": "c8f6168f",
   "metadata": {},
   "outputs": [
    {
     "data": {
      "text/plain": [
       "<html dir=\"ltr\" lang=\"en\" style=\"overflow-y: scroll; overscroll-behavior-y: none; font-size: 15px;\"><head><style>input::placeholder { user-select: none; -webkit-user-select: none; } iframe { color-scheme: auto; }</style><style>@font-face {\n",
       "  font-family: TwitterChirpExtendedHeavy;\n",
       "  src: url(https://abs.twimg.com/fonts/v1/chirp-extended-heavy-web.woff2) format('woff2');\n",
       "  src: url(https://abs.twimg.com/fonts/v1/chirp-extended-heavy-web.woff) format('woff');\n",
       "  font-weight: 800;\n",
       "  font-style: 'normal';\n",
       "  font-display: 'swap';\n",
       "}\n",
       "@font-face {\n",
       "  font-family: TwitterChirp;\n",
       "  src: url(https://abs.twimg.com/fonts/v2/chirp-regular-web.woff2) format('woff2');\n",
       "  src: url(https://abs.twimg.com/fonts/v2/chirp-regular-web.woff) format('woff');\n",
       "  font-weight: 400;\n",
       "  font-style: 'normal';\n",
       "  font-display: 'swap';\n",
       "}\n",
       "@font-face {\n",
       "  font-family: TwitterChirp;\n",
       "  src: url(https://abs.twimg.com/fonts/v2/chirp-medium-web.woff2) format('woff2');\n",
       "  src: url(https://abs.twimg.com/fonts/v2/chirp-medium-web.woff) format('woff');\n",
       "  font-weight: 500;\n",
       "  font-style: 'normal';\n",
       "  font-display: 'swap';\n",
       "}\n",
       "@font-face {\n",
       "  font-family: TwitterChirp;\n",
       "  src: url(https://abs.twimg.com/fonts/v2/chirp-bold-web.woff2) format('woff2');\n",
       "  src: url(https://abs.twimg.com/fonts/v2/chirp-bold-web.woff) format('woff');\n",
       "  font-weight: 700;\n",
       "  font-style: 'normal';\n",
       "  font-display: 'swap';\n",
       "}\n",
       "@font-face {\n",
       "  font-family: TwitterChirp;\n",
       "  src: url(https://abs.twimg.com/fonts/v2/chirp-heavy-web.woff2) format('woff2');\n",
       "  src: url(https://abs.twimg.com/fonts/v2/chirp-heavy-web.woff) format('woff');\n",
       "  font-weight: 800;\n",
       "  font-style: 'normal';\n",
       "  font-display: 'swap';\n",
       "}</style>\n",
       "<meta charset=\"utf-8\"/>\n",
       "<meta content=\"width=device-width,initial-scale=1,maximum-scale=1,user-scalable=0,viewport-fit=cover\" name=\"viewport\"/><link href=\"//abs.twimg.com\" rel=\"preconnect\"/><link href=\"//abs.twimg.com\" rel=\"dns-prefetch\"/><link href=\"//api.twitter.com\" rel=\"preconnect\"/><link href=\"//api.twitter.com\" rel=\"dns-prefetch\"/><link href=\"//pbs.twimg.com\" rel=\"preconnect\"/><link href=\"//pbs.twimg.com\" rel=\"dns-prefetch\"/><link href=\"//t.co\" rel=\"preconnect\"/><link href=\"//t.co\" rel=\"dns-prefetch\"/><link href=\"//video.twimg.com\" rel=\"preconnect\"/><link href=\"//video.twimg.com\" rel=\"dns-prefetch\"/><link as=\"script\" crossorigin=\"anonymous\" href=\"https://abs.twimg.com/responsive-web/client-web/feature-switch-manifest.8dc1d9e9.js\" nonce=\"\" rel=\"preload\"/><link as=\"script\" crossorigin=\"anonymous\" href=\"https://abs.twimg.com/responsive-web/client-web/vendor.77b95e49.js\" nonce=\"\" rel=\"preload\"/><link as=\"script\" crossorigin=\"anonymous\" href=\"https://abs.twimg.com/responsive-web/client-web/i18n/en.55305ad9.js\" nonce=\"\" rel=\"preload\"/><link as=\"script\" crossorigin=\"anonymous\" href=\"https://abs.twimg.com/responsive-web/client-web/main.c2f63e89.js\" nonce=\"\" rel=\"preload\"/><meta content=\"2231777543\" property=\"fb:app_id\"/>\n",
       "<meta content=\"Twitter\" property=\"og:site_name\"/><meta content=\"acYOOcR5z6puMzLn6hLDZI1nNHXPxt57OIstz1vnCV0\" name=\"google-site-verification\"/><meta content=\"x6sdcc8b5ju3bh8nbm59eswogvg6t1\" name=\"facebook-domain-verification\"/><meta content=\"https://twitter3e4tixl4xyajtrzo62zg5vztmjuricljdp2c5kshju4avyoid.onion/\" http-equiv=\"onion-location\"/><link crossorigin=\"use-credentials\" href=\"/manifest.json\" rel=\"manifest\"/><link href=\"https://twitter.com/wwandai\" hreflang=\"x-default\" rel=\"alternate\"/><link href=\"/opensearch.xml\" rel=\"search\" title=\"Twitter\" type=\"application/opensearchdescription+xml\"/><link color=\"#1D9BF0\" href=\"https://abs.twimg.com/responsive-web/client-web/icon-svg.168b89d9.svg\" rel=\"mask-icon\" sizes=\"any\"/><link href=\"https://abs.twimg.com/favicons/twitter-pip.2.ico\" rel=\"shortcut icon\"/><link href=\"https://abs.twimg.com/responsive-web/client-web/icon-ios.b1fc7279.png\" rel=\"apple-touch-icon\" sizes=\"192x192\"/><meta content=\"yes\" name=\"mobile-web-app-capable\"/>\n",
       "<meta content=\"Twitter\" name=\"apple-mobile-web-app-title\"/>\n",
       "<meta content=\"white\" name=\"apple-mobile-web-app-status-bar-style\"/>\n",
       "<meta content=\"#000000\" name=\"theme-color\"/>\n",
       "<script type=\"application/ld+json\">{\"@context\":\"https://schema.org\",\"@type\":\"WebSite\",\"url\":\"https://twitter.com/\",\"potentialAction\":{\"@type\":\"SearchAction\",\"query-input\":\"required name=search_term_string\",\"target\":{\"@type\":\"EntryPoint\",\"urlTemplate\":\"https://twitter.com/search?q={search_term_string}&ref_src=twcamp%5Eseo_searchbox%7Ctwsrc%5Eseo\"}}}</script><meta content=\"AlpCmb40F5ZjDi9ZYe+wnr/V8MF+XmY41K4qUhoq+2mbepJTNd3q4CRqlACfnythEPZqcjryfAS1+ExS0FFRcA8AAABmeyJvcmlnaW4iOiJodHRwczovL3R3aXR0ZXIuY29tOjQ0MyIsImZlYXR1cmUiOiJMYXVuY2ggSGFuZGxlciIsImV4cGlyeSI6MTY1NTI1MTE5OSwiaXNTdWJkb21haW4iOnRydWV9\" http-equiv=\"origin-trial\"/><style>html,body{height: 100%;}</style><style id=\"react-native-stylesheet\">[stylesheet-group=\"0\"]{}\n",
       "html{-ms-text-size-adjust:100%;-webkit-text-size-adjust:100%;-webkit-tap-highlight-color:rgba(0,0,0,0);}\n",
       "body{margin:0;}\n",
       "button::-moz-focus-inner,input::-moz-focus-inner{border:0;padding:0;}\n",
       "input::-webkit-search-cancel-button,input::-webkit-search-decoration,input::-webkit-search-results-button,input::-webkit-search-results-decoration{display:none;}\n",
       "[stylesheet-group=\"0.1\"]{}\n",
       ":focus:not([data-focusvisible-polyfill]){outline: none;}\n",
       "[stylesheet-group=\"1\"]{}\n",
       ".css-1dbjc4n{-ms-flex-align:stretch;-ms-flex-direction:column;-ms-flex-negative:0;-ms-flex-preferred-size:auto;-webkit-align-items:stretch;-webkit-box-align:stretch;-webkit-box-direction:normal;-webkit-box-orient:vertical;-webkit-flex-basis:auto;-webkit-flex-direction:column;-webkit-flex-shrink:0;align-items:stretch;border:0 solid black;box-sizing:border-box;display:-webkit-box;display:-moz-box;display:-ms-flexbox;display:-webkit-flex;display:flex;flex-basis:auto;flex-direction:column;flex-shrink:0;margin-bottom:0px;margin-left:0px;margin-right:0px;margin-top:0px;min-height:0px;min-width:0px;padding-bottom:0px;padding-left:0px;padding-right:0px;padding-top:0px;position:relative;z-index:0;}\n",
       ".css-901oao{border:0 solid black;box-sizing:border-box;color:rgba(0,0,0,1.00);display:inline;font:14px -apple-system,BlinkMacSystemFont,\"Segoe UI\",Roboto,Helvetica,Arial,sans-serif;margin-bottom:0px;margin-left:0px;margin-right:0px;margin-top:0px;padding-bottom:0px;padding-left:0px;padding-right:0px;padding-top:0px;white-space:pre-wrap;word-wrap:break-word;}\n",
       ".css-16my406{color:inherit;font:inherit;white-space:inherit;}\n",
       "[stylesheet-group=\"2\"]{}\n",
       ".r-13awgt0{-ms-flex:1 1 0%;-webkit-flex:1;flex:1;}\n",
       ".r-4qtqp9{display:inline-block;}\n",
       ".r-ywje51{margin-bottom:auto;margin-left:auto;margin-right:auto;margin-top:auto;}\n",
       ".r-hvic4v{display:none;}\n",
       ".r-1adg3ll{display:block;}\n",
       "[stylesheet-group=\"2.2\"]{}\n",
       ".r-12vffkv>*{pointer-events:auto;}\n",
       ".r-12vffkv{pointer-events:none!important;}\n",
       ".r-14lw9ot{background-color:rgba(255,255,255,1.00);}\n",
       ".r-1p0dtai{bottom:0px;}\n",
       ".r-1d2f490{left:0px;}\n",
       ".r-1xcajam{position:fixed;}\n",
       ".r-zchlnj{right:0px;}\n",
       ".r-ipm5af{top:0px;}\n",
       ".r-yyyyoo{fill:currentcolor;}\n",
       ".r-1xvli5t{height:1.25em;}\n",
       ".r-dnmrzs{max-width:100%;}\n",
       ".r-bnwqim{position:relative;}\n",
       ".r-1plcrui{vertical-align:text-bottom;}\n",
       ".r-lrvibr{-moz-user-select:none;-ms-user-select:none;-webkit-user-select:none;user-select:none;}\n",
       ".r-13gxpu9{color:rgba(29,161,242,1.00);}\n",
       ".r-wy61xf{height:72px;}\n",
       ".r-u8s1d{position:absolute;}\n",
       ".r-1blnp2b{width:72px;}\n",
       ".r-1ykxob0{top:60%;}\n",
       ".r-q4m81j{text-align:center;}\n",
       ".r-bcqeeo{min-width:0px;}\n",
       ".r-qvutc0{word-wrap:break-word;}\n",
       ".r-rjixqe{line-height:20px;}\n",
       ".r-1qd0xha{font-family:-apple-system,BlinkMacSystemFont,\"Segoe UI\",Roboto,Helvetica,Arial,sans-serif;}\n",
       ".r-a023e6{font-size:15px;}\n",
       ".r-16dba41{font-weight:400;}\n",
       ".r-poiln3{font-family:inherit;}</style><title>Profile / Twitter</title><link data-rh=\"true\" href=\"https://twitter.com/fayvrr\" rel=\"canonical\"/><meta content=\"Profile / Twitter\" data-rh=\"true\" property=\"og:title\"/><script async=\"\" src=\"https://www.google-analytics.com/analytics.js\"></script><meta content=\"profile\" data-rh=\"true\" property=\"og:type\"/></head>\n",
       "<body style=\"background-color: rgb(0, 0, 0);\">\n",
       "<noscript>\n",
       "<style>\n",
       "    body {\n",
       "      -ms-overflow-style: scrollbar;\n",
       "      overflow-y: scroll;\n",
       "      overscroll-behavior-y: none;\n",
       "    }\n",
       "\n",
       "    .errorContainer {\n",
       "      background-color: #FFF;\n",
       "      color: #0F1419;\n",
       "      max-width: 600px;\n",
       "      margin: 0 auto;\n",
       "      padding: 10%;\n",
       "      font-family: Helvetica, sans-serif;\n",
       "      font-size: 16px;\n",
       "    }\n",
       "\n",
       "    .errorButton {\n",
       "      margin: 3em 0;\n",
       "    }\n",
       "\n",
       "    .errorButton a {\n",
       "      background: #1DA1F2;\n",
       "      border-radius: 2.5em;\n",
       "      color: white;\n",
       "      padding: 1em 2em;\n",
       "      text-decoration: none;\n",
       "    }\n",
       "\n",
       "    .errorButton a:hover,\n",
       "    .errorButton a:focus {\n",
       "      background: rgb(26, 145, 218);\n",
       "    }\n",
       "\n",
       "    .errorFooter {\n",
       "      color: #657786;\n",
       "      font-size: 80%;\n",
       "      line-height: 1.5;\n",
       "      padding: 1em 0;\n",
       "    }\n",
       "\n",
       "    .errorFooter a,\n",
       "    .errorFooter a:visited {\n",
       "      color: #657786;\n",
       "      text-decoration: none;\n",
       "      padding-right: 1em;\n",
       "    }\n",
       "\n",
       "    .errorFooter a:hover,\n",
       "    .errorFooter a:active {\n",
       "      text-decoration: underline;\n",
       "    }\n",
       "\n",
       "      #placeholder,\n",
       "      #react-root {\n",
       "        display: none !important;\n",
       "      }\n",
       "      body {\n",
       "        background-color: #FFF !important;\n",
       "      }\n",
       "    </style>\n",
       "<div class=\"errorContainer\">\n",
       "<img alt=\"Twitter\" height=\"38\" src=\"https://abs.twimg.com/errors/logo46x38.png\" srcset=\"https://abs.twimg.com/errors/logo46x38.png 1x, https://abs.twimg.com/errors/logo46x38@2x.png 2x\" width=\"46\"/>\n",
       "<h1>JavaScript is not available.</h1>\n",
       "<p>We’ve detected that JavaScript is disabled in this browser. Please enable JavaScript or switch to a supported browser to continue using twitter.com. You can see a list of supported browsers in our Help Center.</p>\n",
       "<p class=\"errorButton\"><a href=\"https://help.twitter.com/using-twitter/twitter-supported-browsers\">Help Center</a></p>\n",
       "<p class=\"errorFooter\">\n",
       "<a href=\"https://twitter.com/tos\">Terms of Service</a>\n",
       "<a href=\"https://twitter.com/privacy\">Privacy Policy</a>\n",
       "<a href=\"https://support.twitter.com/articles/20170514\">Cookie Policy</a>\n",
       "<a href=\"https://legal.twitter.com/imprint.html\">Imprint</a>\n",
       "<a href=\"https://business.twitter.com/en/help/troubleshooting/how-twitter-ads-work.html?ref=web-twc-ao-gbl-adsinfo&amp;utm_source=twc&amp;utm_medium=web&amp;utm_campaign=ao&amp;utm_content=adsinfo\">Ads info</a>\n",
       "      © 2022 Twitter, Inc.\n",
       "    </p>\n",
       "</div>\n",
       "</noscript><div id=\"react-root\" style=\"height:100%;display:flex;\"><div class=\"css-1dbjc4n r-13awgt0 r-12vffkv\"><div class=\"css-1dbjc4n r-13awgt0 r-12vffkv\"><h2 aria-level=\"2\" class=\"css-4rbku5 css-1dbjc4n r-4iw3lz r-1xk2f4g r-109y4c4 r-1udh08x r-wwvuq4 r-u8s1d r-92ng3h\" role=\"heading\"><div class=\"css-901oao r-1nao33i r-37j5jr r-a023e6 r-16dba41 r-rjixqe r-bcqeeo r-qvutc0\" dir=\"auto\" style=\"\"><span class=\"css-901oao css-16my406 r-poiln3 r-bcqeeo r-qvutc0\">To view keyboard shortcuts, press question mark</span></div><a class=\"css-4rbku5 css-18t94o4 css-901oao r-1loqt21 r-37j5jr r-a023e6 r-16dba41 r-rjixqe r-bcqeeo r-qvutc0\" dir=\"auto\" href=\"/i/keyboard_shortcuts\" role=\"link\" style=\"color: rgb(29, 155, 240);\" tabindex=\"-1\"><span class=\"css-901oao css-16my406 r-poiln3 r-bcqeeo r-qvutc0\">View keyboard shortcuts</span></a></h2><div class=\"r-1d2f490 r-u8s1d r-zchlnj r-ipm5af r-184en5c\" id=\"layers\" style=\"\"><div class=\"css-1dbjc4n r-aqfbo4 r-1p0dtai r-1d2f490 r-12vffkv r-1xcajam r-zchlnj\"><div class=\"css-1dbjc4n r-12vffkv\"><div class=\"css-1dbjc4n r-12vffkv\"><div class=\"css-1dbjc4n\" data-testid=\"BottomBar\"></div></div></div></div></div><div aria-hidden=\"false\" class=\"css-1dbjc4n r-18u37iz r-13qz1uu r-417010\" data-at-shortcutkeys='{\"n\":\"New Tweet\",\"CTRL Enter\":\"Send Tweet\",\"m\":\"Mute selected Video\",\"/\":\"Search\",\"l\":\"Like\",\"r\":\"Reply\",\"t\":\"Retweet\",\"s\":\"Share Tweet\",\"b\":\"Bookmark\",\"u\":\"Mute account\",\"x\":\"Block account\",\"Enter\":\"Open Tweet details\",\"o\":\"Expand photo\",\"i\":\"Open/Close Messages dock\",\"k\":\"Previous Tweet\",\"space\":\"Pause/Play selected Video\",\"a d\":\"Go to Audio Dock\",\"a space\":\"Play/Pause Audio Dock\",\"a m\":\"Mute/Unmute Audio Dock\",\"?\":\"Shortcut help\",\"j\":\"Next Tweet\",\"Space\":\"Page down\",\".\":\"Load new Tweets\",\"g h\":\"Home\",\"g e\":\"Explore\",\"g n\":\"Notifications\",\"g r\":\"Mentions\",\"g p\":\"Profile\",\"g f\":\"Drafts\",\"g t\":\"Scheduled Tweets\",\"g l\":\"Likes\",\"g i\":\"Lists\",\"g m\":\"Direct Messages\",\"g c\":\"Moment Maker\",\"g s\":\"Settings\",\"g b\":\"Bookmarks\",\"g u\":\"Go to user…\",\"g d\":\"Display settings\"}' style=\"min-height: 801px;\"><div aria-label=\"Skip to home timeline\" class=\"css-18t94o4 css-1dbjc4n r-1niwhzg r-sdzlij r-1phboty r-4iw3lz r-1xk2f4g r-109y4c4 r-2yi16 r-1qi8awa r-1ny4l3l r-1udh08x r-wwvuq4 r-u8s1d r-o7ynqc r-6416eg r-lrvibr r-92ng3h\" role=\"button\" style=\"border-color: rgb(83, 100, 113);\" tabindex=\"0\"><div class=\"css-901oao r-1awozwy r-6koalj r-18u37iz r-16y2uox r-37j5jr r-a023e6 r-b88u0q r-1777fci r-rjixqe r-bcqeeo r-q4m81j r-qvutc0\" dir=\"auto\" style=\"color: rgb(239, 243, 244);\"><span class=\"css-901oao css-16my406 css-1hf3ou5 r-poiln3 r-a023e6 r-rjixqe r-bcqeeo r-qvutc0\"></span></div></div><div aria-label=\"Skip to trending\" class=\"css-18t94o4 css-1dbjc4n r-1niwhzg r-sdzlij r-1phboty r-4iw3lz r-1xk2f4g r-109y4c4 r-2yi16 r-1qi8awa r-1ny4l3l r-1udh08x r-wwvuq4 r-u8s1d r-o7ynqc r-6416eg r-lrvibr r-92ng3h\" role=\"button\" style=\"border-color: rgb(83, 100, 113);\" tabindex=\"0\"><div class=\"css-901oao r-1awozwy r-6koalj r-18u37iz r-16y2uox r-37j5jr r-a023e6 r-b88u0q r-1777fci r-rjixqe r-bcqeeo r-q4m81j r-qvutc0\" dir=\"auto\" style=\"color: rgb(239, 243, 244);\"><span class=\"css-901oao css-16my406 css-1hf3ou5 r-poiln3 r-a023e6 r-rjixqe r-bcqeeo r-qvutc0\"></span></div></div><header class=\"css-1dbjc4n r-obd0qt r-16y2uox r-lrvibr r-1g40b8q\" role=\"banner\"><div class=\"css-1dbjc4n r-1gymjhz\"><div class=\"css-1dbjc4n r-aqfbo4 r-1pi2tsx r-1xcajam r-ipm5af\"><div class=\"css-1dbjc4n r-1pi2tsx r-1wtj0ep r-1rnoaur r-s1qlax r-1gymjhz\"><div class=\"css-1dbjc4n r-1awozwy\"><div class=\"css-1dbjc4n r-dnmrzs r-1vvnge1\"><h1 class=\"css-4rbku5 css-1dbjc4n r-1awozwy r-1pz39u2 r-1loqt21 r-6koalj r-16y2uox r-1777fci r-4wgw6l\" role=\"heading\"><a aria-label=\"Twitter\" class=\"css-4rbku5 css-18t94o4 css-1dbjc4n r-1niwhzg r-42olwf r-sdzlij r-1phboty r-rs99b7 r-1loqt21 r-19yznuf r-64el8z r-1ny4l3l r-o7ynqc r-6416eg r-lrvibr\" href=\"/home\" role=\"link\" style=\"\"><div class=\"css-901oao r-1awozwy r-6koalj r-18u37iz r-16y2uox r-37j5jr r-a023e6 r-b88u0q r-1777fci r-rjixqe r-bcqeeo r-q4m81j r-qvutc0\" dir=\"auto\" style=\"color: rgb(29, 155, 240);\"><svg aria-hidden=\"true\" class=\"r-13v1u17 r-4qtqp9 r-yyyyoo r-16y2uox r-8kz0gk r-dnmrzs r-bnwqim r-1plcrui r-lrvibr r-lrsllp\" viewbox=\"0 0 24 24\"><g><path d=\"M23.643 4.937c-.835.37-1.732.62-2.675.733.962-.576 1.7-1.49 2.048-2.578-.9.534-1.897.922-2.958 1.13-.85-.904-2.06-1.47-3.4-1.47-2.572 0-4.658 2.086-4.658 4.66 0 .364.042.718.12 1.06-3.873-.195-7.304-2.05-9.602-4.868-.4.69-.63 1.49-.63 2.342 0 1.616.823 3.043 2.072 3.878-.764-.025-1.482-.234-2.11-.583v.06c0 2.257 1.605 4.14 3.737 4.568-.392.106-.803.162-1.227.162-.3 0-.593-.028-.877-.082.593 1.85 2.313 3.198 4.352 3.234-1.595 1.25-3.604 1.995-5.786 1.995-.376 0-.747-.022-1.112-.065 2.062 1.323 4.51 2.093 7.14 2.093 8.57 0 13.255-7.098 13.255-13.254 0-.2-.005-.402-.014-.602.91-.658 1.7-1.477 2.323-2.41z\"></path></g></svg><span class=\"css-901oao css-16my406 css-1hf3ou5 r-poiln3 r-1inkyih r-rjixqe r-bcqeeo r-qvutc0\"></span></div></a></h1></div><div class=\"css-1dbjc4n r-1awozwy r-15zivkp r-1bymd8e r-13qz1uu\"><nav aria-label=\"Primary\" class=\"css-1dbjc4n r-1awozwy r-eqz5dr\" role=\"navigation\"><a aria-label=\"Home\" class=\"css-4rbku5 css-18t94o4 css-1dbjc4n r-1habvwh r-1loqt21 r-6koalj r-eqz5dr r-16y2uox r-1ny4l3l r-oyd9sg r-13qz1uu\" data-testid=\"AppTabBar_Home_Link\" href=\"/home\" role=\"link\"><div class=\"css-1dbjc4n r-1awozwy r-sdzlij r-18u37iz r-1777fci r-dnmrzs r-xyw6el r-o7ynqc r-6416eg\"><div class=\"css-1dbjc4n\"><svg aria-hidden=\"true\" class=\"r-1nao33i r-4qtqp9 r-yyyyoo r-lwhw9o r-dnmrzs r-bnwqim r-1plcrui r-lrvibr r-cnnz9e\" viewbox=\"0 0 24 24\"><g><path d=\"M22.46 7.57L12.357 2.115c-.223-.12-.49-.12-.713 0L1.543 7.57c-.364.197-.5.652-.303 1.017.135.25.394.393.66.393.12 0 .243-.03.356-.09l.815-.44L4.7 19.963c.214 1.215 1.308 2.062 2.658 2.062h9.282c1.352 0 2.445-.848 2.663-2.087l1.626-11.49.818.442c.364.193.82.06 1.017-.304.196-.363.06-.818-.304-1.016zm-4.638 12.133c-.107.606-.703.822-1.18.822H7.36c-.48 0-1.075-.216-1.178-.798L4.48 7.69 12 3.628l7.522 4.06-1.7 12.015z\"></path><path d=\"M8.22 12.184c0 2.084 1.695 3.78 3.78 3.78s3.78-1.696 3.78-3.78-1.695-3.78-3.78-3.78-3.78 1.696-3.78 3.78zm6.06 0c0 1.258-1.022 2.28-2.28 2.28s-2.28-1.022-2.28-2.28 1.022-2.28 2.28-2.28 2.28 1.022 2.28 2.28z\"></path></g></svg></div></div></a><a aria-label=\"Search and explore\" class=\"css-4rbku5 css-18t94o4 css-1dbjc4n r-1habvwh r-1loqt21 r-6koalj r-eqz5dr r-16y2uox r-1ny4l3l r-oyd9sg r-13qz1uu\" data-testid=\"AppTabBar_Explore_Link\" href=\"/explore\" role=\"link\"><div class=\"css-1dbjc4n r-1awozwy r-sdzlij r-18u37iz r-1777fci r-dnmrzs r-xyw6el r-o7ynqc r-6416eg\"><div class=\"css-1dbjc4n\"><svg aria-hidden=\"true\" class=\"r-1nao33i r-4qtqp9 r-yyyyoo r-lwhw9o r-dnmrzs r-bnwqim r-1plcrui r-lrvibr r-cnnz9e\" viewbox=\"0 0 24 24\"><g><path d=\"M21 7.337h-3.93l.372-4.272c.036-.412-.27-.775-.682-.812-.417-.03-.776.27-.812.683l-.383 4.4h-6.32l.37-4.27c.037-.413-.27-.776-.68-.813-.42-.03-.777.27-.813.683l-.382 4.4H3.782c-.414 0-.75.337-.75.75s.336.75.75.75H7.61l-.55 6.327H3c-.414 0-.75.336-.75.75s.336.75.75.75h3.93l-.372 4.272c-.036.412.27.775.682.812l.066.003c.385 0 .712-.295.746-.686l.383-4.4h6.32l-.37 4.27c-.036.413.27.776.682.813l.066.003c.385 0 .712-.295.746-.686l.382-4.4h3.957c.413 0 .75-.337.75-.75s-.337-.75-.75-.75H16.39l.55-6.327H21c.414 0 .75-.336.75-.75s-.336-.75-.75-.75zm-6.115 7.826h-6.32l.55-6.326h6.32l-.55 6.326z\"></path></g></svg></div></div></a><a aria-label=\"Notifications (20 unread notifications)\" class=\"css-4rbku5 css-18t94o4 css-1dbjc4n r-1habvwh r-1loqt21 r-6koalj r-eqz5dr r-16y2uox r-1ny4l3l r-oyd9sg r-13qz1uu\" data-testid=\"AppTabBar_Notifications_Link\" href=\"/notifications\" role=\"link\"><div class=\"css-1dbjc4n r-1awozwy r-sdzlij r-18u37iz r-1777fci r-dnmrzs r-xyw6el r-o7ynqc r-6416eg\"><div class=\"css-1dbjc4n\"><svg aria-hidden=\"true\" class=\"r-1nao33i r-4qtqp9 r-yyyyoo r-lwhw9o r-dnmrzs r-bnwqim r-1plcrui r-lrvibr r-cnnz9e\" viewbox=\"0 0 24 24\"><g><path d=\"M21.697 16.468c-.02-.016-2.14-1.64-2.103-6.03.02-2.532-.812-4.782-2.347-6.335C15.872 2.71 14.01 1.94 12.005 1.93h-.013c-2.004.01-3.866.78-5.242 2.174-1.534 1.553-2.368 3.802-2.346 6.334.037 4.33-2.02 5.967-2.102 6.03-.26.193-.366.53-.265.838.102.308.39.515.712.515h4.92c.102 2.31 1.997 4.16 4.33 4.16s4.226-1.85 4.327-4.16h4.922c.322 0 .61-.206.71-.514.103-.307-.003-.645-.263-.838zM12 20.478c-1.505 0-2.73-1.177-2.828-2.658h5.656c-.1 1.48-1.323 2.66-2.828 2.66zM4.38 16.32c.74-1.132 1.548-3.028 1.524-5.896-.018-2.16.644-3.982 1.913-5.267C8.91 4.05 10.397 3.437 12 3.43c1.603.008 3.087.62 4.18 1.728 1.27 1.285 1.933 3.106 1.915 5.267-.024 2.868.785 4.765 1.525 5.896H4.38z\"></path></g></svg><div aria-label=\"20+ unread items\" aria-live=\"polite\" class=\"css-901oao r-1awozwy r-l5o3uw r-1xc7w19 r-sdzlij r-1phboty r-rs99b7 r-1tjplnt r-jwli3a r-6koalj r-1q142lx r-37j5jr r-1gkfh8e r-16dba41 r-10ptun7 r-1777fci r-56xrmm r-285fr0 r-1pn2ns4 r-rjfia r-u8s1d r-kquydp r-1m4drjs r-lrvibr r-3s2u2q r-qvutc0\" dir=\"auto\"><span class=\"css-901oao css-16my406 r-poiln3 r-bcqeeo r-qvutc0\">20+</span></div></div></div></a><a aria-label=\"Direct Messages\" class=\"css-4rbku5 css-18t94o4 css-1dbjc4n r-1habvwh r-1loqt21 r-6koalj r-eqz5dr r-16y2uox r-1ny4l3l r-oyd9sg r-13qz1uu\" data-testid=\"AppTabBar_DirectMessage_Link\" href=\"/messages\" role=\"link\"><div class=\"css-1dbjc4n r-1awozwy r-sdzlij r-18u37iz r-1777fci r-dnmrzs r-xyw6el r-o7ynqc r-6416eg\"><div class=\"css-1dbjc4n\"><svg aria-hidden=\"true\" class=\"r-1nao33i r-4qtqp9 r-yyyyoo r-lwhw9o r-dnmrzs r-bnwqim r-1plcrui r-lrvibr r-cnnz9e\" viewbox=\"0 0 24 24\"><g><path d=\"M19.25 3.018H4.75C3.233 3.018 2 4.252 2 5.77v12.495c0 1.518 1.233 2.753 2.75 2.753h14.5c1.517 0 2.75-1.235 2.75-2.753V5.77c0-1.518-1.233-2.752-2.75-2.752zm-14.5 1.5h14.5c.69 0 1.25.56 1.25 1.25v.714l-8.05 5.367c-.273.18-.626.182-.9-.002L3.5 6.482v-.714c0-.69.56-1.25 1.25-1.25zm14.5 14.998H4.75c-.69 0-1.25-.56-1.25-1.25V8.24l7.24 4.83c.383.256.822.384 1.26.384.44 0 .877-.128 1.26-.383l7.24-4.83v10.022c0 .69-.56 1.25-1.25 1.25z\"></path></g></svg></div></div></a><a aria-label=\"Bookmarks\" class=\"css-4rbku5 css-18t94o4 css-1dbjc4n r-1habvwh r-1loqt21 r-6koalj r-eqz5dr r-16y2uox r-1ny4l3l r-oyd9sg r-13qz1uu\" href=\"/i/bookmarks\" role=\"link\"><div class=\"css-1dbjc4n r-1awozwy r-sdzlij r-18u37iz r-1777fci r-dnmrzs r-xyw6el r-o7ynqc r-6416eg\"><div class=\"css-1dbjc4n\"><svg aria-hidden=\"true\" class=\"r-1nao33i r-4qtqp9 r-yyyyoo r-lwhw9o r-dnmrzs r-bnwqim r-1plcrui r-lrvibr r-cnnz9e\" viewbox=\"0 0 24 24\"><g><path d=\"M19.9 23.5c-.157 0-.312-.05-.442-.144L12 17.928l-7.458 5.43c-.228.164-.53.19-.782.06-.25-.127-.41-.385-.41-.667V5.6c0-1.24 1.01-2.25 2.25-2.25h12.798c1.24 0 2.25 1.01 2.25 2.25v17.15c0 .282-.158.54-.41.668-.106.055-.223.082-.34.082zM12 16.25c.155 0 .31.048.44.144l6.71 4.883V5.6c0-.412-.337-.75-.75-.75H5.6c-.413 0-.75.338-.75.75v15.677l6.71-4.883c.13-.096.285-.144.44-.144z\"></path></g></svg></div></div></a><a aria-label=\"Lists\" class=\"css-4rbku5 css-18t94o4 css-1dbjc4n r-1habvwh r-1loqt21 r-6koalj r-eqz5dr r-16y2uox r-1ny4l3l r-oyd9sg r-13qz1uu\" href=\"/EdgeForex16/lists\" role=\"link\"><div class=\"css-1dbjc4n r-1awozwy r-sdzlij r-18u37iz r-1777fci r-dnmrzs r-xyw6el r-o7ynqc r-6416eg\"><div class=\"css-1dbjc4n\"><svg aria-hidden=\"true\" class=\"r-1nao33i r-4qtqp9 r-yyyyoo r-lwhw9o r-dnmrzs r-bnwqim r-1plcrui r-lrvibr r-cnnz9e\" viewbox=\"0 0 24 24\"><g><path d=\"M19.75 22H4.25C3.01 22 2 20.99 2 19.75V4.25C2 3.01 3.01 2 4.25 2h15.5C20.99 2 22 3.01 22 4.25v15.5c0 1.24-1.01 2.25-2.25 2.25zM4.25 3.5c-.414 0-.75.337-.75.75v15.5c0 .413.336.75.75.75h15.5c.414 0 .75-.337.75-.75V4.25c0-.413-.336-.75-.75-.75H4.25z\"></path><path d=\"M17 8.64H7c-.414 0-.75-.337-.75-.75s.336-.75.75-.75h10c.414 0 .75.335.75.75s-.336.75-.75.75zm0 4.11H7c-.414 0-.75-.336-.75-.75s.336-.75.75-.75h10c.414 0 .75.336.75.75s-.336.75-.75.75zm-5 4.11H7c-.414 0-.75-.335-.75-.75s.336-.75.75-.75h5c.414 0 .75.337.75.75s-.336.75-.75.75z\"></path></g></svg></div></div></a><a aria-label=\"Profile\" class=\"css-4rbku5 css-18t94o4 css-1dbjc4n r-1habvwh r-1loqt21 r-6koalj r-eqz5dr r-16y2uox r-1ny4l3l r-oyd9sg r-13qz1uu\" data-testid=\"AppTabBar_Profile_Link\" href=\"/EdgeForex16\" role=\"link\"><div class=\"css-1dbjc4n r-1awozwy r-sdzlij r-18u37iz r-1777fci r-dnmrzs r-xyw6el r-o7ynqc r-6416eg\"><div class=\"css-1dbjc4n\"><svg aria-hidden=\"true\" class=\"r-1nao33i r-4qtqp9 r-yyyyoo r-lwhw9o r-dnmrzs r-bnwqim r-1plcrui r-lrvibr r-cnnz9e\" viewbox=\"0 0 24 24\"><g><path d=\"M12 11.816c1.355 0 2.872-.15 3.84-1.256.814-.93 1.078-2.368.806-4.392-.38-2.825-2.117-4.512-4.646-4.512S7.734 3.343 7.354 6.17c-.272 2.022-.008 3.46.806 4.39.968 1.107 2.485 1.256 3.84 1.256zM8.84 6.368c.162-1.2.787-3.212 3.16-3.212s2.998 2.013 3.16 3.212c.207 1.55.057 2.627-.45 3.205-.455.52-1.266.743-2.71.743s-2.255-.223-2.71-.743c-.507-.578-.657-1.656-.45-3.205zm11.44 12.868c-.877-3.526-4.282-5.99-8.28-5.99s-7.403 2.464-8.28 5.99c-.172.692-.028 1.4.395 1.94.408.52 1.04.82 1.733.82h12.304c.693 0 1.325-.3 1.733-.82.424-.54.567-1.247.394-1.94zm-1.576 1.016c-.126.16-.316.246-.552.246H5.848c-.235 0-.426-.085-.552-.246-.137-.174-.18-.412-.12-.654.71-2.855 3.517-4.85 6.824-4.85s6.114 1.994 6.824 4.85c.06.242.017.48-.12.654z\"></path></g></svg></div></div></a><div aria-expanded=\"false\" aria-haspopup=\"menu\" aria-label=\"More menu items\" class=\"css-18t94o4 css-1dbjc4n r-1habvwh r-6koalj r-eqz5dr r-16y2uox r-1ny4l3l r-oyd9sg r-13qz1uu\" data-testid=\"AppTabBar_More_Menu\" role=\"button\" tabindex=\"0\"><div class=\"css-1dbjc4n r-1awozwy r-sdzlij r-18u37iz r-1777fci r-dnmrzs r-xyw6el r-o7ynqc r-6416eg\"><div class=\"css-1dbjc4n\"><svg aria-hidden=\"true\" class=\"r-1nao33i r-4qtqp9 r-yyyyoo r-lwhw9o r-dnmrzs r-bnwqim r-1plcrui r-lrvibr r-cnnz9e\" viewbox=\"0 0 24 24\"><g><circle cx=\"17\" cy=\"12\" r=\"1.5\"></circle><circle cx=\"12\" cy=\"12\" r=\"1.5\"></circle><circle cx=\"7\" cy=\"12\" r=\"1.5\"></circle><path d=\"M12 22.75C6.072 22.75 1.25 17.928 1.25 12S6.072 1.25 12 1.25 22.75 6.072 22.75 12 17.928 22.75 12 22.75zm0-20C6.9 2.75 2.75 6.9 2.75 12S6.9 21.25 12 21.25s9.25-4.15 9.25-9.25S17.1 2.75 12 2.75z\"></path></g></svg></div></div></div></nav></div><div class=\"css-1dbjc4n r-1awozwy r-1r5su4o r-e7q0ms\"><a aria-label=\"Tweet\" class=\"css-4rbku5 css-18t94o4 css-1dbjc4n r-l5o3uw r-42olwf r-sdzlij r-1phboty r-rs99b7 r-1waj6vr r-1loqt21 r-19yznuf r-64el8z r-1ny4l3l r-o7ynqc r-6416eg r-lrvibr\" data-testid=\"SideNav_NewTweet_Button\" href=\"/compose/tweet\" role=\"link\" style=\"\"><div class=\"css-901oao r-1awozwy r-jwli3a r-6koalj r-18u37iz r-16y2uox r-37j5jr r-a023e6 r-b88u0q r-1777fci r-rjixqe r-bcqeeo r-q4m81j r-qvutc0\" dir=\"auto\" style=\"\"><svg aria-hidden=\"true\" class=\"r-jwli3a r-4qtqp9 r-yyyyoo r-1472mwg r-dnmrzs r-bnwqim r-1plcrui r-lrvibr r-lrsllp\" style=\"\" viewbox=\"0 0 24 24\"><g><path d=\"M8.8 7.2H5.6V3.9c0-.4-.3-.8-.8-.8s-.7.4-.7.8v3.3H.8c-.4 0-.8.3-.8.8s.3.8.8.8h3.3v3.3c0 .4.3.8.8.8s.8-.3.8-.8V8.7H9c.4 0 .8-.3.8-.8s-.5-.7-1-.7zm15-4.9v-.1h-.1c-.1 0-9.2 1.2-14.4 11.7-3.8 7.6-3.6 9.9-3.3 9.9.3.1 3.4-6.5 6.7-9.2 5.2-1.1 6.6-3.6 6.6-3.6s-1.5.2-2.1.2c-.8 0-1.4-.2-1.7-.3 1.3-1.2 2.4-1.5 3.5-1.7.9-.2 1.8-.4 3-1.2 2.2-1.6 1.9-5.5 1.8-5.7z\"></path></g></svg><span class=\"css-901oao css-16my406 css-1hf3ou5 r-poiln3 r-1inkyih r-rjixqe r-bcqeeo r-qvutc0\"></span></div></a></div></div><div class=\"css-1dbjc4n r-1awozwy r-usiww2\"><div class=\"css-1dbjc4n\"><div aria-label=\"Account menu\" class=\"css-18t94o4 css-1dbjc4n r-1awozwy r-sdzlij r-6koalj r-18u37iz r-1ny4l3l r-xyw6el r-o7ynqc r-6416eg\" data-testid=\"SideNav_AccountSwitcher_Button\" role=\"button\" tabindex=\"0\"><div class=\"css-1dbjc4n\"><div class=\"css-1dbjc4n r-1adg3ll r-bztko3\" data-testid=\"UserAvatar-Container-EdgeForex16\" style=\"height: 40px; width: 40px;\"><div class=\"r-1adg3ll r-13qz1uu\" style=\"padding-bottom: 100%;\"></div><div class=\"r-1p0dtai r-1pi2tsx r-1d2f490 r-u8s1d r-ipm5af r-13qz1uu\"><div class=\"css-1dbjc4n r-1adg3ll r-1pi2tsx r-1wyvozj r-bztko3 r-u8s1d r-1v2oles r-desppf r-13qz1uu\"><div class=\"r-1adg3ll r-13qz1uu\" style=\"padding-bottom: 100%;\"></div><div class=\"r-1p0dtai r-1pi2tsx r-1d2f490 r-u8s1d r-ipm5af r-13qz1uu\"><div class=\"css-1dbjc4n r-sdzlij r-ggadg3 r-1udh08x r-u8s1d r-8jfcpp\" style=\"height: calc(100% - -4px); width: calc(100% - -4px);\"><div class=\"css-1dbjc4n r-1niwhzg r-1pi2tsx r-1ny4l3l r-13qz1uu\" role=\"presentation\" style=\"\"><div class=\"css-1dbjc4n r-sdzlij r-1wyvozj r-1udh08x r-633pao r-u8s1d r-1v2oles r-desppf\" style=\"height: calc(100% - 4px); width: calc(100% - 4px);\"><div class=\"css-1dbjc4n r-1niwhzg r-1pi2tsx r-13qz1uu\" style=\"\"></div></div><div class=\"css-1dbjc4n r-sdzlij r-1wyvozj r-1udh08x r-633pao r-u8s1d r-1v2oles r-desppf\" style=\"height: calc(100% - 4px); width: calc(100% - 4px);\"><div class=\"css-1dbjc4n r-kemksi r-1pi2tsx r-13qz1uu\"></div></div><div class=\"css-1dbjc4n r-kemksi r-sdzlij r-1wyvozj r-1udh08x r-633pao r-u8s1d r-1v2oles r-desppf\" style=\"height: calc(100% - 4px); width: calc(100% - 4px);\"><div class=\"css-1dbjc4n r-1adg3ll r-1udh08x\" style=\"\"><div class=\"r-1adg3ll r-13qz1uu\" style=\"padding-bottom: 100%;\"></div><div class=\"r-1p0dtai r-1pi2tsx r-1d2f490 r-u8s1d r-ipm5af r-13qz1uu\"><div aria-label=\"Edge Forex\" class=\"css-1dbjc4n r-1p0dtai r-1mlwlqe r-1d2f490 r-1udh08x r-u8s1d r-zchlnj r-ipm5af r-417010\"><div class=\"css-1dbjc4n r-1niwhzg r-vvn4in r-u6sd8q r-4gszlv r-1p0dtai r-1pi2tsx r-1d2f490 r-u8s1d r-zchlnj r-ipm5af r-13qz1uu r-1wyyakw\" style='background-image: url(\"https://pbs.twimg.com/profile_images/1565674226409000963/kYUUFqUu_x96.jpg\");'></div><img alt=\"Edge Forex\" class=\"css-9pa8cd\" draggable=\"true\" src=\"https://pbs.twimg.com/profile_images/1565674226409000963/kYUUFqUu_x96.jpg\"/></div></div></div></div><div class=\"css-1dbjc4n r-sdzlij r-1wyvozj r-1udh08x r-u8s1d r-1v2oles r-desppf\" style=\"height: calc(100% - 4px); width: calc(100% - 4px);\"><div class=\"css-1dbjc4n r-172uzmj r-1pi2tsx r-1ny4l3l r-13qz1uu\"></div></div></div></div></div></div></div></div></div></div></div></div></div></div></div></header><main class=\"css-1dbjc4n r-1habvwh r-16y2uox r-1wbh5a2\" role=\"main\"><div class=\"css-1dbjc4n r-150rngu r-16y2uox r-1wbh5a2 r-1obr2lp\"><div class=\"css-1dbjc4n r-aqfbo4 r-16y2uox\"><div class=\"css-1dbjc4n r-1oszu61 r-1niwhzg r-18u37iz r-16y2uox r-1wtj0ep r-2llsf r-13qz1uu\"><div class=\"css-1dbjc4n r-kemksi r-1kqtdi0 r-1ljd8xs r-13l2t4g r-1phboty r-1jgb5lz r-11wrixw r-61z16t r-1ye8kvj r-13qz1uu r-184en5c\" data-testid=\"primaryColumn\"><div aria-label=\"Home timeline\" class=\"css-1dbjc4n\" tabindex=\"0\"><div class=\"css-1dbjc4n r-aqfbo4 r-gtdqiz r-1gn8etr r-1g40b8q\"><div class=\"css-1dbjc4n\"><div class=\"css-1dbjc4n r-1loqt21 r-136ojw6\"><div class=\"css-1dbjc4n r-1h3ijdo r-136ojw6\"><div class=\"css-1dbjc4n\"><div class=\"css-1dbjc4n r-1e5uvyk r-5zmot r-1h3ijdo\"><div class=\"css-1dbjc4n r-1awozwy r-18u37iz r-1h3ijdo r-1777fci r-1jgb5lz r-sb58tz r-ymttw5 r-13qz1uu\"><div class=\"css-1dbjc4n r-1habvwh r-1pz39u2 r-1777fci r-15ysp7h r-s8bhmr\"><div aria-label=\"Back\" class=\"css-18t94o4 css-1dbjc4n r-1niwhzg r-42olwf r-sdzlij r-1phboty r-rs99b7 r-2yi16 r-1qi8awa r-1ny4l3l r-o7ynqc r-6416eg r-lrvibr\" data-testid=\"app-bar-back\" role=\"button\" style=\"margin-left: calc(-8px);\" tabindex=\"0\"><div class=\"css-901oao r-1awozwy r-6koalj r-18u37iz r-16y2uox r-37j5jr r-a023e6 r-b88u0q r-1777fci r-rjixqe r-bcqeeo r-q4m81j r-qvutc0\" dir=\"auto\" style=\"color: rgb(239, 243, 244);\"><svg aria-hidden=\"true\" class=\"r-4qtqp9 r-yyyyoo r-z80fyv r-dnmrzs r-bnwqim r-1plcrui r-lrvibr r-19wmn03\" style=\"color: rgb(239, 243, 244);\" viewbox=\"0 0 24 24\"><g><path d=\"M20 11H7.414l4.293-4.293c.39-.39.39-1.023 0-1.414s-1.023-.39-1.414 0l-6 6c-.39.39-.39 1.023 0 1.414l6 6c.195.195.45.293.707.293s.512-.098.707-.293c.39-.39.39-1.023 0-1.414L7.414 13H20c.553 0 1-.447 1-1s-.447-1-1-1z\"></path></g></svg><span class=\"css-901oao css-16my406 css-1hf3ou5 r-poiln3 r-a023e6 r-rjixqe r-bcqeeo r-qvutc0\" style=\"border-bottom: 2px solid rgb(239, 243, 244);\"></span></div></div></div><div class=\"css-1dbjc4n r-16y2uox r-1wbh5a2 r-1pi2tsx r-1777fci\"><div class=\"css-1dbjc4n r-1habvwh\"><h2 aria-level=\"2\" class=\"css-4rbku5 css-901oao css-1hf3ou5 r-1nao33i r-37j5jr r-adyw6z r-b88u0q r-135wba7 r-bcqeeo r-1vvnge1 r-qvutc0\" dir=\"auto\" role=\"heading\"><div class=\"css-1dbjc4n r-xoduu5 r-1wbh5a2 r-dnmrzs r-1ny4l3l\"><div class=\"css-1dbjc4n r-1awozwy r-xoduu5 r-18u37iz r-1wbh5a2 r-dnmrzs r-1ny4l3l\"><div class=\"css-1dbjc4n r-xoduu5 r-1wbh5a2 r-dnmrzs r-1ny4l3l\"><div class=\"css-1dbjc4n r-1awozwy r-xoduu5 r-18u37iz r-dnmrzs\"><span class=\"css-901oao css-16my406 r-1awozwy r-1nao33i r-6koalj r-poiln3 r-b88u0q r-bcqeeo r-1udh08x r-3s2u2q r-qvutc0\"><span class=\"css-901oao css-16my406 css-1hf3ou5 r-poiln3 r-bcqeeo r-qvutc0\"><span class=\"css-901oao css-16my406 r-poiln3 r-bcqeeo r-qvutc0\">Sire</span></span></span><span class=\"css-901oao css-16my406 r-xoduu5 r-18u37iz r-1q142lx r-poiln3 r-bcqeeo r-qvutc0\"></span></div></div></div></div></h2><div class=\"css-901oao css-1hf3ou5 r-1bwzh9t r-37j5jr r-n6v787 r-16dba41 r-1cwl3u0 r-bcqeeo r-qvutc0\" dir=\"auto\">6,949 Tweets</div></div></div><div class=\"css-1dbjc4n r-obd0qt r-1pz39u2 r-1777fci r-15ysp7h r-s8bhmr\"></div></div></div></div></div></div></div><div class=\"css-1dbjc4n r-633pao r-u8s1d r-dkhcqf r-axxi2z r-18jm5s1 r-13qz1uu r-1wyyakw\" style=\"transform: translate3d(0px, 0px, 0px) translateY(53px);\"><div class=\"css-1dbjc4n r-1awozwy\"><div class=\"css-1dbjc4n r-orgf3d r-1lul07w r-eafdt9 r-1b8bd59 r-nx0j10\" role=\"status\"><div aria-hidden=\"true\" aria-label=\"New Tweets are available. Push period to go to the beginning of your timeline and view them\" class=\"css-18t94o4 css-1dbjc4n r-l5o3uw r-sdzlij r-1uusn97 r-1777fci r-1r5su4o r-1ny4l3l r-ymttw5 r-o7ynqc r-6416eg\" role=\"button\" tabindex=\"-1\"><div class=\"css-1dbjc4n r-18u37iz r-oyd9sg\"><svg aria-hidden=\"true\" class=\"r-1kihuf0 r-jwli3a r-4qtqp9 r-yyyyoo r-1xvli5t r-1d4mawv r-dnmrzs r-bnwqim r-1plcrui r-lrvibr r-19wmn03\" viewbox=\"0 0 24 24\"><g><path d=\"M18.707 10.293l-6-6c-.39-.39-1.023-.39-1.414 0l-6 6c-.39.39-.39 1.023 0 1.414.195.195.45.293.707.293s.512-.098.707-.293L11 7.414V20c0 .553.447 1 1 1s1-.447 1-1V7.414l4.293 4.293c.195.195.45.293.707.293s.512-.098.707-.293c.39-.39.39-1.023 0-1.414z\"></path></g></svg><div class=\"css-901oao css-1hf3ou5 r-1kihuf0 r-jwli3a r-37j5jr r-a023e6 r-16dba41 r-rjixqe r-bcqeeo r-qvutc0\" dir=\"auto\"><span class=\"css-901oao css-16my406 r-poiln3 r-bcqeeo r-qvutc0\">See new Tweets</span></div></div></div></div></div></div></div><div class=\"css-1dbjc4n r-orgf3d r-633pao\" style=\"height: 0px;\"></div><div class=\"css-1dbjc4n\"><div class=\"css-1dbjc4n r-16y2uox\"><div class=\"css-1dbjc4n r-1jgb5lz r-1ye8kvj r-13qz1uu\"><div class=\"css-1dbjc4n\"><a aria-hidden=\"true\" class=\"css-4rbku5 css-18t94o4 css-1dbjc4n r-1loqt21 r-1ny4l3l r-o7ynqc r-6416eg\" href=\"/Fayvrr/header_photo\" role=\"link\" tabindex=\"-1\"><div class=\"css-1dbjc4n r-1adg3ll r-1udh08x\" style=\"background-color: rgb(77, 109, 185);\"><div class=\"r-1adg3ll r-13qz1uu\" style=\"padding-bottom: 33.3333%;\"></div><div class=\"r-1p0dtai r-1pi2tsx r-1d2f490 r-u8s1d r-ipm5af r-13qz1uu\"></div></div></a><div class=\"css-1dbjc4n r-1ifxtd0 r-ymttw5 r-ttdzmv\"><div class=\"css-1dbjc4n r-1habvwh r-18u37iz r-1w6e6rj r-1wtj0ep\"><div class=\"css-1dbjc4n r-1adg3ll r-16l9doz r-6gpygo r-2o1y69 r-1v6e3re r-bztko3 r-1xce0ei\" data-testid=\"UserAvatar-Container-Fayvrr\"><div class=\"r-1adg3ll r-13qz1uu\" style=\"padding-bottom: 100%;\"></div><div class=\"r-1p0dtai r-1pi2tsx r-1d2f490 r-u8s1d r-ipm5af r-13qz1uu\"><div class=\"css-1dbjc4n r-1adg3ll r-1pi2tsx r-1wyvozj r-bztko3 r-u8s1d r-1v2oles r-desppf r-13qz1uu\"><div class=\"r-1adg3ll r-13qz1uu\" style=\"padding-bottom: 100%;\"></div><div class=\"r-1p0dtai r-1pi2tsx r-1d2f490 r-u8s1d r-ipm5af r-13qz1uu\"><div class=\"css-1dbjc4n r-sdzlij r-ggadg3 r-1udh08x r-u8s1d r-8jfcpp\" style=\"height: calc(100% - -4px); width: calc(100% - -4px);\"><a class=\"css-4rbku5 css-18t94o4 css-1dbjc4n r-1niwhzg r-1loqt21 r-1pi2tsx r-1ny4l3l r-o7ynqc r-6416eg r-13qz1uu\" href=\"/Fayvrr/photo\" role=\"link\"><div class=\"css-1dbjc4n r-sdzlij r-1wyvozj r-1udh08x r-633pao r-u8s1d r-1v2oles r-desppf\" style=\"height: calc(100% - 4px); width: calc(100% - 4px);\"><div class=\"css-1dbjc4n r-kemksi r-1pi2tsx r-13qz1uu\"></div></div><div class=\"css-1dbjc4n r-sdzlij r-1wyvozj r-1udh08x r-633pao r-u8s1d r-1v2oles r-desppf\" style=\"height: calc(100% - 12px); width: calc(100% - 12px);\"><div class=\"css-1dbjc4n r-kemksi r-1pi2tsx r-13qz1uu\"></div></div><div class=\"css-1dbjc4n r-kemksi r-sdzlij r-1wyvozj r-1udh08x r-633pao r-u8s1d r-1v2oles r-desppf\" style=\"height: calc(100% - 12px); width: calc(100% - 12px);\"><div class=\"css-1dbjc4n r-1adg3ll r-1udh08x\" style=\"background-color: rgb(62, 65, 68);\"><div class=\"r-1adg3ll r-13qz1uu\" style=\"padding-bottom: 100%;\"></div><div class=\"r-1p0dtai r-1pi2tsx r-1d2f490 r-u8s1d r-ipm5af r-13qz1uu\"></div></div></div><div class=\"css-1dbjc4n r-sdzlij r-1wyvozj r-1udh08x r-u8s1d r-1v2oles r-desppf\" style=\"height: calc(100% - 12px); width: calc(100% - 12px);\"><div class=\"css-1dbjc4n r-172uzmj r-1pi2tsx r-1ny4l3l r-o7ynqc r-6416eg r-13qz1uu\"></div></div></a></div></div></div></div></div><div class=\"css-1dbjc4n r-obd0qt r-18u37iz r-1w6e6rj r-1h0z5md r-dnmrzs\"><div aria-expanded=\"false\" aria-haspopup=\"menu\" aria-label=\"More\" class=\"css-18t94o4 css-1dbjc4n r-1niwhzg r-sdzlij r-1phboty r-rs99b7 r-6gpygo r-1kb76zh r-2yi16 r-1qi8awa r-1ny4l3l r-o7ynqc r-6416eg r-lrvibr\" data-testid=\"userActions\" role=\"button\" style=\"border-color: rgb(83, 100, 113);\" tabindex=\"0\"><div class=\"css-901oao r-1awozwy r-6koalj r-18u37iz r-16y2uox r-37j5jr r-a023e6 r-b88u0q r-1777fci r-rjixqe r-bcqeeo r-q4m81j r-qvutc0\" dir=\"auto\" style=\"color: rgb(239, 243, 244);\"><svg aria-hidden=\"true\" class=\"r-4qtqp9 r-yyyyoo r-z80fyv r-dnmrzs r-bnwqim r-1plcrui r-lrvibr r-19wmn03\" style=\"color: rgb(239, 243, 244);\" viewbox=\"0 0 24 24\"><g><circle cx=\"5\" cy=\"12\" r=\"2\"></circle><circle cx=\"12\" cy=\"12\" r=\"2\"></circle><circle cx=\"19\" cy=\"12\" r=\"2\"></circle></g></svg><span class=\"css-901oao css-16my406 css-1hf3ou5 r-poiln3 r-a023e6 r-rjixqe r-bcqeeo r-qvutc0\"></span></div></div><div class=\"css-1dbjc4n\" data-testid=\"placementTracking\"><div class=\"css-1dbjc4n r-6gpygo r-bcqeeo\"><div aria-describedby=\"id__011fsr91xph8o\" aria-label=\"Follow @Fayvrr\" class=\"css-18t94o4 css-1dbjc4n r-42olwf r-sdzlij r-1phboty r-rs99b7 r-2yi16 r-1qi8awa r-1ny4l3l r-ymttw5 r-o7ynqc r-6416eg r-lrvibr\" data-testid=\"1245056710177406976-follow\" role=\"button\" style=\"background-color: rgb(239, 243, 244);\" tabindex=\"0\"><div class=\"css-901oao r-1awozwy r-6koalj r-18u37iz r-16y2uox r-37j5jr r-a023e6 r-b88u0q r-1777fci r-rjixqe r-bcqeeo r-q4m81j r-qvutc0\" dir=\"auto\" style=\"color: rgb(15, 20, 25);\"><span class=\"css-901oao css-16my406 css-1hf3ou5 r-poiln3 r-a023e6 r-rjixqe r-bcqeeo r-qvutc0\"><span class=\"css-901oao css-16my406 r-poiln3 r-bcqeeo r-qvutc0\">Follow</span></span></div></div></div><div class=\"css-901oao r-hvic4v\" dir=\"auto\" id=\"id__011fsr91xph8o\">Click to Follow Fayvrr</div></div></div></div><div class=\"css-1dbjc4n r-6gpygo r-14gqq1x\" data-testid=\"UserName\"><div class=\"css-1dbjc4n r-1wbh5a2 r-dnmrzs r-1ny4l3l\"><div class=\"css-1dbjc4n r-1wbh5a2 r-dnmrzs r-1ny4l3l\"><div class=\"css-1dbjc4n r-1wbh5a2 r-dnmrzs r-1ny4l3l\"><div class=\"css-1dbjc4n r-1awozwy r-18u37iz r-dnmrzs\"><div class=\"css-901oao r-1awozwy r-1nao33i r-6koalj r-37j5jr r-adyw6z r-1vr29t4 r-135wba7 r-bcqeeo r-1udh08x r-qvutc0\" dir=\"auto\"><span class=\"css-901oao css-16my406 r-poiln3 r-bcqeeo r-qvutc0\"><span class=\"css-901oao css-16my406 r-poiln3 r-bcqeeo r-qvutc0\">Sire</span></span><span class=\"css-901oao css-16my406 r-xoduu5 r-18u37iz r-1q142lx r-poiln3 r-adyw6z r-135wba7 r-bcqeeo r-qvutc0\"></span></div></div></div><div class=\"css-1dbjc4n r-1awozwy r-18u37iz r-1wbh5a2\"><div class=\"css-1dbjc4n r-1wbh5a2 r-dnmrzs r-1ny4l3l\" tabindex=\"-1\"><div class=\"css-1dbjc4n\"><div class=\"css-901oao css-1hf3ou5 r-1bwzh9t r-18u37iz r-37j5jr r-a023e6 r-16dba41 r-rjixqe r-bcqeeo r-qvutc0\" dir=\"ltr\"><span class=\"css-901oao css-16my406 r-poiln3 r-bcqeeo r-qvutc0\">@Fayvrr</span></div></div></div></div></div></div><div class=\"css-1dbjc4n r-1habvwh r-1wbh5a2 r-14gqq1x\"><div class=\"css-1dbjc4n r-1habvwh r-18u37iz r-dnmrzs r-1ny4l3l\"><div class=\"css-901oao css-1hf3ou5 r-1bwzh9t r-37j5jr r-a023e6 r-16dba41 r-rjixqe r-bcqeeo r-qvutc0\" dir=\"auto\"></div></div></div></div><div class=\"css-1dbjc4n r-1adg3ll r-6gpygo\"><div class=\"css-1dbjc4n\"><div class=\"css-901oao r-1nao33i r-37j5jr r-a023e6 r-16dba41 r-rjixqe r-bcqeeo r-qvutc0\" data-testid=\"UserDescription\" dir=\"auto\"><span class=\"css-901oao css-16my406 r-poiln3 r-bcqeeo r-qvutc0\">BullForm</span><img alt=\"🚀\" class=\"r-4qtqp9 r-dflpy8 r-sjv1od r-zw8f10 r-10akycc r-h9hxbl\" draggable=\"false\" src=\"https://abs-0.twimg.com/emoji/v2/svg/1f680.svg\"/><img alt=\"📈\" class=\"r-4qtqp9 r-dflpy8 r-sjv1od r-zw8f10 r-10akycc r-h9hxbl\" draggable=\"false\" src=\"https://abs-0.twimg.com/emoji/v2/svg/1f4c8.svg\"/></div></div></div><div class=\"css-1dbjc4n r-1adg3ll r-6gpygo\"><div class=\"css-901oao r-1nao33i r-37j5jr r-a023e6 r-16dba41 r-56xrmm r-bcqeeo r-qvutc0\" data-testid=\"UserProfileHeader_Items\" dir=\"auto\"><span class=\"css-901oao css-16my406 r-1bwzh9t r-4qtqp9 r-poiln3 r-1b7u577 r-bcqeeo r-qvutc0\" data-testid=\"UserLocation\" dir=\"ltr\" role=\"presentation\"><svg aria-hidden=\"true\" class=\"r-1bwzh9t r-4qtqp9 r-yyyyoo r-1xvli5t r-1d4mawv r-dnmrzs r-bnwqim r-1plcrui r-lrvibr\" viewbox=\"0 0 24 24\"><g><path d=\"M12 14.315c-2.088 0-3.787-1.698-3.787-3.786S9.913 6.74 12 6.74s3.787 1.7 3.787 3.787-1.7 3.785-3.787 3.785zm0-6.073c-1.26 0-2.287 1.026-2.287 2.287S10.74 12.814 12 12.814s2.287-1.025 2.287-2.286S13.26 8.24 12 8.24z\"></path><path d=\"M20.692 10.69C20.692 5.9 16.792 2 12 2s-8.692 3.9-8.692 8.69c0 1.902.603 3.708 1.743 5.223l.003-.002.007.015c1.628 2.07 6.278 5.757 6.475 5.912.138.11.302.163.465.163.163 0 .327-.053.465-.162.197-.155 4.847-3.84 6.475-5.912l.007-.014.002.002c1.14-1.516 1.742-3.32 1.742-5.223zM12 20.29c-1.224-.99-4.52-3.715-5.756-5.285-.94-1.25-1.436-2.742-1.436-4.312C4.808 6.727 8.035 3.5 12 3.5s7.192 3.226 7.192 7.19c0 1.57-.497 3.062-1.436 4.313-1.236 1.57-4.532 4.294-5.756 5.285z\"></path></g></svg><span class=\"css-901oao css-16my406 r-poiln3 r-bcqeeo r-qvutc0\"><span class=\"css-901oao css-16my406 r-poiln3 r-bcqeeo r-qvutc0\">Nigeria</span></span></span><span class=\"css-901oao css-16my406 r-1bwzh9t r-4qtqp9 r-poiln3 r-1b7u577 r-bcqeeo r-qvutc0\" data-testid=\"UserJoinDate\" dir=\"ltr\" role=\"presentation\"><svg aria-hidden=\"true\" class=\"r-1bwzh9t r-4qtqp9 r-yyyyoo r-1xvli5t r-1d4mawv r-dnmrzs r-bnwqim r-1plcrui r-lrvibr\" viewbox=\"0 0 24 24\"><g><path d=\"M19.708 2H4.292C3.028 2 2 3.028 2 4.292v15.416C2 20.972 3.028 22 4.292 22h15.416C20.972 22 22 20.972 22 19.708V4.292C22 3.028 20.972 2 19.708 2zm.792 17.708c0 .437-.355.792-.792.792H4.292c-.437 0-.792-.355-.792-.792V6.418c0-.437.354-.79.79-.792h15.42c.436 0 .79.355.79.79V19.71z\"></path><circle cx=\"7.032\" cy=\"8.75\" r=\"1.285\"></circle><circle cx=\"7.032\" cy=\"13.156\" r=\"1.285\"></circle><circle cx=\"16.968\" cy=\"8.75\" r=\"1.285\"></circle><circle cx=\"16.968\" cy=\"13.156\" r=\"1.285\"></circle><circle cx=\"12\" cy=\"8.75\" r=\"1.285\"></circle><circle cx=\"12\" cy=\"13.156\" r=\"1.285\"></circle><circle cx=\"7.032\" cy=\"17.486\" r=\"1.285\"></circle><circle cx=\"12\" cy=\"17.486\" r=\"1.285\"></circle></g></svg><span class=\"css-901oao css-16my406 r-poiln3 r-bcqeeo r-qvutc0\">Joined April 2020</span></span></div></div><div class=\"css-1dbjc4n r-13awgt0 r-18u37iz r-1w6e6rj\"><div class=\"css-1dbjc4n r-1mf7evn\"><a class=\"css-4rbku5 css-18t94o4 css-901oao r-1nao33i r-1loqt21 r-37j5jr r-a023e6 r-16dba41 r-rjixqe r-bcqeeo r-qvutc0\" dir=\"auto\" href=\"/Fayvrr/following\" role=\"link\"><span class=\"css-901oao css-16my406 r-1nao33i r-poiln3 r-1b43r93 r-b88u0q r-1cwl3u0 r-bcqeeo r-qvutc0\"><span class=\"css-901oao css-16my406 r-poiln3 r-bcqeeo r-qvutc0\">409</span></span> <span class=\"css-901oao css-16my406 r-1bwzh9t r-poiln3 r-1b43r93 r-1cwl3u0 r-bcqeeo r-qvutc0\"><span class=\"css-901oao css-16my406 r-poiln3 r-bcqeeo r-qvutc0\">Following</span></span></a></div><div class=\"css-1dbjc4n\"><a class=\"css-4rbku5 css-18t94o4 css-901oao r-1nao33i r-1loqt21 r-37j5jr r-a023e6 r-16dba41 r-rjixqe r-bcqeeo r-qvutc0\" dir=\"auto\" href=\"/Fayvrr/followers\" role=\"link\"><span class=\"css-901oao css-16my406 r-1nao33i r-poiln3 r-1b43r93 r-b88u0q r-1cwl3u0 r-bcqeeo r-qvutc0\"><span class=\"css-901oao css-16my406 r-poiln3 r-bcqeeo r-qvutc0\">269</span></span> <span class=\"css-901oao css-16my406 r-1bwzh9t r-poiln3 r-1b43r93 r-1cwl3u0 r-bcqeeo r-qvutc0\"><span class=\"css-901oao css-16my406 r-poiln3 r-bcqeeo r-qvutc0\">Followers</span></span></a></div></div><div class=\"css-1dbjc4n r-1s2bzr4\"><div class=\"css-1dbjc4n r-bt1l66\"></div></div></div></div><nav aria-label=\"Profile timelines\" aria-live=\"polite\" class=\"css-1dbjc4n r-1awozwy r-1igl3o0 r-rull8r r-qklmqi r-18u37iz\" role=\"navigation\"><div class=\"css-1dbjc4n r-1awozwy r-1ro0kt6 r-18u37iz r-16y2uox r-1pi2tsx r-1ny4l3l\"><div class=\"css-1dbjc4n r-4amgru r-orgf3d r-633pao r-u8s1d r-o7ynqc r-1i6wzkk r-184en5c\" data-testid=\"ScrollSnap-prevButtonWrapper\"><div aria-disabled=\"true\" aria-label=\"Previous\" class=\"css-1dbjc4n r-42olwf r-sdzlij r-1phboty r-rs99b7 r-2yi16 r-1qi8awa r-icoktb r-1ny4l3l r-o7ynqc r-6416eg r-lrvibr\" role=\"button\" style=\"backdrop-filter: blur(4px); background-color: rgba(15, 20, 25, 0.75);\" tabindex=\"-1\"><div class=\"css-901oao r-1awozwy r-jwli3a r-6koalj r-18u37iz r-16y2uox r-37j5jr r-a023e6 r-b88u0q r-1777fci r-rjixqe r-bcqeeo r-q4m81j r-qvutc0\" dir=\"auto\"><svg aria-hidden=\"true\" class=\"r-1otekoa r-4qtqp9 r-yyyyoo r-z80fyv r-dnmrzs r-bnwqim r-1plcrui r-lrvibr r-19wmn03\" viewbox=\"0 0 24 24\"><g><path d=\"M20 11H7.414l4.293-4.293c.39-.39.39-1.023 0-1.414s-1.023-.39-1.414 0l-6 6c-.39.39-.39 1.023 0 1.414l6 6c.195.195.45.293.707.293s.512-.098.707-.293c.39-.39.39-1.023 0-1.414L7.414 13H20c.553 0 1-.447 1-1s-.447-1-1-1z\"></path></g></svg><span class=\"css-901oao css-16my406 css-1hf3ou5 r-poiln3 r-a023e6 r-rjixqe r-bcqeeo r-qvutc0\"></span></div></div></div><div class=\"css-1dbjc4n r-1adg3ll r-16y2uox r-1wbh5a2 r-1pi2tsx r-1udh08x\" data-testid=\"ScrollSnap-SwipeableList\"><div class=\"css-1dbjc4n r-18u37iz r-16y2uox r-1wbh5a2 r-tzz3ar r-1pi2tsx r-lltvgl r-buy8e9 r-mfh4gg r-2eszeu r-hbs49y\" data-testid=\"ScrollSnap-List\" role=\"tablist\"><div class=\"css-1dbjc4n r-16y2uox r-6b64d0 r-cpa5s6\" role=\"presentation\"><a aria-selected=\"true\" class=\"css-4rbku5 css-18t94o4 css-1dbjc4n r-1awozwy r-1loqt21 r-6koalj r-eqz5dr r-16y2uox r-1h3ijdo r-1777fci r-s8bhmr r-1ny4l3l r-1qhn6m8 r-i023vh r-o7ynqc r-6416eg\" href=\"/Fayvrr\" role=\"tab\"><div class=\"css-901oao r-1awozwy r-1nao33i r-6koalj r-18u37iz r-37j5jr r-a023e6 r-b88u0q r-1pi2tsx r-1777fci r-rjixqe r-bcqeeo r-1l7z4oj r-95jzfe r-bnwqim r-qvutc0\" dir=\"auto\"><span class=\"css-901oao css-16my406 r-poiln3 r-bcqeeo r-qvutc0\">Tweets</span><div class=\"css-1dbjc4n r-1kihuf0 r-l5o3uw r-sdzlij r-1p0dtai r-xoduu5 r-hdaws3 r-s8bhmr r-u8s1d r-13qz1uu\"></div></div></a></div><div class=\"css-1dbjc4n r-16y2uox r-6b64d0 r-cpa5s6\" role=\"presentation\"><a aria-selected=\"false\" class=\"css-4rbku5 css-18t94o4 css-1dbjc4n r-1awozwy r-1loqt21 r-6koalj r-eqz5dr r-16y2uox r-1h3ijdo r-1777fci r-s8bhmr r-1ny4l3l r-1qhn6m8 r-i023vh r-o7ynqc r-6416eg\" href=\"/Fayvrr/with_replies\" role=\"tab\" tabindex=\"-1\"><div class=\"css-901oao r-1awozwy r-1bwzh9t r-6koalj r-18u37iz r-37j5jr r-a023e6 r-majxgm r-1pi2tsx r-1777fci r-rjixqe r-bcqeeo r-1l7z4oj r-95jzfe r-bnwqim r-qvutc0\" dir=\"auto\"><span class=\"css-901oao css-16my406 r-poiln3 r-bcqeeo r-qvutc0\">Tweets &amp; replies</span><div class=\"css-1dbjc4n r-xoduu5\"></div></div></a></div><div class=\"css-1dbjc4n r-16y2uox r-6b64d0 r-cpa5s6\" role=\"presentation\"><a aria-selected=\"false\" class=\"css-4rbku5 css-18t94o4 css-1dbjc4n r-1awozwy r-1loqt21 r-6koalj r-eqz5dr r-16y2uox r-1h3ijdo r-1777fci r-s8bhmr r-1ny4l3l r-1qhn6m8 r-i023vh r-o7ynqc r-6416eg\" href=\"/Fayvrr/media\" role=\"tab\" tabindex=\"-1\"><div class=\"css-901oao r-1awozwy r-1bwzh9t r-6koalj r-18u37iz r-37j5jr r-a023e6 r-majxgm r-1pi2tsx r-1777fci r-rjixqe r-bcqeeo r-1l7z4oj r-95jzfe r-bnwqim r-qvutc0\" dir=\"auto\"><span class=\"css-901oao css-16my406 r-poiln3 r-bcqeeo r-qvutc0\">Media</span><div class=\"css-1dbjc4n r-xoduu5\"></div></div></a></div><div class=\"css-1dbjc4n r-16y2uox r-6b64d0 r-cpa5s6\" role=\"presentation\"><a aria-selected=\"false\" class=\"css-4rbku5 css-18t94o4 css-1dbjc4n r-1awozwy r-1loqt21 r-6koalj r-eqz5dr r-16y2uox r-1h3ijdo r-1777fci r-s8bhmr r-1ny4l3l r-1qhn6m8 r-i023vh r-o7ynqc r-6416eg\" href=\"/Fayvrr/likes\" role=\"tab\" tabindex=\"-1\"><div class=\"css-901oao r-1awozwy r-1bwzh9t r-6koalj r-18u37iz r-37j5jr r-a023e6 r-majxgm r-1pi2tsx r-1777fci r-rjixqe r-bcqeeo r-1l7z4oj r-95jzfe r-bnwqim r-qvutc0\" dir=\"auto\"><span class=\"css-901oao css-16my406 r-poiln3 r-bcqeeo r-qvutc0\">Likes</span><div class=\"css-1dbjc4n r-xoduu5\"></div></div></a></div></div></div><div class=\"css-1dbjc4n r-4amgru r-orgf3d r-633pao r-u8s1d r-zchlnj r-o7ynqc r-1i6wzkk r-184en5c\" data-testid=\"ScrollSnap-nextButtonWrapper\"><div aria-disabled=\"true\" aria-label=\"Next\" class=\"css-1dbjc4n r-42olwf r-sdzlij r-1phboty r-rs99b7 r-2yi16 r-1qi8awa r-icoktb r-1ny4l3l r-o7ynqc r-6416eg r-lrvibr\" role=\"button\" style=\"backdrop-filter: blur(4px); background-color: rgba(15, 20, 25, 0.75);\" tabindex=\"-1\"><div class=\"css-901oao r-1awozwy r-jwli3a r-6koalj r-18u37iz r-16y2uox r-37j5jr r-a023e6 r-b88u0q r-1777fci r-rjixqe r-bcqeeo r-q4m81j r-qvutc0\" dir=\"auto\"><svg aria-hidden=\"true\" class=\"r-1otekoa r-4qtqp9 r-yyyyoo r-z80fyv r-dnmrzs r-bnwqim r-1plcrui r-lrvibr r-19wmn03\" viewbox=\"0 0 24 24\"><g><path d=\"M19.707 11.293l-6-6c-.39-.39-1.023-.39-1.414 0s-.39 1.023 0 1.414L16.586 11H4c-.553 0-1 .447-1 1s.447 1 1 1h12.586l-4.293 4.293c-.39.39-.39 1.023 0 1.414.195.195.45.293.707.293s.512-.098.707-.293l6-6c.39-.39.39-1.023 0-1.414z\"></path></g></svg><span class=\"css-901oao css-16my406 css-1hf3ou5 r-poiln3 r-a023e6 r-rjixqe r-bcqeeo r-qvutc0\"></span></div></div></div></div></nav><div class=\"css-1dbjc4n r-1awozwy r-16y2uox r-1777fci r-1e081e0 r-tvv088\"><div aria-label=\"Loading Tweets by @Fayvrr\" aria-valuemax=\"1\" aria-valuemin=\"0\" class=\"css-1dbjc4n r-1awozwy r-1777fci\" role=\"progressbar\"><div class=\"css-1dbjc4n r-17bb2tj r-1muvv40 r-127358a r-1ldzwu0\" style=\"height: 26px; width: 26px;\"><svg height=\"100%\" viewbox=\"0 0 32 32\" width=\"100%\"><circle cx=\"16\" cy=\"16\" fill=\"none\" r=\"14\" stroke-width=\"4\" style=\"stroke: rgb(29, 155, 240); opacity: 0.2;\"></circle><circle cx=\"16\" cy=\"16\" fill=\"none\" r=\"14\" stroke-width=\"4\" style=\"stroke: rgb(29, 155, 240); stroke-dasharray: 80; stroke-dashoffset: 60;\"></circle></svg></div></div></div></div></div></div></div></div><div class=\"css-1dbjc4n r-aqfbo4 r-zso239 r-1jocfgc\" data-testid=\"sidebarColumn\"><div class=\"css-1dbjc4n r-1pi2tsx\" style=\"min-height: 532px;\"><div class=\"css-1dbjc4n\" style=\"margin-top: 0px;\"></div><div class=\"css-1dbjc4n r-1xcajam r-ipm5af r-1jocfgc\"><div class=\"css-1dbjc4n r-1adg3ll\"><div aria-label=\"Trending\" class=\"css-1dbjc4n\" tabindex=\"0\"><div aria-label=\"Loading profile sidebar\" aria-valuemax=\"1\" aria-valuemin=\"0\" class=\"css-1dbjc4n r-1awozwy r-1777fci\" role=\"progressbar\"><div class=\"css-1dbjc4n r-17bb2tj r-1muvv40 r-127358a r-1ldzwu0\" style=\"height: 26px; width: 26px;\"><svg height=\"100%\" viewbox=\"0 0 32 32\" width=\"100%\"><circle cx=\"16\" cy=\"16\" fill=\"none\" r=\"14\" stroke-width=\"4\" style=\"stroke: rgb(29, 155, 240); opacity: 0.2;\"></circle><circle cx=\"16\" cy=\"16\" fill=\"none\" r=\"14\" stroke-width=\"4\" style=\"stroke: rgb(29, 155, 240); stroke-dasharray: 80; stroke-dashoffset: 60;\"></circle></svg></div></div></div></div></div></div></div></div></div></div></main></div></div></div></div><script charset=\"utf-8\" nonce=\"\" type=\"text/javascript\">window.__INITIAL_STATE__={\"optimist\":[],\"entities\":{\"broadcasts\":{\"entities\":{},\"errors\":{},\"fetchStatus\":{}},\"cards\":{\"entities\":{},\"errors\":{},\"fetchStatus\":{}},\"commerceItems\":{\"entities\":{},\"errors\":{},\"fetchStatus\":{}},\"communities\":{\"entities\":{},\"errors\":{},\"fetchStatus\":{}},\"conversations\":{\"entities\":{},\"errors\":{},\"fetchStatus\":{}},\"entries\":{\"entities\":{},\"errors\":{},\"fetchStatus\":{}},\"lists\":{\"entities\":{},\"errors\":{},\"fetchStatus\":{}},\"moments\":{\"entities\":{},\"errors\":{},\"fetchStatus\":{}},\"topics\":{\"entities\":{},\"errors\":{},\"fetchStatus\":{}},\"tweets\":{\"entities\":{},\"errors\":{},\"fetchStatus\":{}},\"twitterArticles\":{\"entities\":{},\"errors\":{},\"fetchStatus\":{}},\"trustedFriends\":{\"entities\":{},\"errors\":{},\"fetchStatus\":{}},\"userPresence\":{\"entities\":{},\"errors\":{},\"fetchStatus\":{}},\"userCommunityInviteActionResult\":{\"entities\":{},\"errors\":{},\"fetchStatus\":{}},\"users\":{\"entities\":{\"1562060197786427392\":{\"blocked_by\":false,\"blocking\":false,\"can_dm\":true,\"can_media_tag\":true,\"default_profile\":true,\"default_profile_image\":false,\"description\":\"Wise Choice For Most Investors...Free Forex Signals\\n#marketupdates #EdgeForex #Trade\",\"entities\":{\"description\":{\"urls\":[]},\"url\":{\"urls\":[{\"display_url\":\"t.me/edge_forex_pub…\",\"expanded_url\":\"https://t.me/edge_forex_public\",\"url\":\"https://t.co/MYdZxmOroJ\",\"indices\":[0,23]}]}},\"fast_followers_count\":0,\"favourites_count\":0,\"follow_request_sent\":false,\"followed_by\":false,\"followers_count\":9,\"following\":false,\"friends_count\":10,\"has_custom_timelines\":false,\"is_translator\":false,\"listed_count\":0,\"location\":\"Toronto, Canada\",\"media_count\":210,\"muting\":false,\"name\":\"Edge Forex\",\"needs_phone_verification\":false,\"normal_followers_count\":9,\"notifications\":false,\"pinned_tweet_ids_str\":[],\"possibly_sensitive\":false,\"profile_banner_url\":\"https://pbs.twimg.com/profile_banners/1562060197786427392/1662121867\",\"profile_image_url_https\":\"https://pbs.twimg.com/profile_images/1565674226409000963/kYUUFqUu_normal.jpg\",\"profile_interstitial_type\":\"\",\"protected\":false,\"screen_name\":\"EdgeForex16\",\"statuses_count\":253,\"translator_type\":\"none\",\"url\":\"https://t.co/MYdZxmOroJ\",\"verified\":false,\"want_retweets\":false,\"withheld_in_countries\":[],\"id_str\":\"1562060197786427392\",\"is_profile_translatable\":false,\"super_follow_eligible\":false,\"super_following\":false,\"super_followed_by\":false,\"has_nft_avatar\":false,\"birthdate\":{\"day\":1,\"month\":1,\"year\":1973,\"visibility\":\"self\",\"year_visibility\":\"self\"},\"created_at\":\"2022-08-23T12:52:36.000Z\",\"profile_banner_extensions_media_color\":{\"palette\":[{\"percentage\":52.29,\"rgb\":{\"blue\":255,\"green\":255,\"red\":255}},{\"percentage\":26.42,\"rgb\":{\"blue\":26,\"green\":10,\"red\":11}},{\"percentage\":2.56,\"rgb\":{\"blue\":6,\"green\":60,\"red\":250}},{\"percentage\":1.91,\"rgb\":{\"blue\":91,\"green\":37,\"red\":23}},{\"percentage\":1.2,\"rgb\":{\"blue\":7,\"green\":131,\"red\":244}}]},\"profile_image_extensions_media_color\":{\"palette\":[{\"percentage\":77.37,\"rgb\":{\"blue\":255,\"green\":255,\"red\":255}},{\"percentage\":22.39,\"rgb\":{\"blue\":55,\"green\":55,\"red\":55}}]}}},\"errors\":{},\"fetchStatus\":{\"1562060197786427392\":\"loaded\"}},\"userCommunityRoleRelationship\":{\"entities\":{},\"errors\":{},\"fetchStatus\":{}}},\"featureSwitch\":{\"debug\":{},\"defaultConfig\":{\"2fa_temporary_password_enabled\":{\"value\":false},\"Arkose_rweb_hosted_page\":{\"value\":true},\"Arkose_use_invisible_challenge_key\":{\"value\":false},\"account_2fa_standalone_security_key_enabled\":{\"value\":true},\"account_country_setting_countries_whitelist\":{\"value\":[\"ad\",\"ae\",\"af\",\"ag\",\"ai\",\"al\",\"am\",\"ao\",\"ar\",\"as\",\"at\",\"au\",\"aw\",\"ax\",\"az\",\"ba\",\"bb\",\"bd\",\"be\",\"bf\",\"bg\",\"bh\",\"bi\",\"bj\",\"bl\",\"bm\",\"bn\",\"bo\",\"bq\",\"br\",\"bs\",\"bt\",\"bv\",\"bw\",\"by\",\"bz\",\"ca\",\"cc\",\"cd\",\"cf\",\"cg\",\"ch\",\"ci\",\"ck\",\"cl\",\"cm\",\"co\",\"cr\",\"cu\",\"cv\",\"cw\",\"cx\",\"cy\",\"cz\",\"de\",\"dj\",\"dk\",\"dm\",\"do\",\"dz\",\"ec\",\"ee\",\"eg\",\"er\",\"es\",\"et\",\"fi\",\"fj\",\"fk\",\"fm\",\"fo\",\"fr\",\"ga\",\"gb\",\"gd\",\"ge\",\"gf\",\"gg\",\"gh\",\"gi\",\"gl\",\"gm\",\"gn\",\"gp\",\"gq\",\"gr\",\"gs\",\"gt\",\"gu\",\"gw\",\"gy\",\"hk\",\"hn\",\"hr\",\"ht\",\"hu\",\"id\",\"ie\",\"il\",\"im\",\"in\",\"io\",\"iq\",\"ir\",\"is\",\"it\",\"je\",\"jm\",\"jo\",\"jp\",\"ke\",\"kg\",\"kh\",\"ki\",\"km\",\"kn\",\"kr\",\"kw\",\"ky\",\"kz\",\"la\",\"lb\",\"lc\",\"li\",\"lk\",\"lr\",\"ls\",\"lt\",\"lu\",\"lv\",\"ly\",\"ma\",\"mc\",\"md\",\"me\",\"mf\",\"mg\",\"mh\",\"mk\",\"ml\",\"mn\",\"mo\",\"mp\",\"mq\",\"mr\",\"ms\",\"mt\",\"mu\",\"mv\",\"mw\",\"mx\",\"my\",\"mz\",\"na\",\"nc\",\"ne\",\"nf\",\"ng\",\"ni\",\"nl\",\"no\",\"np\",\"nr\",\"nu\",\"nz\",\"om\",\"pa\",\"pe\",\"pf\",\"pg\",\"ph\",\"pk\",\"pl\",\"pm\",\"pn\",\"pr\",\"ps\",\"pt\",\"pw\",\"py\",\"qa\",\"re\",\"ro\",\"rs\",\"ru\",\"rw\",\"sa\",\"sb\",\"sc\",\"se\",\"sg\",\"sh\",\"si\",\"sk\",\"sl\",\"sm\",\"sn\",\"so\",\"sr\",\"st\",\"sv\",\"sx\",\"sz\",\"tc\",\"td\",\"tf\",\"tg\",\"th\",\"tj\",\"tk\",\"tl\",\"tm\",\"tn\",\"to\",\"tr\",\"tt\",\"tv\",\"tw\",\"tz\",\"ua\",\"ug\",\"us\",\"uy\",\"uz\",\"va\",\"vc\",\"ve\",\"vi\",\"vn\",\"vu\",\"wf\",\"ws\",\"xk\",\"ye\",\"yt\",\"za\",\"zm\",\"zw\"]},\"account_session_console_from_graphql_enabled\":{\"value\":true},\"account_taxonomy_automated_label_enabled\":{\"value\":true},\"account_taxonomy_automation_opt_in_enabled\":{\"value\":false},\"ads_spacing_client_fallback_minimum_spacing\":{\"value\":3},\"arkose_challenge_lo_web_notification_dev\":{\"value\":\"BF5FA6C8-9668-4AF9-AFA2-E362F56E5B71\"},\"arkose_challenge_lo_web_notification_mobile_prod\":{\"value\":\"6A2FD110-7C1A-47CD-82EE-D01FFB4810D7\"},\"arkose_challenge_lo_web_notification_prod\":{\"value\":\"50706BFE-942C-4EEC-B9AD-03F7CD268FB1\"},\"arkose_challenge_login_web_devel\":{\"value\":\"DF58DD3B-DFCC-4502-91FA-EDC0DC385CFF\"},\"arkose_challenge_login_web_prod\":{\"value\":\"2F4F0B28-BC94-4271-8AD7-A51662E3C91C\"},\"arkose_challenge_open_app_dev\":{\"value\":\"560C66A3-C8EB-4D11-BE53-A8232734AA62\"},\"arkose_challenge_open_app_prod\":{\"value\":\"6E8D3D6E-30D4-45F1-9838-BA3D9651AAA1\"},\"arkose_challenge_signup_mobile_dev\":{\"value\":\"006B5E87-7497-403E-9E0C-8FFBAAC6FA67\"},\"arkose_challenge_signup_mobile_prod\":{\"value\":\"867D55F2-24FD-4C56-AB6D-589EDAF5E7C5\"},\"arkose_challenge_signup_web_dev\":{\"value\":\"DF58DD3B-DFCC-4502-91FA-EDC0DC385CFF\"},\"arkose_challenge_signup_web_prod\":{\"value\":\"2CB16598-CB82-4CF7-B332-5990DB66F3AB\"},\"author_moderated_replies_urt_container_enabled\":{\"value\":false},\"branded_like_preview_enabled\":{\"value\":false},\"c9s_auto_collapse_community_detail_header_enabled\":{\"value\":true},\"c9s_communities_search_enabled\":{\"value\":true},\"c9s_community_composer_hashtag_suggestions_enabled\":{\"value\":false},\"c9s_community_creation_enabled\":{\"value\":true},\"c9s_community_creation_form_membership_type_enabled\":{\"value\":true},\"c9s_community_creation_setup_checklist_enabled\":{\"value\":true},\"c9s_community_deletion_enabled\":{\"value\":true},\"c9s_community_hashtags_carousel_enabled\":{\"value\":false},\"c9s_community_hashtags_enabled\":{\"value\":true},\"c9s_edit_moderators_enabled\":{\"value\":true},\"c9s_enabled\":{\"value\":true},\"c9s_highlight_tweet_enabled\":{\"value\":true},\"c9s_list_members_action_api_enabled\":{\"value\":false},\"c9s_logged_out_access_enabled\":{\"value\":true},\"c9s_max_community_description_length\":{\"value\":160},\"c9s_max_community_name_length\":{\"value\":30},\"c9s_max_rule_count\":{\"value\":10},\"c9s_max_rule_description_length\":{\"value\":160},\"c9s_max_rule_name_length\":{\"value\":60},\"c9s_members_list_search_enabled\":{\"value\":true},\"c9s_moderation_enabled\":{\"value\":true},\"c9s_nav_list_activity_details_enabled\":{\"value\":false},\"c9s_participation_enabled\":{\"value\":true},\"c9s_poll_creation_enabled\":{\"value\":true},\"c9s_remove_member_enabled\":{\"value\":true},\"c9s_remove_member_list_enabled\":{\"value\":true},\"c9s_report_community_enabled\":{\"value\":false},\"c9s_rule_management_enabled\":{\"value\":true},\"c9s_spotlight_consumption_enabled\":{\"value\":false},\"c9s_spotlight_creation_enabled\":{\"value\":false},\"c9s_tab_visibility\":{\"value\":\"members_only\"},\"c9s_timelines_default_selection\":{\"value\":\"ranked\"},\"c9s_timelines_ranking_enabled\":{\"value\":false},\"c9s_unread_indicator_global_enabled\":{\"value\":true},\"c9s_unread_indicator_mod_actions_enabled\":{\"value\":true},\"c9s_unread_indicator_tweets_enabled\":{\"value\":true},\"card_compose_preview_retry_after_ms\":{\"value\":3000},\"card_compose_preview_retry_max\":{\"value\":5},\"content_language_setting_enabled\":{\"value\":true},\"conversation_controls_change_enabled\":{\"value\":true},\"conversation_controls_change_tooltip_enabled\":{\"value\":true},\"conversation_controls_limited_replies_consumption_configuration\":{\"value\":\"no_reply\"},\"conversation_controls_limited_replies_creation_enabled\":{\"value\":true},\"conversation_controls_persistence_enabled\":{\"value\":true},\"conversational_safety_heads_up_treatment_A_enabled\":{\"value\":\"\"},\"dash_region_specific_de_media_transparency_items_enabled\":{\"value\":false},\"direct_messages_incremental_holdback_2022h1\":{\"value\":true},\"dm_conversation_labels_max_pinned_count\":{\"value\":6},\"dm_conversation_labels_pinned_education_enabled\":{\"value\":true},\"dm_conversation_labels_pinned_enabled\":{\"value\":true},\"dm_conversations_nsfw_media_filter_enabled\":{\"value\":false},\"dm_education_flags_prompt\":{\"value\":false},\"dm_evolution_add_participants_enabled\":{\"value\":false},\"dm_evolution_conversation_read_enabled\":{\"value\":false},\"dm_evolution_enabled\":{\"value\":true},\"dm_evolution_group_conversation_management_ct_enabled\":{\"value\":false},\"dm_evolution_inbox_primary_enabled\":{\"value\":false},\"dm_evolution_inbox_secondary_enabled\":{\"value\":false},\"dm_evolution_inbox_tertiary_enabled\":{\"value\":false},\"dm_evolution_message_creation_enabled\":{\"value\":false},\"dm_evolution_message_hide_enabled\":{\"value\":true},\"dm_evolution_messaging_interactions_ct_enabled\":{\"value\":false},\"dm_evolution_reaction_write_enabled\":{\"value\":true},\"dm_evolution_responsive_web_early_bird_only_switch\":{\"value\":false},\"dm_evolution_typing_indicator_enabled\":{\"value\":true},\"dm_inbox_search_groups_bucket_size\":{\"value\":5},\"dm_inbox_search_max_recent_searches_stored\":{\"value\":5},\"dm_inbox_search_message_attachment_previews_enabled\":{\"value\":true},\"dm_inbox_search_message_results_enabled\":{\"value\":true},\"dm_inbox_search_messages_bucket_size\":{\"value\":5},\"dm_inbox_search_modular_results_enabled\":{\"value\":true},\"dm_inbox_search_people_bucket_size\":{\"value\":5},\"dm_inbox_search_query_highlighting_conversation_results_enabled\":{\"value\":true},\"dm_inbox_search_query_highlighting_message_results_enabled\":{\"value\":true},\"dm_reactions_config_active_reactions\":{\"value\":[\"😂:funny\",\"😲:surprised\",\"😢:sad\",\"❤️:like\",\"🔥:excited\",\"👍:agree\",\"👎:disagree\"]},\"dm_reactions_config_inactive_reactions\":{\"value\":[\"😠:angry\",\"😷:mask\"]},\"dm_share_sheet_send_individually_enabled\":{\"value\":true},\"dm_share_sheet_send_individually_max_count\":{\"value\":20},\"dm_vdl_chat_p0_enabled\":{\"value\":true},\"dm_vdl_enabled\":{\"value\":true},\"dm_vdl_inbox_p0_enabled\":{\"value\":true},\"dm_voice_rendering_enabled\":{\"value\":true},\"dont_mention_me_enabled\":{\"value\":true},\"dont_mention_me_mentions_tab_education_enabled\":{\"value\":true},\"dont_mention_me_view_api_enabled\":{\"value\":true},\"ecd_dispute_form_link_enabled\":{\"value\":true},\"employee_role\":{\"value\":false},\"enable_label_appealing_misinfo_enabled\":{\"value\":false},\"enable_label_appealing_sensitive_content_enabled\":{\"value\":false},\"explore_relaunch_enable_immersive_web\":{\"value\":false},\"explore_relaunch_enable_immersive_web_navigation_button\":{\"value\":false},\"explore_relaunch_enable_immersive_web_tap_to_hide\":{\"value\":false},\"explore_relaunch_enabled\":{\"value\":false},\"explore_relaunch_onboarding_bar_show_count\":{\"value\":3},\"explore_relaunch_updated_scrubber_position\":{\"value\":false},\"focused_timeline_actions_onboarding_likes\":{\"value\":3},\"follow_nudge_conversation_enabled\":{\"value\":false},\"follow_nudge_search_enabled\":{\"value\":false},\"global_mention_settings_enabled\":{\"value\":false},\"graphql_composer_and_dm_card_previews_enabled\":{\"value\":false},\"graphql_is_translatable_rweb_tweet_is_translatable_enabled\":{\"value\":false},\"graphql_mutation_destroy_mode\":{\"value\":\"graphql_only\"},\"graphql_mutation_retweet_mode\":{\"value\":\"graphql_only\"},\"graphql_mutation_unretweet_mode\":{\"value\":\"graphql_only\"},\"graphql_mutation_update_mode\":{\"value\":\"graphql_only\"},\"graphql_timeline_v2_bookmark_timeline\":{\"value\":false},\"graphql_timeline_v2_query_threaded_conversation_with_injections\":{\"value\":true},\"graphql_timeline_v2_user_favorites_by_time_timeline\":{\"value\":true},\"graphql_timeline_v2_user_media_timeline\":{\"value\":true},\"graphql_timeline_v2_user_profile_timeline\":{\"value\":true},\"graphql_timeline_v2_user_profile_with_replies_timeline\":{\"value\":true},\"gryphon_optout_in_settings\":{\"value\":false},\"guest_broadcasting_timeline_decorations_enabled\":{\"value\":false},\"hashflags_animation_like_button_enabled\":{\"value\":true},\"home_timeline_extended_reactivity_tweet_clicks_enabled\":{\"value\":false},\"home_timeline_extended_reactivity_tweet_clicks_fatigue\":{\"value\":5},\"home_timeline_extended_reactivity_tweet_clicks_trigger_seconds\":{\"value\":120},\"home_timeline_latest_timeline_switch_enabled\":{\"value\":true},\"home_timeline_like_reactivity_enabled\":{\"value\":true},\"home_timeline_like_reactivity_fatigue\":{\"value\":10},\"home_timeline_scribing_section_change_enabled\":{\"value\":false},\"home_timeline_spheres_detail_page_muting_enabled\":{\"value\":true},\"home_timeline_spheres_max_user_owned_or_subscribed_lists_count\":{\"value\":5},\"home_timeline_spheres_ranking_mode_control_enabled\":{\"value\":true},\"home_timeline_tweet_auto_inline_reply_enabled\":{\"value\":false},\"identity_verification_debadging_notification_enabled\":{\"value\":true},\"identity_verification_educational_prompt_enabled\":{\"value\":true},\"identity_verification_intake_enabled\":{\"value\":true},\"identity_verification_notable_demo_survey\":{\"value\":false},\"interactive_text_enabled\":{\"value\":true},\"live_event_docking_enabled\":{\"value\":true},\"live_event_interstitial_seen_cache_enabled\":{\"value\":true},\"live_event_multi_video_auto_advance_dock_enabled\":{\"value\":true},\"live_event_multi_video_auto_advance_enabled\":{\"value\":true},\"live_event_multi_video_auto_advance_fullscreen_enabled\":{\"value\":false},\"live_event_multi_video_auto_advance_transition_duration_seconds\":{\"value\":5},\"live_event_multi_video_enabled\":{\"value\":true},\"live_event_timeline_default_refresh_rate_interval_seconds\":{\"value\":30},\"live_event_timeline_minimum_refresh_rate_interval_seconds\":{\"value\":10},\"live_event_timeline_server_controlled_refresh_rate_enabled\":{\"value\":true},\"livepipeline_client_enabled\":{\"value\":true},\"livepipeline_dm_features_enabled\":{\"value\":true},\"livepipeline_tweetengagement_enabled\":{\"value\":true},\"longform_ad_free_articles_badging_enabled\":{\"value\":false},\"longform_top_articles_friends_of_friends_enabled\":{\"value\":true},\"longform_top_articles_time_window_enabled\":{\"value\":true},\"machine_translation_logged_out_enabled\":{\"value\":false},\"media_edge_to_edge_content_enabled\":{\"value\":false},\"media_infra_play_icon_version_number\":{\"value\":\"playicon_v0\"},\"moment_annotations_enabled\":{\"value\":true},\"moments_new_share_variant_floating_action_button\":{\"value\":false},\"network_layer_503_backoff_mode\":{\"value\":\"host\"},\"ocf_2fa_enrollment_bouncer_enabled\":{\"value\":true},\"ocf_2fa_enrollment_enabled\":{\"value\":true},\"ocf_2fa_unenrollment_enabled\":{\"value\":true},\"onboarding_connect_tab_urt_graphql_enabled\":{\"value\":false},\"onboarding_project_uls_enabled\":{\"value\":false},\"papago_tweet_translation_from_korean_entity_protected\":{\"value\":false},\"papago_tweet_translation_from_korean_entity_protected_destinations\":{\"value\":[\"en\",\"ja\",\"zh\",\"zh-cn\",\"zh-Hans\",\"zh-tw\",\"zh-Hant\"]},\"papago_tweet_translation_from_korean_entity_unprotected\":{\"value\":false},\"papago_tweet_translation_from_korean_entity_unprotected_destinations\":{\"value\":[\"id\",\"es\",\"th\"]},\"papago_tweet_translation_to_korean\":{\"value\":false},\"papago_tweet_translation_to_korean_sources\":{\"value\":[\"en\",\"ja\"]},\"professional_launchpad_m1_enabled\":{\"value\":false},\"professional_launchpad_upload_address_book\":{\"value\":false},\"profile_foundations_about_tab_enabled\":{\"value\":false},\"profile_foundations_about_tab_tooltip_enabled\":{\"value\":false},\"profile_foundations_header_fields_hidden\":{\"value\":false},\"profile_foundations_tweet_stats_enabled\":{\"value\":false},\"profile_foundations_tweet_stats_tweet_count\":{\"value\":false},\"profile_foundations_tweet_stats_tweet_frequency\":{\"value\":false},\"profile_foundations_tweet_stats_tweet_topics\":{\"value\":false},\"profile_navigation_likes_tab_prominence_enabled\":{\"value\":false},\"report_center_mvp_r1_enabled\":{\"value\":true},\"report_center_mvp_r2_enabled\":{\"value\":false},\"responsive_web_3rd_party_category_branch\":{\"value\":3},\"responsive_web_3rd_party_category_double_click\":{\"value\":3},\"responsive_web_3rd_party_category_external_referer\":{\"value\":3},\"responsive_web_3rd_party_category_ga\":{\"value\":3},\"responsive_web_3rd_party_category_google_platform\":{\"value\":2},\"responsive_web_3rd_party_category_google_recaptcha\":{\"value\":2},\"responsive_web_3rd_party_category_player_card\":{\"value\":3},\"responsive_web_3rd_party_category_sentry\":{\"value\":2},\"responsive_web_3rd_party_category_sign_in_with_apple\":{\"value\":2},\"responsive_web_account_access_language_lo_banners\":{\"value\":\"control\"},\"responsive_web_account_access_language_lo_splash_sidebar\":{\"value\":\"control\"},\"responsive_web_account_search_readability_enabled\":{\"value\":true},\"responsive_web_alt_svc\":{\"value\":false},\"responsive_web_alt_text_nudges_enabled\":{\"value\":true},\"responsive_web_alt_text_nudges_settings_enabled\":{\"value\":true},\"responsive_web_alt_text_translations_enabled\":{\"value\":true},\"responsive_web_api_transition_enabled\":{\"value\":true},\"responsive_web_article_nudge_enabled\":{\"value\":true},\"responsive_web_audio_space_ring_home_timeline\":{\"value\":false},\"responsive_web_author_labels_avatar_label_enabled\":{\"value\":false},\"responsive_web_author_labels_focal_label_enabled\":{\"value\":false},\"responsive_web_author_labels_handle_label_enabled\":{\"value\":false},\"responsive_web_auto_logout_multiaccount_enabled\":{\"value\":true},\"responsive_web_auto_logout_restrictedauthtoken_enabled\":{\"value\":true},\"responsive_web_auto_logout_twid_enabled\":{\"value\":true},\"responsive_web_behavioral_events_communities_enabled\":{\"value\":true},\"responsive_web_behavioral_events_enabled\":{\"value\":false},\"responsive_web_behavioral_events_home_enabled\":{\"value\":true},\"responsive_web_behavioral_events_htl_breadcrumbs\":{\"value\":true},\"responsive_web_behavioral_events_session_id_enabled\":{\"value\":false},\"responsive_web_behavioral_events_target_view_v2_enabled\":{\"value\":false},\"responsive_web_birdwatch_aliases_enabled\":{\"value\":true},\"responsive_web_birdwatch_appeals_enabled\":{\"value\":true},\"responsive_web_birdwatch_consumption_enabled\":{\"value\":false},\"responsive_web_birdwatch_contribution_enabled\":{\"value\":false},\"responsive_web_birdwatch_country_allowed\":{\"value\":false},\"responsive_web_birdwatch_deleted_notes_enabled\":{\"value\":true},\"responsive_web_birdwatch_earn_in_enabled\":{\"value\":true},\"responsive_web_birdwatch_earn_out_enabled\":{\"value\":true},\"responsive_web_birdwatch_hcomp_user\":{\"value\":false},\"responsive_web_birdwatch_history_enabled\":{\"value\":false},\"responsive_web_birdwatch_impressions_enabled\":{\"value\":false},\"responsive_web_birdwatch_new_note_submission_modal_enabled\":{\"value\":true},\"responsive_web_birdwatch_note_awards_enabled\":{\"value\":true},\"responsive_web_birdwatch_note_writing_enabled\":{\"value\":false},\"responsive_web_birdwatch_pivots_enabled\":{\"value\":false},\"responsive_web_birdwatch_profile_awards_enabled\":{\"value\":true},\"responsive_web_birdwatch_rating_crowd_enabled\":{\"value\":false},\"responsive_web_birdwatch_rating_mini_survey_enabled\":{\"value\":false},\"responsive_web_birdwatch_rating_participant_enabled\":{\"value\":false},\"responsive_web_birdwatch_ratings_m2_tags_enabled\":{\"value\":true},\"responsive_web_birdwatch_ratings_v2_enabled\":{\"value\":true},\"responsive_web_birdwatch_site_enabled\":{\"value\":true},\"responsive_web_birdwatch_traffic_lights_enabled\":{\"value\":true},\"responsive_web_branch_cpid_enabled\":{\"value\":false},\"responsive_web_branch_sdk_enabled\":{\"value\":true},\"responsive_web_card_conversion_hoisted\":{\"value\":\"off\"},\"responsive_web_card_preconnect_enabled\":{\"value\":false},\"responsive_web_card_preload_mode\":{\"value\":false},\"responsive_web_carousel_v2_cards_non_safari_enabled\":{\"value\":false},\"responsive_web_carousel_v2_cards_safari_variant\":{\"value\":\"control\"},\"responsive_web_carousel_v2_media_detail_enabled\":{\"value\":false},\"responsive_web_cleanup_macaw_swift_indexed_db\":{\"value\":true},\"responsive_web_collection_ads_enabled\":{\"value\":true},\"responsive_web_commerce_shop_spotlight_enabled\":{\"value\":false},\"responsive_web_communities_slices_enabled\":{\"value\":true},\"responsive_web_composer_configurable_video_player_enabled\":{\"value\":false},\"responsive_web_continue_as_always_enabled\":{\"value\":false},\"responsive_web_continue_as_param_enabled\":{\"value\":true},\"responsive_web_convert_card_video_to_gif_enabled\":{\"value\":false},\"responsive_web_cookie_compliance_1st_party_killswitch_list\":{\"value\":[]},\"responsive_web_cookie_compliance_banner_enabled\":{\"value\":false},\"responsive_web_cookie_compliance_gingersnap_enabled\":{\"value\":false},\"responsive_web_cookie_consent_signal_enabled\":{\"value\":false},\"responsive_web_cotweet_consumption_enabled\":{\"value\":true},\"responsive_web_csrf_clientside_enabled\":{\"value\":true},\"responsive_web_dance_cc_tools_enabled\":{\"value\":false},\"responsive_web_dance_cc_tools_include_development_enabled\":{\"value\":false},\"responsive_web_dcm_2_enabled\":{\"value\":true},\"responsive_web_deamplification_replies_dropdown_selector_enabled\":{\"value\":false},\"responsive_web_deamplification_transparent_cursors_enabled\":{\"value\":false},\"responsive_web_delegate_enabled\":{\"value\":false},\"responsive_web_device_follow_without_user_follow_enabled\":{\"value\":false},\"responsive_web_disconnect_third_party_sso_enabled\":{\"value\":true},\"responsive_web_dockable_autoplay_policy_enabled\":{\"value\":true},\"responsive_web_drew_mute_and_block_enabled\":{\"value\":false},\"responsive_web_drew_profile_block_enabled\":{\"value\":false},\"responsive_web_drew_timeline_block_enabled\":{\"value\":false},\"responsive_web_dtime_fccts_enabled\":{\"value\":false},\"responsive_web_dtime_featured_timelines_modal_enabled\":{\"value\":true},\"responsive_web_dtime_show_new_tweets_enabled\":{\"value\":true},\"responsive_web_dtime_sparkle_menu_featured_timelines_enabled\":{\"value\":false},\"responsive_web_dtime_timelines_directory_enabled\":{\"value\":false},\"responsive_web_dtime_timelines_preview_enabled\":{\"value\":false},\"responsive_web_dtime_tpat_enabled\":{\"value\":true},\"responsive_web_dynamic_product_ads_enabled\":{\"value\":false},\"responsive_web_edit_tweet_api_enabled\":{\"value\":true},\"responsive_web_edit_tweet_composition_enabled\":{\"value\":true},\"responsive_web_edit_tweet_perspective_enabled\":{\"value\":false},\"responsive_web_edit_tweet_upsell_enabled\":{\"value\":true},\"responsive_web_element_size_impression_scribe_enabled\":{\"value\":true},\"responsive_web_enhance_cards_enabled\":{\"value\":true},\"responsive_web_eu_countries\":{\"value\":[\"at\",\"be\",\"bg\",\"ch\",\"cy\",\"cz\",\"de\",\"dk\",\"ee\",\"es\",\"fi\",\"fr\",\"gb\",\"gr\",\"hr\",\"hu\",\"ie\",\"is\",\"it\",\"li\",\"lt\",\"lu\",\"lv\",\"mt\",\"nl\",\"no\",\"pl\",\"pt\",\"ro\",\"se\",\"si\",\"sk\"]},\"responsive_web_explorer_ads_enabled\":{\"value\":true},\"responsive_web_extension_compatibility_hide\":{\"value\":false},\"responsive_web_extension_compatibility_impression_guard\":{\"value\":true},\"responsive_web_extension_compatibility_override_param\":{\"value\":false},\"responsive_web_extension_compatibility_scribe\":{\"value\":true},\"responsive_web_extension_compatibility_size_threshold\":{\"value\":50},\"responsive_web_fake_root_twitter_domain_for_testing\":{\"value\":false},\"responsive_web_feature_gating_enabled\":{\"value\":true},\"responsive_web_fetch_hashflags_on_boot\":{\"value\":false},\"responsive_web_footer_categorized_variant_enabled\":{\"value\":false},\"responsive_web_framerate_tracking_home_enabled\":{\"value\":false},\"responsive_web_gaggle_site_enabled\":{\"value\":false},\"responsive_web_graphql_conversations_enabled\":{\"value\":true},\"responsive_web_graphql_dark_reads_probability\":{\"value\":0},\"responsive_web_graphql_feedback\":{\"value\":true},\"responsive_web_graphql_home_enabled\":{\"value\":true},\"responsive_web_graphql_home_latest_enabled\":{\"value\":true},\"responsive_web_graphql_likes_timeline\":{\"value\":true},\"responsive_web_graphql_media_timeline\":{\"value\":true},\"responsive_web_graphql_timeline_navigation_enabled\":{\"value\":false},\"responsive_web_graphql_topic_timeline_enabled\":{\"value\":true},\"responsive_web_hashtag_highlight_is_enabled\":{\"value\":false},\"responsive_web_hashtag_highlight_show_avatar\":{\"value\":false},\"responsive_web_hashtag_highlight_use_small_font\":{\"value\":false},\"responsive_web_hevc_upload_preview_enabled\":{\"value\":false},\"responsive_web_home_new_tweets_pill_v2\":{\"value\":false},\"responsive_web_home_pinned_timelines_latest_enabled\":{\"value\":false},\"responsive_web_home_pinned_timelines_lists_enabled\":{\"value\":false},\"responsive_web_home_sticky_new_tweets_pill_delay_seconds\":{\"value\":1},\"responsive_web_home_sticky_new_tweets_pill_duration_seconds\":{\"value\":120},\"responsive_web_home_sticky_new_tweets_pill_enabled\":{\"value\":true},\"responsive_web_htl_empty_state_redesign_variant\":{\"value\":\"control\"},\"responsive_web_impression_pixel_enabled\":{\"value\":true},\"responsive_web_impression_tracker_refactor_enabled\":{\"value\":true},\"responsive_web_install_banner_show_immediate\":{\"value\":false},\"responsive_web_instream_video_redesign_enabled\":{\"value\":true},\"responsive_web_instream_video_store_keyed\":{\"value\":true},\"responsive_web_lbm_v2_home_enabled\":{\"value\":false},\"responsive_web_lbm_v2_replies_enabled\":{\"value\":false},\"responsive_web_left_nav_refresh_connect_enabled\":{\"value\":false},\"responsive_web_left_nav_refresh_topics_enabled\":{\"value\":false},\"responsive_web_like_by_author_enabled\":{\"value\":false},\"responsive_web_like_by_author_new_line\":{\"value\":false},\"responsive_web_list_tweet_integration_enabled\":{\"value\":false},\"responsive_web_live_commerce_enabled\":{\"value\":false},\"responsive_web_live_video_parity_periscope_auth_enabled\":{\"value\":false},\"responsive_web_location_spotlight_display_map\":{\"value\":true},\"responsive_web_location_spotlight_v1_config\":{\"value\":true},\"responsive_web_location_spotlight_v1_display\":{\"value\":true},\"responsive_web_logged_out_gating_13622_ddg\":{\"value\":\"\"},\"responsive_web_logged_out_gating_14123_ddg\":{\"value\":\"\"},\"responsive_web_logged_out_gating_14788_ddg\":{\"value\":\"\"},\"responsive_web_logged_out_gating_14992_ddg\":{\"value\":\"\"},\"responsive_web_logged_out_gating_15377_ddg\":{\"value\":\"\"},\"responsive_web_logged_out_gating_non_holdback_ddgs\":{\"value\":\"\"},\"responsive_web_logged_out_notifications_enabled\":{\"value\":false},\"responsive_web_logged_out_notifications_including_home\":{\"value\":false},\"responsive_web_login_input_type_email_enabled\":{\"value\":false},\"responsive_web_login_signup_sheet_app_install_cta_enabled\":{\"value\":true},\"responsive_web_media_upload_limit_2g\":{\"value\":250},\"responsive_web_media_upload_limit_3g\":{\"value\":1500},\"responsive_web_media_upload_limit_slow_2g\":{\"value\":150},\"responsive_web_media_upload_md5_hashing_enabled\":{\"value\":false},\"responsive_web_media_upload_metrics_enabled\":{\"value\":true},\"responsive_web_media_upload_target_jpg_pixels_per_byte\":{\"value\":6},\"responsive_web_menu_section_divider_enabled\":{\"value\":false},\"responsive_web_misinfo_label_revamp_tweaks_enabled\":{\"value\":false},\"responsive_web_mixed_media_consumption_enabled\":{\"value\":true},\"responsive_web_mobile_app_spotlight_v1_config\":{\"value\":false},\"responsive_web_mobile_app_spotlight_v1_display\":{\"value\":false},\"responsive_web_moment_maker_annotations_enabled\":{\"value\":false},\"responsive_web_moment_maker_enabled\":{\"value\":true},\"responsive_web_moment_maker_promoted_tweets_enabled\":{\"value\":false},\"responsive_web_multiple_account_limit\":{\"value\":5},\"responsive_web_new_copy_security_key_2fa_enabled\":{\"value\":true},\"responsive_web_newsletters_callout_enabled\":{\"value\":true},\"responsive_web_newsletters_menu_enabled\":{\"value\":true},\"responsive_web_newsletters_profile_subscribe_enabled\":{\"value\":true},\"responsive_web_newsletters_subscribe_double_opt_in_removal_enabled\":{\"value\":true},\"responsive_web_nft_avatar\":{\"value\":true},\"responsive_web_nft_avatar_help_link\":{\"value\":\"https://help.twitter.com/en/using-twitter/twitter-blue-labs#nft\"},\"responsive_web_notifications_empty_state_redesign_variant\":{\"value\":\"control\"},\"responsive_web_ntab_verified_mentions_vit_internal_dogfood\":{\"value\":false},\"responsive_web_nux_web_to_app_drop_gate_enabled\":{\"value\":false},\"responsive_web_oauth2_consent_flow_enabled\":{\"value\":true},\"responsive_web_ocf_reportflow_appeals_enabled\":{\"value\":false},\"responsive_web_ocf_reportflow_dms_enabled\":{\"value\":false},\"responsive_web_ocf_reportflow_lists_enabled\":{\"value\":true},\"responsive_web_ocf_reportflow_profiles_enabled\":{\"value\":false},\"responsive_web_ocf_reportflow_spaces_enabled\":{\"value\":false},\"responsive_web_ocf_reportflow_suspension_appeals_enabled\":{\"value\":false},\"responsive_web_ocf_reportflow_testers\":{\"value\":false},\"responsive_web_ocf_reportflow_tweets_enabled\":{\"value\":true},\"responsive_web_ocf_sms_autoverify_darkwrite\":{\"value\":false},\"responsive_web_ocf_sms_autoverify_enabled\":{\"value\":false},\"responsive_web_offscreen_video_scroller_removal_enabled\":{\"value\":false},\"responsive_web_open_app_appbar_button_enabled\":{\"value\":true},\"responsive_web_open_in_app_prompt_enabled\":{\"value\":false},\"responsive_web_original_tweet_nudge_enabled\":{\"value\":false},\"responsive_web_original_tweet_nudge_show_nudge\":{\"value\":false},\"responsive_web_original_tweet_nudge_supported_languages\":{\"value\":[\"en\"]},\"responsive_web_passwordless_sso_enabled\":{\"value\":false},\"responsive_web_pinned_replies_enabled\":{\"value\":false},\"responsive_web_placeholder_siwg_button_enabled\":{\"value\":false},\"responsive_web_prerolls_fullscreen_disabled_on_ios\":{\"value\":false},\"responsive_web_professional_journeys_holdback_enabled\":{\"value\":false},\"responsive_web_profile_spotlight_v0_config\":{\"value\":false},\"responsive_web_profile_spotlight_v0_display\":{\"value\":false},\"responsive_web_promoted_account_card_enabled\":{\"value\":true},\"responsive_web_promoted_badge_below_header\":{\"value\":false},\"responsive_web_promoted_badge_use_circle_icon\":{\"value\":false},\"responsive_web_qp_graphql_accounts_enabled\":{\"value\":true},\"responsive_web_qp_intro_experiment_enabled\":{\"value\":false},\"responsive_web_qp_payment_select_enabled\":{\"value\":true},\"responsive_web_reactions_api_test\":{\"value\":false},\"responsive_web_reactions_enabled\":{\"value\":false},\"responsive_web_reactions_fruit_basket_threshold\":{\"value\":20},\"responsive_web_reactions_legacy_heart\":{\"value\":true},\"responsive_web_reactions_nux_banner\":{\"value\":false},\"responsive_web_reader_extended_menu\":{\"value\":true},\"responsive_web_recent_searches_events_enabled\":{\"value\":true},\"responsive_web_recent_searches_topics_enabled\":{\"value\":true},\"responsive_web_recent_searches_users_enabled\":{\"value\":true},\"responsive_web_repeat_profile_visits_notifications_device_follow_only_version_enabled\":{\"value\":false},\"responsive_web_repeat_profile_visits_notifications_enabled\":{\"value\":false},\"responsive_web_reply_nudge_copy_version\":{\"value\":0},\"responsive_web_reply_nudge_enabled\":{\"value\":false},\"responsive_web_reply_nudge_show_nudge\":{\"value\":true},\"responsive_web_reply_nudge_supported_languages\":{\"value\":[\"en\"]},\"responsive_web_reply_nudge_testing_keyword\":{\"value\":false},\"responsive_web_reply_storm_enabled\":{\"value\":false},\"responsive_web_report_page_not_found\":{\"value\":false},\"responsive_web_scroller_autopoll_enabled\":{\"value\":false},\"responsive_web_scroller_top_positioning_enabled\":{\"value\":false},\"responsive_web_search_home_page_design_variation\":{\"value\":\"\"},\"responsive_web_send_cookies_metadata_enabled\":{\"value\":true},\"responsive_web_settings_timeline_polling_enabled\":{\"value\":false},\"responsive_web_settings_timeline_polling_interval_ms\":{\"value\":0},\"responsive_web_settings_timeline_refresh_background_interval\":{\"value\":0},\"responsive_web_share_action_order_desktop\":{\"value\":\"copy_link_first_bookmark_last\"},\"responsive_web_share_action_order_mobile\":{\"value\":\"default\"},\"responsive_web_share_only_tweet_url_omit_title_and_text\":{\"value\":true},\"responsive_web_sidebar_ttf_enabled\":{\"value\":false},\"responsive_web_spud_enabled\":{\"value\":true},\"responsive_web_sso_redirect_enabled\":{\"value\":false},\"responsive_web_ssr_footer_categorized_variant_enabled\":{\"value\":true},\"responsive_web_ssr_verified_crawler_rux_injections_enabled\":{\"value\":true},\"responsive_web_suppress_app_button_banner_suppressed\":{\"value\":false},\"responsive_web_text_conversations_enabled\":{\"value\":false},\"responsive_web_themed_scrollbars\":{\"value\":false},\"responsive_web_third_party_sso_buttons_enabled\":{\"value\":true},\"responsive_web_timeline_cover_killswitch_enabled\":{\"value\":false},\"responsive_web_timeline_refetching_on_revisit_enabled\":{\"value\":true},\"responsive_web_timeline_relay_lists_management_enabled\":{\"value\":false},\"responsive_web_timeline_relay_user_lists_enabled\":{\"value\":false},\"responsive_web_tracer_global_trace_sample_rate\":{\"value\":1},\"responsive_web_trends_setting_new_endpoints\":{\"value\":true},\"responsive_web_tweet_analytics_m2_enabled\":{\"value\":false},\"responsive_web_tweet_analytics_m3_enabled\":{\"value\":false},\"responsive_web_tweet_analytics_promoted_audience_demographics_enabled\":{\"value\":false},\"responsive_web_tweet_analytics_video_metrics_v2_enabled\":{\"value\":false},\"responsive_web_twitter_article_compose_enabled\":{\"value\":false},\"responsive_web_twitter_article_cover_aspect_ratio_5_2\":{\"value\":false},\"responsive_web_twitter_article_data_v2_enabled\":{\"value\":false},\"responsive_web_twitter_article_geo_gated\":{\"value\":false},\"responsive_web_twitter_article_max_times_show_tweet_banner\":{\"value\":3},\"responsive_web_twitter_article_tweet_other_notes_enabled\":{\"value\":true},\"responsive_web_twitter_article_tweet_own_notes_enabled\":{\"value\":false},\"responsive_web_twitter_article_view_enabled\":{\"value\":true},\"responsive_web_twitter_blue_home_redesign_enabled\":{\"value\":true},\"responsive_web_twitter_blue_signup_nux_enabled\":{\"value\":true},\"responsive_web_typeahead_reverse_bolding_enabled\":{\"value\":true},\"responsive_web_uc_gql_enabled\":{\"value\":true},\"responsive_web_unsupported_entry_tombstone\":{\"value\":false},\"responsive_web_use_app_button_variations\":{\"value\":\"treatment_1\"},\"responsive_web_use_app_prompt_copy_variant\":{\"value\":\"\"},\"responsive_web_use_app_prompt_enabled\":{\"value\":false},\"responsive_web_use_badge_counts_for_ntab\":{\"value\":false},\"responsive_web_vdl_dash_redesign_enabled\":{\"value\":true},\"responsive_web_video_pcomplete_enabled\":{\"value\":true},\"responsive_web_video_promoted_logging_enabled\":{\"value\":false},\"responsive_web_video_trimmer_enabled\":{\"value\":false},\"responsive_web_vod_muted_captions_enabled\":{\"value\":true},\"responsive_web_vs_config_resize_observer_enabled\":{\"value\":true},\"responsive_web_zipkin_api_requests_enabled\":{\"value\":false},\"responsive_web_zipkin_api_requests_paths_allowlist\":{\"value\":[\"/2/timeline/home.json\"]},\"rito_safety_mode_blocked_profile_enabled\":{\"value\":true},\"rito_safety_mode_features_enabled\":{\"value\":false},\"rito_safety_mode_modal_prompt_enabled\":{\"value\":false},\"rito_safety_mode_settings_enabled\":{\"value\":false},\"rweb_home_perf_client_prefetch_mode\":{\"value\":\"all\"},\"rweb_reply_downvote_before_like\":{\"value\":false},\"rweb_reply_downvote_enabled\":{\"value\":false},\"rweb_reply_downvote_inline_days\":{\"value\":1},\"rweb_reply_downvote_inline_education\":{\"value\":60},\"rweb_reply_downvote_inline_survey\":{\"value\":0},\"rweb_reply_downvote_nux_inline_days\":{\"value\":7},\"rweb_update_fatigue_switch_to_app_day_timeout\":{\"value\":7},\"rweb_update_fatigue_switch_to_app_link\":{\"value\":\"BannerSwitchToApp\"},\"rweb_video_tagging_enabled\":{\"value\":false},\"sc_r4_enabled\":{\"value\":false},\"scribe_api_error_sample_size\":{\"value\":0},\"scribe_api_sample_size\":{\"value\":100},\"scribe_cdn_host_list\":{\"value\":[\"si0.twimg.com\",\"si1.twimg.com\",\"si2.twimg.com\",\"si3.twimg.com\",\"a0.twimg.com\",\"a1.twimg.com\",\"a2.twimg.com\",\"a3.twimg.com\",\"abs.twimg.com\",\"amp.twimg.com\",\"o.twimg.com\",\"pbs.twimg.com\",\"pbs-eb.twimg.com\",\"pbs-ec.twimg.com\",\"pbs-v6.twimg.com\",\"pbs-h1.twimg.com\",\"pbs-h2.twimg.com\",\"video.twimg.com\",\"platform.twitter.com\",\"cdn.api.twitter.com\",\"ton.twimg.com\",\"v.cdn.vine.co\",\"mtc.cdn.vine.co\",\"edge.vncdn.co\",\"mid.vncdn.co\"]},\"scribe_cdn_sample_size\":{\"value\":50},\"scribe_web_nav_sample_size\":{\"value\":100},\"sensitive_media_settings_enabled\":{\"value\":false},\"sensitive_tweet_warnings_enabled\":{\"value\":true},\"settings_revamp_search_bar_enabled\":{\"value\":false},\"share_animation_after_like_enabled\":{\"value\":false},\"shortened_tracking_parameters_mapping\":{\"value\":[\"01:twcamp&#x3D;share&amp;twsrc&#x3D;android&amp;twgr&#x3D;sms\",\"02:twcamp&#x3D;share&amp;twsrc&#x3D;android&amp;twgr&#x3D;email\",\"03:twcamp&#x3D;share&amp;twsrc&#x3D;android&amp;twgr&#x3D;gmail\",\"04:twcamp&#x3D;share&amp;twsrc&#x3D;android&amp;twgr&#x3D;facebook\",\"05:twcamp&#x3D;share&amp;twsrc&#x3D;android&amp;twgr&#x3D;wechat\",\"06:twcamp&#x3D;share&amp;twsrc&#x3D;android&amp;twgr&#x3D;line\",\"07:twcamp&#x3D;share&amp;twsrc&#x3D;android&amp;twgr&#x3D;fbmessenger\",\"08:twcamp&#x3D;share&amp;twsrc&#x3D;android&amp;twgr&#x3D;whatsapp\",\"09:twcamp&#x3D;share&amp;twsrc&#x3D;android&amp;twgr&#x3D;other\",\"10:twcamp&#x3D;share&amp;twsrc&#x3D;ios&amp;twgr&#x3D;sms\",\"11:twcamp&#x3D;share&amp;twsrc&#x3D;ios&amp;twgr&#x3D;email\",\"12:twcamp&#x3D;share&amp;twsrc&#x3D;ios&amp;twgr&#x3D;other\",\"13:twcamp&#x3D;share&amp;twsrc&#x3D;android&amp;twgr&#x3D;download\",\"14:twcamp&#x3D;share&amp;twsrc&#x3D;ios&amp;twgr&#x3D;download\",\"15:twcamp&#x3D;share&amp;twsrc&#x3D;android&amp;twgr&#x3D;hangouts\",\"16:twcamp&#x3D;share&amp;twsrc&#x3D;android&amp;twgr&#x3D;twitterdm\",\"17:twcamp&#x3D;share&amp;twsrc&#x3D;m5&amp;twgr&#x3D;email\",\"18:twcamp&#x3D;share&amp;twsrc&#x3D;m5&amp;twgr&#x3D;download\",\"19:twcamp&#x3D;share&amp;twsrc&#x3D;android&amp;twgr&#x3D;copy\",\"20:twcamp&#x3D;share&amp;twsrc&#x3D;m5&amp;twgr&#x3D;copy\",\"21:twcamp&#x3D;share&amp;twsrc&#x3D;ios&amp;twgr&#x3D;copy\",\"22:twcamp&#x3D;share&amp;twsrc&#x3D;ios&amp;twgr&#x3D;snapchat\",\"23:twcamp&#x3D;share&amp;twsrc&#x3D;android&amp;twgr&#x3D;snapchat\",\"24:twcamp&#x3D;share&amp;twsrc&#x3D;ios&amp;twgr&#x3D;whatsapp\",\"25:twcamp&#x3D;share&amp;twsrc&#x3D;ios&amp;twgr&#x3D;fbmessenger\",\"26:twcamp&#x3D;share&amp;twsrc&#x3D;ios&amp;twgr&#x3D;facebook\",\"27:twcamp&#x3D;share&amp;twsrc&#x3D;ios&amp;twgr&#x3D;gmail\",\"28:twcamp&#x3D;share&amp;twsrc&#x3D;ios&amp;twgr&#x3D;telegram\",\"29:twcamp&#x3D;share&amp;twsrc&#x3D;ios&amp;twgr&#x3D;line\",\"30:twcamp&#x3D;share&amp;twsrc&#x3D;ios&amp;twgr&#x3D;viber\",\"31:twcamp&#x3D;share&amp;twsrc&#x3D;android&amp;twgr&#x3D;slack\",\"32:twcamp&#x3D;share&amp;twsrc&#x3D;android&amp;twgr&#x3D;kakao\",\"33:twcamp&#x3D;share&amp;twsrc&#x3D;android&amp;twgr&#x3D;discord\",\"34:twcamp&#x3D;share&amp;twsrc&#x3D;android&amp;twgr&#x3D;reddit\",\"35:twcamp&#x3D;share&amp;twsrc&#x3D;android&amp;twgr&#x3D;telegram\",\"36:twcamp&#x3D;share&amp;twsrc&#x3D;android&amp;twgr&#x3D;instagram\",\"37:twcamp&#x3D;share&amp;twsrc&#x3D;android&amp;twgr&#x3D;daum\",\"38:twcamp&#x3D;share&amp;twsrc&#x3D;ios&amp;twgr&#x3D;instagram\",\"39:twcamp&#x3D;share&amp;twsrc&#x3D;ios&amp;twgr&#x3D;linkedin\",\"40:twcamp&#x3D;share&amp;twsrc&#x3D;android&amp;twgr&#x3D;linkedin\",\"41:twcamp&#x3D;share&amp;twsrc&#x3D;gryphon&amp;twgr&#x3D;copy\",\"42:twcamp&#x3D;share&amp;twsrc&#x3D;iphone&amp;twgr&#x3D;sms\",\"43:twcamp&#x3D;share&amp;twsrc&#x3D;iphone&amp;twgr&#x3D;email\",\"44:twcamp&#x3D;share&amp;twsrc&#x3D;iphone&amp;twgr&#x3D;other\",\"45:twcamp&#x3D;share&amp;twsrc&#x3D;iphone&amp;twgr&#x3D;download\",\"46:twcamp&#x3D;share&amp;twsrc&#x3D;iphone&amp;twgr&#x3D;copy\",\"47:twcamp&#x3D;share&amp;twsrc&#x3D;iphone&amp;twgr&#x3D;snapchat\",\"48:twcamp&#x3D;share&amp;twsrc&#x3D;iphone&amp;twgr&#x3D;whatsapp\",\"49:twcamp&#x3D;share&amp;twsrc&#x3D;iphone&amp;twgr&#x3D;fbmessenger\",\"50:twcamp&#x3D;share&amp;twsrc&#x3D;iphone&amp;twgr&#x3D;facebook\",\"51:twcamp&#x3D;share&amp;twsrc&#x3D;iphone&amp;twgr&#x3D;gmail\",\"52:twcamp&#x3D;share&amp;twsrc&#x3D;iphone&amp;twgr&#x3D;telegram\",\"53:twcamp&#x3D;share&amp;twsrc&#x3D;iphone&amp;twgr&#x3D;line\",\"54:twcamp&#x3D;share&amp;twsrc&#x3D;iphone&amp;twgr&#x3D;viber\",\"55:twcamp&#x3D;share&amp;twsrc&#x3D;iphone&amp;twgr&#x3D;instagram\",\"56:twcamp&#x3D;share&amp;twsrc&#x3D;iphone&amp;twgr&#x3D;linkedin\",\"57:twcamp&#x3D;share&amp;twsrc&#x3D;ipad&amp;twgr&#x3D;sms\",\"58:twcamp&#x3D;share&amp;twsrc&#x3D;ipad&amp;twgr&#x3D;email\",\"59:twcamp&#x3D;share&amp;twsrc&#x3D;ipad&amp;twgr&#x3D;other\",\"60:twcamp&#x3D;share&amp;twsrc&#x3D;ipad&amp;twgr&#x3D;download\",\"61:twcamp&#x3D;share&amp;twsrc&#x3D;ipad&amp;twgr&#x3D;copy\",\"62:twcamp&#x3D;share&amp;twsrc&#x3D;ipad&amp;twgr&#x3D;snapchat\",\"63:twcamp&#x3D;share&amp;twsrc&#x3D;ipad&amp;twgr&#x3D;whatsapp\",\"64:twcamp&#x3D;share&amp;twsrc&#x3D;ipad&amp;twgr&#x3D;fbmessenger\",\"65:twcamp&#x3D;share&amp;twsrc&#x3D;ipad&amp;twgr&#x3D;facebook\",\"66:twcamp&#x3D;share&amp;twsrc&#x3D;ipad&amp;twgr&#x3D;gmail\",\"67:twcamp&#x3D;share&amp;twsrc&#x3D;ipad&amp;twgr&#x3D;telegram\",\"68:twcamp&#x3D;share&amp;twsrc&#x3D;ipad&amp;twgr&#x3D;line\",\"69:twcamp&#x3D;share&amp;twsrc&#x3D;ipad&amp;twgr&#x3D;viber\",\"70:twcamp&#x3D;share&amp;twsrc&#x3D;ipad&amp;twgr&#x3D;instagram\",\"71:twcamp&#x3D;share&amp;twsrc&#x3D;ipad&amp;twgr&#x3D;linkedin\"]},\"smbo_legacy_pac_is_in_follow_position_test\":{\"value\":false},\"social_context_and_topic_context_refresh_alignment_enabled\":{\"value\":false},\"spaces_2022_h2_clipping\":{\"value\":true},\"spaces_2022_h2_clipping_consumption\":{\"value\":true},\"spaces_2022_h2_clipping_duration_seconds\":{\"value\":30},\"spaces_2022_h2_follow_host\":{\"value\":true},\"spaces_2022_h2_reactions_web_send\":{\"value\":false},\"spaces_2022_h2_spacebar\":{\"value\":false},\"spaces_2022_h2_spacebar_use_mock_data\":{\"value\":false},\"spaces_2022_h2_spacebar_web_sidebar\":{\"value\":false},\"spaces_2022_h2_spacebar_web_topnavbar\":{\"value\":\"disabled\"},\"spaces_2022_h2_spacebar_web_use_topnavbar\":{\"value\":true},\"spaces_2022_h2_spaces_communities\":{\"value\":false},\"standardized_nudges_misinfo\":{\"value\":true},\"standardized_nudges_toxicity\":{\"value\":false},\"stateful_login_enabled\":{\"value\":true},\"subscriptions_blue_premium_labeling_enabled\":{\"value\":true},\"subscriptions_enabled\":{\"value\":true},\"subscriptions_feature_1002\":{\"value\":true},\"subscriptions_feature_1003\":{\"value\":true},\"subscriptions_feature_1005\":{\"value\":true},\"subscriptions_feature_1006\":{\"value\":true},\"subscriptions_feature_1007\":{\"value\":true},\"subscriptions_feature_1009\":{\"value\":true},\"subscriptions_feature_1011\":{\"value\":true},\"subscriptions_feature_labs_1001\":{\"value\":true},\"subscriptions_feature_labs_1004\":{\"value\":true},\"subscriptions_long_video_rweb_new_copy_enabled\":{\"value\":true},\"subscriptions_long_video_upload\":{\"value\":true},\"subscriptions_management_enabled\":{\"value\":true},\"subscriptions_marketing_page_refresh_enabled\":{\"value\":false},\"subscriptions_settings_item_enabled\":{\"value\":true},\"subscriptions_sign_up_enabled\":{\"value\":false},\"subscriptions_stripe_testing\":{\"value\":false},\"subscriptions_tab_customization_on_android_enabled\":{\"value\":true},\"subscriptions_top_articles_on_ios_enabled\":{\"value\":true},\"subscriptions_twitter_blue_logo_enabled\":{\"value\":true},\"super_follow_android_web_subscription_enabled\":{\"value\":false},\"super_follow_exclusive_tweet_creation_api_enabled\":{\"value\":true},\"super_follow_tweet_api_enabled\":{\"value\":true},\"super_follow_user_api_enabled\":{\"value\":true},\"super_follow_web_application_enabled\":{\"value\":false},\"super_follow_web_deactivate_enabled\":{\"value\":true},\"super_follow_web_debug_enabled\":{\"value\":false},\"super_follow_web_edit_perks_enabled\":{\"value\":true},\"super_follow_web_monetization_dashboard_enabled\":{\"value\":false},\"super_follow_web_onboarding_enabled\":{\"value\":true},\"targeted_project_friday_enabled\":{\"value\":false},\"topic_landing_page_clearer_controls_enabled\":{\"value\":true},\"topic_landing_page_cta_text\":{\"value\":\"control\"},\"topic_landing_page_share_enabled\":{\"value\":true},\"topics_context_controls_followed_variation\":{\"value\":\"see_more\"},\"topics_context_controls_implicit_context_x_enabled\":{\"value\":true},\"topics_context_controls_implicit_variation\":{\"value\":\"see_more\"},\"topics_context_controls_inline_prompt_enabled\":{\"value\":false},\"topics_discovery_page_enabled\":{\"value\":false},\"toxic_reply_filter_inline_callout_enabled\":{\"value\":false},\"toxic_reply_filter_settings_enabled\":{\"value\":false},\"traffic_rewrite_map\":{\"value\":[]},\"trusted_friends_audience_control_exp_variant\":{\"value\":\"control\"},\"trusted_friends_consumption_enabled\":{\"value\":true},\"trusted_friends_dash_discovery_enabled\":{\"value\":true},\"trusted_friends_tweet_creation_enabled\":{\"value\":true},\"tweet_limited_actions_config_community_tweet_community_deleted\":{\"value\":[\"add_to_bookmarks\",\"add_to_moment\",\"embed\",\"follow\",\"hide_community_tweet\",\"like\",\"lists_add_remove\",\"mute_conversation\",\"pin_to_profile\",\"quote_tweet\",\"react\",\"remove_from_community\",\"reply\",\"retweet\",\"send_via_dm\",\"share_tweet_via\",\"view_hidden_replies\",\"view_tweet_activity\",\"vote_on_poll\"]},\"tweet_limited_actions_config_community_tweet_community_not_found\":{\"value\":[\"add_to_bookmarks\",\"add_to_moment\",\"embed\",\"follow\",\"hide_community_tweet\",\"like\",\"lists_add_remove\",\"mute_conversation\",\"pin_to_profile\",\"quote_tweet\",\"react\",\"remove_from_community\",\"reply\",\"retweet\",\"send_via_dm\",\"share_tweet_via\",\"view_hidden_replies\",\"view_tweet_activity\",\"vote_on_poll\"]},\"tweet_limited_actions_config_community_tweet_community_suspended\":{\"value\":[\"add_to_bookmarks\",\"add_to_moment\",\"embed\",\"follow\",\"hide_community_tweet\",\"like\",\"lists_add_remove\",\"mute_conversation\",\"pin_to_profile\",\"quote_tweet\",\"react\",\"remove_from_community\",\"reply\",\"retweet\",\"send_via_dm\",\"share_tweet_via\",\"view_hidden_replies\",\"view_tweet_activity\",\"vote_on_poll\"]},\"tweet_limited_actions_config_community_tweet_hidden\":{\"value\":[\"add_to_bookmarks\",\"add_to_moment\",\"embed\",\"follow\",\"hide_community_tweet\",\"like\",\"lists_add_remove\",\"mute_conversation\",\"pin_to_profile\",\"quote_tweet\",\"react\",\"reply\",\"retweet\",\"send_via_dm\",\"share_tweet_via\",\"view_hidden_replies\",\"view_tweet_activity\",\"vote_on_poll\"]},\"tweet_limited_actions_config_community_tweet_member\":{\"value\":[\"embed\",\"pin_to_profile\",\"retweet\"]},\"tweet_limited_actions_config_community_tweet_member_removed\":{\"value\":[\"add_to_bookmarks\",\"add_to_moment\",\"embed\",\"follow\",\"hide_community_tweet\",\"like\",\"lists_add_remove\",\"mute_conversation\",\"pin_to_profile\",\"quote_tweet\",\"react\",\"remove_from_community\",\"reply\",\"retweet\",\"send_via_dm\",\"share_tweet_via\",\"view_hidden_replies\",\"view_tweet_activity\",\"vote_on_poll\"]},\"tweet_limited_actions_config_community_tweet_non_member\":{\"value\":[]},\"tweet_limited_actions_config_disable_state_media_autoplay\":{\"value\":[\"autoplay\"]},\"tweet_limited_actions_config_dpa_enabled\":{\"value\":true},\"tweet_limited_actions_config_dynamic_product_ad\":{\"value\":[\"reply\",\"retweet\",\"quote_tweet\",\"share_tweet_via\",\"send_via_dm\",\"copy_link\",\"add_to_bookmarks\",\"like\"]},\"tweet_limited_actions_config_enabled\":{\"value\":true},\"tweet_limited_actions_config_limit_trusted_friends_tweet\":{\"value\":[\"retweet\",\"quote_tweet\",\"share_tweet_via\",\"send_via_dm\",\"copy_link\",\"view_tweet_activity\",\"embed\",\"add_to_moment\"]},\"tweet_limited_actions_config_non_compliant\":{\"value\":[\"reply\",\"retweet\",\"like\",\"react\",\"send_via_dm\",\"add_to_bookmarks\",\"add_to_moment\",\"pin_to_profile\",\"view_tweet_activity\",\"share_tweet_via\",\"copy_link\"]},\"tweet_limited_actions_config_skip_tweet_detail\":{\"value\":[\"reply\"]},\"tweet_limited_actions_config_skip_tweet_detail_enabled\":{\"value\":true},\"tweet_limited_actions_config_soft_nudge_with_quote_tweet\":{\"value\":[\"show_retweet_action_menu\"]},\"tweet_translation_timeline_enabled\":{\"value\":false},\"tweet_with_visibility_results_prefer_gql_limited_actions_policy_enabled\":{\"value\":false},\"tweetypie_unmention_optimization_enabled\":{\"value\":true},\"ucpd_enabled\":{\"value\":true},\"unified_cards_ad_metadata_container_dynamic_card_content_query_enabled\":{\"value\":true},\"unified_cards_collection_ads_convert_to_image_website_card\":{\"value\":false},\"unified_cards_dpa_cta_button_enabled\":{\"value\":false},\"unified_cards_dpa_metadata_enabled\":{\"value\":false},\"unified_cards_follow_card_consumption_enabled\":{\"value\":false},\"user_display_name_max_limit\":{\"value\":50},\"verified_phone_label_enabled\":{\"value\":false},\"vibe_api_enabled\":{\"value\":true},\"vibe_tweet_context_enabled\":{\"value\":true},\"vod_attribution_tweet_detail_pivot_enabled\":{\"value\":true},\"voice_consumption_enabled\":{\"value\":true},\"voice_rooms_card_version\":{\"value\":2},\"voice_rooms_discovery_page_enabled\":{\"value\":false},\"voice_rooms_end_screen_participants\":{\"value\":true},\"voice_rooms_expanded_dock\":{\"value\":true},\"voice_rooms_expanded_dock_reactions\":{\"value\":true},\"voice_rooms_host_analytics_enabled\":{\"value\":true},\"voice_rooms_recent_search_audiospace_ring_enabled\":{\"value\":true},\"voice_rooms_replay_consumption\":{\"value\":true},\"voice_rooms_search_results_page_audiospace_ring_enabled\":{\"value\":false},\"voice_rooms_sharing_listening_data_with_followers_setting_enabled\":{\"value\":true},\"voice_rooms_speaking_enabled\":{\"value\":false},\"voice_rooms_typeahead_audiospace_ring_enabled\":{\"value\":true},\"web_video_bitrate_persistence_enabled\":{\"value\":false},\"web_video_caption_repositioning_enabled\":{\"value\":true},\"web_video_hls_android_mse_enabled\":{\"value\":true},\"web_video_hls_mp4_threshold_sec\":{\"value\":0},\"web_video_hls_variant_version\":{\"value\":\"1\"},\"web_video_hlsjs_version\":{\"value\":\"\"},\"web_video_playback_rate_enabled\":{\"value\":false},\"web_video_player_size_cap_disabled\":{\"value\":false},\"web_video_prefetch_playlist_autoplay_disabled\":{\"value\":false},\"web_video_transcribed_captions_enabled\":{\"value\":false}},\"featureSetToken\":\"c586767a55c137ce147a66580e1f77b4fc02a158\",\"isLoaded\":true,\"isLoading\":false,\"useEventAllowlist\":true,\"user\":{\"config\":{\"2fa_temporary_password_enabled\":{\"value\":false},\"Arkose_rweb_hosted_page\":{\"value\":true},\"Arkose_use_invisible_challenge_key\":{\"value\":false},\"account_2fa_standalone_security_key_enabled\":{\"value\":true},\"account_country_setting_countries_whitelist\":{\"value\":[\"ad\",\"ae\",\"af\",\"ag\",\"ai\",\"al\",\"am\",\"ao\",\"ar\",\"as\",\"at\",\"au\",\"aw\",\"ax\",\"az\",\"ba\",\"bb\",\"bd\",\"be\",\"bf\",\"bg\",\"bh\",\"bi\",\"bj\",\"bl\",\"bm\",\"bn\",\"bo\",\"bq\",\"br\",\"bs\",\"bt\",\"bv\",\"bw\",\"by\",\"bz\",\"ca\",\"cc\",\"cd\",\"cf\",\"cg\",\"ch\",\"ci\",\"ck\",\"cl\",\"cm\",\"co\",\"cr\",\"cu\",\"cv\",\"cw\",\"cx\",\"cy\",\"cz\",\"de\",\"dj\",\"dk\",\"dm\",\"do\",\"dz\",\"ec\",\"ee\",\"eg\",\"er\",\"es\",\"et\",\"fi\",\"fj\",\"fk\",\"fm\",\"fo\",\"fr\",\"ga\",\"gb\",\"gd\",\"ge\",\"gf\",\"gg\",\"gh\",\"gi\",\"gl\",\"gm\",\"gn\",\"gp\",\"gq\",\"gr\",\"gs\",\"gt\",\"gu\",\"gw\",\"gy\",\"hk\",\"hn\",\"hr\",\"ht\",\"hu\",\"id\",\"ie\",\"il\",\"im\",\"in\",\"io\",\"iq\",\"ir\",\"is\",\"it\",\"je\",\"jm\",\"jo\",\"jp\",\"ke\",\"kg\",\"kh\",\"ki\",\"km\",\"kn\",\"kr\",\"kw\",\"ky\",\"kz\",\"la\",\"lb\",\"lc\",\"li\",\"lk\",\"lr\",\"ls\",\"lt\",\"lu\",\"lv\",\"ly\",\"ma\",\"mc\",\"md\",\"me\",\"mf\",\"mg\",\"mh\",\"mk\",\"ml\",\"mn\",\"mo\",\"mp\",\"mq\",\"mr\",\"ms\",\"mt\",\"mu\",\"mv\",\"mw\",\"mx\",\"my\",\"mz\",\"na\",\"nc\",\"ne\",\"nf\",\"ng\",\"ni\",\"nl\",\"no\",\"np\",\"nr\",\"nu\",\"nz\",\"om\",\"pa\",\"pe\",\"pf\",\"pg\",\"ph\",\"pk\",\"pl\",\"pm\",\"pn\",\"pr\",\"ps\",\"pt\",\"pw\",\"py\",\"qa\",\"re\",\"ro\",\"rs\",\"ru\",\"rw\",\"sa\",\"sb\",\"sc\",\"se\",\"sg\",\"sh\",\"si\",\"sk\",\"sl\",\"sm\",\"sn\",\"so\",\"sr\",\"st\",\"sv\",\"sx\",\"sz\",\"tc\",\"td\",\"tf\",\"tg\",\"th\",\"tj\",\"tk\",\"tl\",\"tm\",\"tn\",\"to\",\"tr\",\"tt\",\"tv\",\"tw\",\"tz\",\"ua\",\"ug\",\"us\",\"uy\",\"uz\",\"va\",\"vc\",\"ve\",\"vi\",\"vn\",\"vu\",\"wf\",\"ws\",\"xk\",\"ye\",\"yt\",\"za\",\"zm\",\"zw\"]},\"account_session_console_from_graphql_enabled\":{\"value\":true},\"account_taxonomy_automated_label_enabled\":{\"value\":true},\"account_taxonomy_automation_opt_in_enabled\":{\"value\":true},\"ads_spacing_client_fallback_minimum_spacing\":{\"value\":3},\"arkose_challenge_lo_web_notification_dev\":{\"value\":\"BF5FA6C8-9668-4AF9-AFA2-E362F56E5B71\"},\"arkose_challenge_lo_web_notification_mobile_prod\":{\"value\":\"6A2FD110-7C1A-47CD-82EE-D01FFB4810D7\"},\"arkose_challenge_lo_web_notification_prod\":{\"value\":\"50706BFE-942C-4EEC-B9AD-03F7CD268FB1\"},\"arkose_challenge_login_web_devel\":{\"value\":\"DF58DD3B-DFCC-4502-91FA-EDC0DC385CFF\"},\"arkose_challenge_login_web_prod\":{\"value\":\"2F4F0B28-BC94-4271-8AD7-A51662E3C91C\"},\"arkose_challenge_open_app_dev\":{\"value\":\"560C66A3-C8EB-4D11-BE53-A8232734AA62\"},\"arkose_challenge_open_app_prod\":{\"value\":\"6E8D3D6E-30D4-45F1-9838-BA3D9651AAA1\"},\"arkose_challenge_signup_mobile_dev\":{\"value\":\"006B5E87-7497-403E-9E0C-8FFBAAC6FA67\"},\"arkose_challenge_signup_mobile_prod\":{\"value\":\"867D55F2-24FD-4C56-AB6D-589EDAF5E7C5\"},\"arkose_challenge_signup_web_dev\":{\"value\":\"DF58DD3B-DFCC-4502-91FA-EDC0DC385CFF\"},\"arkose_challenge_signup_web_prod\":{\"value\":\"2CB16598-CB82-4CF7-B332-5990DB66F3AB\"},\"author_moderated_replies_urt_container_enabled\":{\"value\":false},\"branded_like_preview_enabled\":{\"value\":false},\"c9s_auto_collapse_community_detail_header_enabled\":{\"value\":true},\"c9s_communities_search_enabled\":{\"value\":true},\"c9s_community_composer_hashtag_suggestions_enabled\":{\"value\":false},\"c9s_community_creation_enabled\":{\"value\":true},\"c9s_community_creation_form_membership_type_enabled\":{\"value\":true},\"c9s_community_creation_setup_checklist_enabled\":{\"value\":true},\"c9s_community_deletion_enabled\":{\"value\":true},\"c9s_community_hashtags_carousel_enabled\":{\"value\":false},\"c9s_community_hashtags_enabled\":{\"value\":true},\"c9s_edit_moderators_enabled\":{\"value\":true},\"c9s_enabled\":{\"value\":true},\"c9s_highlight_tweet_enabled\":{\"value\":true},\"c9s_list_members_action_api_enabled\":{\"value\":false},\"c9s_logged_out_access_enabled\":{\"value\":true},\"c9s_max_community_description_length\":{\"value\":160},\"c9s_max_community_name_length\":{\"value\":30},\"c9s_max_rule_count\":{\"value\":10},\"c9s_max_rule_description_length\":{\"value\":160},\"c9s_max_rule_name_length\":{\"value\":60},\"c9s_members_list_search_enabled\":{\"value\":true},\"c9s_moderation_enabled\":{\"value\":true},\"c9s_nav_list_activity_details_enabled\":{\"value\":false},\"c9s_participation_enabled\":{\"value\":true},\"c9s_poll_creation_enabled\":{\"value\":true},\"c9s_remove_member_enabled\":{\"value\":true},\"c9s_remove_member_list_enabled\":{\"value\":true},\"c9s_report_community_enabled\":{\"value\":false},\"c9s_rule_management_enabled\":{\"value\":true},\"c9s_spotlight_consumption_enabled\":{\"value\":false},\"c9s_spotlight_creation_enabled\":{\"value\":false},\"c9s_tab_visibility\":{\"value\":\"members_only\"},\"c9s_timelines_default_selection\":{\"value\":\"ranked\"},\"c9s_timelines_ranking_enabled\":{\"value\":false},\"c9s_unread_indicator_global_enabled\":{\"value\":true},\"c9s_unread_indicator_mod_actions_enabled\":{\"value\":true},\"c9s_unread_indicator_tweets_enabled\":{\"value\":true},\"card_compose_preview_retry_after_ms\":{\"value\":3000},\"card_compose_preview_retry_max\":{\"value\":5},\"content_language_setting_enabled\":{\"value\":true},\"conversation_controls_change_enabled\":{\"value\":true},\"conversation_controls_change_tooltip_enabled\":{\"value\":true},\"conversation_controls_limited_replies_consumption_configuration\":{\"value\":\"no_reply\"},\"conversation_controls_limited_replies_creation_enabled\":{\"value\":true},\"conversation_controls_persistence_enabled\":{\"value\":true},\"conversational_safety_heads_up_treatment_A_enabled\":{\"value\":\"\"},\"dash_region_specific_de_media_transparency_items_enabled\":{\"value\":false},\"direct_messages_incremental_holdback_2022h1\":{\"value\":true},\"dm_conversation_labels_max_pinned_count\":{\"value\":6},\"dm_conversation_labels_pinned_education_enabled\":{\"value\":true},\"dm_conversation_labels_pinned_enabled\":{\"value\":true},\"dm_conversations_nsfw_media_filter_enabled\":{\"value\":false},\"dm_education_flags_prompt\":{\"value\":false},\"dm_evolution_add_participants_enabled\":{\"value\":true},\"dm_evolution_conversation_read_enabled\":{\"value\":false},\"dm_evolution_enabled\":{\"value\":true},\"dm_evolution_group_conversation_management_ct_enabled\":{\"value\":false},\"dm_evolution_inbox_primary_enabled\":{\"value\":false},\"dm_evolution_inbox_secondary_enabled\":{\"value\":false},\"dm_evolution_inbox_tertiary_enabled\":{\"value\":false},\"dm_evolution_message_creation_enabled\":{\"value\":false},\"dm_evolution_message_hide_enabled\":{\"value\":true},\"dm_evolution_messaging_interactions_ct_enabled\":{\"value\":false},\"dm_evolution_reaction_write_enabled\":{\"value\":true},\"dm_evolution_responsive_web_early_bird_only_switch\":{\"value\":false},\"dm_evolution_typing_indicator_enabled\":{\"value\":true},\"dm_inbox_search_groups_bucket_size\":{\"value\":5},\"dm_inbox_search_max_recent_searches_stored\":{\"value\":5},\"dm_inbox_search_message_attachment_previews_enabled\":{\"value\":true},\"dm_inbox_search_message_results_enabled\":{\"value\":true},\"dm_inbox_search_messages_bucket_size\":{\"value\":5},\"dm_inbox_search_modular_results_enabled\":{\"value\":true},\"dm_inbox_search_people_bucket_size\":{\"value\":5},\"dm_inbox_search_query_highlighting_conversation_results_enabled\":{\"value\":true},\"dm_inbox_search_query_highlighting_message_results_enabled\":{\"value\":true},\"dm_reactions_config_active_reactions\":{\"value\":[\"😂:funny\",\"😲:surprised\",\"😢:sad\",\"❤️:like\",\"🔥:excited\",\"👍:agree\",\"👎:disagree\"]},\"dm_reactions_config_inactive_reactions\":{\"value\":[\"😠:angry\",\"😷:mask\"]},\"dm_share_sheet_send_individually_enabled\":{\"value\":true},\"dm_share_sheet_send_individually_max_count\":{\"value\":20},\"dm_vdl_chat_p0_enabled\":{\"value\":true},\"dm_vdl_enabled\":{\"value\":true},\"dm_vdl_inbox_p0_enabled\":{\"value\":true},\"dm_voice_rendering_enabled\":{\"value\":true},\"dont_mention_me_enabled\":{\"value\":true},\"dont_mention_me_mentions_tab_education_enabled\":{\"value\":true},\"dont_mention_me_view_api_enabled\":{\"value\":true},\"ecd_dispute_form_link_enabled\":{\"value\":true},\"employee_role\":{\"value\":false},\"enable_label_appealing_misinfo_enabled\":{\"value\":false},\"enable_label_appealing_sensitive_content_enabled\":{\"value\":false},\"explore_relaunch_enable_immersive_web\":{\"value\":false},\"explore_relaunch_enable_immersive_web_navigation_button\":{\"value\":false},\"explore_relaunch_enable_immersive_web_tap_to_hide\":{\"value\":false},\"explore_relaunch_enabled\":{\"value\":false},\"explore_relaunch_onboarding_bar_show_count\":{\"value\":3},\"explore_relaunch_updated_scrubber_position\":{\"value\":false},\"focused_timeline_actions_onboarding_likes\":{\"value\":3},\"follow_nudge_conversation_enabled\":{\"value\":false},\"follow_nudge_search_enabled\":{\"value\":false},\"global_mention_settings_enabled\":{\"value\":false},\"graphql_composer_and_dm_card_previews_enabled\":{\"value\":false},\"graphql_is_translatable_rweb_tweet_is_translatable_enabled\":{\"value\":false},\"graphql_mutation_destroy_mode\":{\"value\":\"graphql_only\"},\"graphql_mutation_retweet_mode\":{\"value\":\"graphql_only\"},\"graphql_mutation_unretweet_mode\":{\"value\":\"graphql_only\"},\"graphql_mutation_update_mode\":{\"value\":\"graphql_only\"},\"graphql_timeline_v2_bookmark_timeline\":{\"value\":false},\"graphql_timeline_v2_query_threaded_conversation_with_injections\":{\"value\":true},\"graphql_timeline_v2_user_favorites_by_time_timeline\":{\"value\":true},\"graphql_timeline_v2_user_media_timeline\":{\"value\":true},\"graphql_timeline_v2_user_profile_timeline\":{\"value\":true},\"graphql_timeline_v2_user_profile_with_replies_timeline\":{\"value\":true},\"gryphon_optout_in_settings\":{\"value\":false},\"guest_broadcasting_timeline_decorations_enabled\":{\"value\":false},\"hashflags_animation_like_button_enabled\":{\"value\":true},\"home_timeline_extended_reactivity_tweet_clicks_enabled\":{\"value\":false},\"home_timeline_extended_reactivity_tweet_clicks_fatigue\":{\"value\":5},\"home_timeline_extended_reactivity_tweet_clicks_trigger_seconds\":{\"value\":120},\"home_timeline_latest_timeline_switch_enabled\":{\"value\":true},\"home_timeline_like_reactivity_enabled\":{\"value\":true},\"home_timeline_like_reactivity_fatigue\":{\"value\":10},\"home_timeline_scribing_section_change_enabled\":{\"value\":false},\"home_timeline_spheres_detail_page_muting_enabled\":{\"value\":true},\"home_timeline_spheres_max_user_owned_or_subscribed_lists_count\":{\"value\":5},\"home_timeline_spheres_ranking_mode_control_enabled\":{\"value\":true},\"home_timeline_tweet_auto_inline_reply_enabled\":{\"value\":false},\"identity_verification_debadging_notification_enabled\":{\"value\":true},\"identity_verification_educational_prompt_enabled\":{\"value\":true},\"identity_verification_intake_enabled\":{\"value\":true},\"identity_verification_notable_demo_survey\":{\"value\":false},\"interactive_text_enabled\":{\"value\":true},\"live_event_docking_enabled\":{\"value\":true},\"live_event_interstitial_seen_cache_enabled\":{\"value\":true},\"live_event_multi_video_auto_advance_dock_enabled\":{\"value\":true},\"live_event_multi_video_auto_advance_enabled\":{\"value\":true},\"live_event_multi_video_auto_advance_fullscreen_enabled\":{\"value\":false},\"live_event_multi_video_auto_advance_transition_duration_seconds\":{\"value\":5},\"live_event_multi_video_enabled\":{\"value\":true},\"live_event_timeline_default_refresh_rate_interval_seconds\":{\"value\":30},\"live_event_timeline_minimum_refresh_rate_interval_seconds\":{\"value\":10},\"live_event_timeline_server_controlled_refresh_rate_enabled\":{\"value\":true},\"livepipeline_client_enabled\":{\"value\":true},\"livepipeline_dm_features_enabled\":{\"value\":true},\"livepipeline_tweetengagement_enabled\":{\"value\":true},\"longform_ad_free_articles_badging_enabled\":{\"value\":false},\"longform_top_articles_friends_of_friends_enabled\":{\"value\":true},\"longform_top_articles_time_window_enabled\":{\"value\":true},\"machine_translation_logged_out_enabled\":{\"value\":false},\"media_edge_to_edge_content_enabled\":{\"value\":false},\"media_infra_play_icon_version_number\":{\"value\":\"playicon_v0\"},\"moment_annotations_enabled\":{\"value\":true},\"moments_new_share_variant_floating_action_button\":{\"value\":false},\"network_layer_503_backoff_mode\":{\"value\":\"host\"},\"ocf_2fa_enrollment_bouncer_enabled\":{\"value\":true},\"ocf_2fa_enrollment_enabled\":{\"value\":true},\"ocf_2fa_unenrollment_enabled\":{\"value\":true},\"onboarding_connect_tab_urt_graphql_enabled\":{\"value\":true},\"onboarding_project_uls_enabled\":{\"value\":false},\"papago_tweet_translation_from_korean_entity_protected\":{\"value\":false},\"papago_tweet_translation_from_korean_entity_protected_destinations\":{\"value\":[\"en\",\"ja\",\"zh\",\"zh-cn\",\"zh-Hans\",\"zh-tw\",\"zh-Hant\"]},\"papago_tweet_translation_from_korean_entity_unprotected\":{\"value\":false},\"papago_tweet_translation_from_korean_entity_unprotected_destinations\":{\"value\":[\"id\",\"es\",\"th\"]},\"papago_tweet_translation_to_korean\":{\"value\":false},\"papago_tweet_translation_to_korean_sources\":{\"value\":[\"en\",\"ja\"]},\"professional_launchpad_m1_enabled\":{\"value\":true},\"professional_launchpad_upload_address_book\":{\"value\":true},\"profile_foundations_about_tab_enabled\":{\"value\":false},\"profile_foundations_about_tab_tooltip_enabled\":{\"value\":false},\"profile_foundations_header_fields_hidden\":{\"value\":false},\"profile_foundations_tweet_stats_enabled\":{\"value\":false},\"profile_foundations_tweet_stats_tweet_count\":{\"value\":false},\"profile_foundations_tweet_stats_tweet_frequency\":{\"value\":false},\"profile_foundations_tweet_stats_tweet_topics\":{\"value\":false},\"profile_navigation_likes_tab_prominence_enabled\":{\"value\":false},\"report_center_mvp_r1_enabled\":{\"value\":true},\"report_center_mvp_r2_enabled\":{\"value\":false},\"responsive_web_3rd_party_category_branch\":{\"value\":3},\"responsive_web_3rd_party_category_double_click\":{\"value\":3},\"responsive_web_3rd_party_category_external_referer\":{\"value\":3},\"responsive_web_3rd_party_category_ga\":{\"value\":3},\"responsive_web_3rd_party_category_google_platform\":{\"value\":2},\"responsive_web_3rd_party_category_google_recaptcha\":{\"value\":2},\"responsive_web_3rd_party_category_player_card\":{\"value\":3},\"responsive_web_3rd_party_category_sentry\":{\"value\":2},\"responsive_web_3rd_party_category_sign_in_with_apple\":{\"value\":2},\"responsive_web_account_access_language_lo_banners\":{\"value\":\"control\"},\"responsive_web_account_access_language_lo_splash_sidebar\":{\"value\":\"control\"},\"responsive_web_account_search_readability_enabled\":{\"value\":true},\"responsive_web_alt_svc\":{\"value\":false},\"responsive_web_alt_text_nudges_enabled\":{\"value\":true},\"responsive_web_alt_text_nudges_settings_enabled\":{\"value\":true},\"responsive_web_alt_text_translations_enabled\":{\"value\":true},\"responsive_web_api_transition_enabled\":{\"value\":true},\"responsive_web_article_nudge_enabled\":{\"value\":true},\"responsive_web_audio_space_ring_home_timeline\":{\"value\":false},\"responsive_web_author_labels_avatar_label_enabled\":{\"value\":false},\"responsive_web_author_labels_focal_label_enabled\":{\"value\":false},\"responsive_web_author_labels_handle_label_enabled\":{\"value\":false},\"responsive_web_auto_logout_multiaccount_enabled\":{\"value\":true},\"responsive_web_auto_logout_restrictedauthtoken_enabled\":{\"value\":true},\"responsive_web_auto_logout_twid_enabled\":{\"value\":true},\"responsive_web_behavioral_events_communities_enabled\":{\"value\":true},\"responsive_web_behavioral_events_enabled\":{\"value\":false},\"responsive_web_behavioral_events_home_enabled\":{\"value\":true},\"responsive_web_behavioral_events_htl_breadcrumbs\":{\"value\":true},\"responsive_web_behavioral_events_session_id_enabled\":{\"value\":false},\"responsive_web_behavioral_events_target_view_v2_enabled\":{\"value\":false},\"responsive_web_birdwatch_aliases_enabled\":{\"value\":true},\"responsive_web_birdwatch_appeals_enabled\":{\"value\":true},\"responsive_web_birdwatch_consumption_enabled\":{\"value\":false},\"responsive_web_birdwatch_contribution_enabled\":{\"value\":false},\"responsive_web_birdwatch_country_allowed\":{\"value\":false},\"responsive_web_birdwatch_deleted_notes_enabled\":{\"value\":true},\"responsive_web_birdwatch_earn_in_enabled\":{\"value\":true},\"responsive_web_birdwatch_earn_out_enabled\":{\"value\":true},\"responsive_web_birdwatch_hcomp_user\":{\"value\":false},\"responsive_web_birdwatch_history_enabled\":{\"value\":false},\"responsive_web_birdwatch_impressions_enabled\":{\"value\":false},\"responsive_web_birdwatch_new_note_submission_modal_enabled\":{\"value\":true},\"responsive_web_birdwatch_note_awards_enabled\":{\"value\":true},\"responsive_web_birdwatch_note_writing_enabled\":{\"value\":false},\"responsive_web_birdwatch_pivots_enabled\":{\"value\":false},\"responsive_web_birdwatch_profile_awards_enabled\":{\"value\":true},\"responsive_web_birdwatch_rating_crowd_enabled\":{\"value\":false},\"responsive_web_birdwatch_rating_mini_survey_enabled\":{\"value\":false},\"responsive_web_birdwatch_rating_participant_enabled\":{\"value\":false},\"responsive_web_birdwatch_ratings_m2_tags_enabled\":{\"value\":true},\"responsive_web_birdwatch_ratings_v2_enabled\":{\"value\":true},\"responsive_web_birdwatch_site_enabled\":{\"value\":true},\"responsive_web_birdwatch_traffic_lights_enabled\":{\"value\":true},\"responsive_web_branch_cpid_enabled\":{\"value\":false},\"responsive_web_branch_sdk_enabled\":{\"value\":true},\"responsive_web_card_conversion_hoisted\":{\"value\":\"off\"},\"responsive_web_card_preconnect_enabled\":{\"value\":false},\"responsive_web_card_preload_mode\":{\"value\":false},\"responsive_web_carousel_v2_cards_non_safari_enabled\":{\"value\":false},\"responsive_web_carousel_v2_cards_safari_variant\":{\"value\":\"control\"},\"responsive_web_carousel_v2_media_detail_enabled\":{\"value\":false},\"responsive_web_cleanup_macaw_swift_indexed_db\":{\"value\":true},\"responsive_web_collection_ads_enabled\":{\"value\":true},\"responsive_web_commerce_shop_spotlight_enabled\":{\"value\":false},\"responsive_web_communities_slices_enabled\":{\"value\":true},\"responsive_web_composer_configurable_video_player_enabled\":{\"value\":false},\"responsive_web_continue_as_always_enabled\":{\"value\":false},\"responsive_web_continue_as_param_enabled\":{\"value\":true},\"responsive_web_convert_card_video_to_gif_enabled\":{\"value\":false},\"responsive_web_cookie_compliance_1st_party_killswitch_list\":{\"value\":[]},\"responsive_web_cookie_compliance_banner_enabled\":{\"value\":false},\"responsive_web_cookie_compliance_gingersnap_enabled\":{\"value\":false},\"responsive_web_cookie_consent_signal_enabled\":{\"value\":false},\"responsive_web_cotweet_consumption_enabled\":{\"value\":true},\"responsive_web_csrf_clientside_enabled\":{\"value\":true},\"responsive_web_dance_cc_tools_enabled\":{\"value\":false},\"responsive_web_dance_cc_tools_include_development_enabled\":{\"value\":false},\"responsive_web_dcm_2_enabled\":{\"value\":true},\"responsive_web_deamplification_replies_dropdown_selector_enabled\":{\"value\":false},\"responsive_web_deamplification_transparent_cursors_enabled\":{\"value\":false},\"responsive_web_delegate_enabled\":{\"value\":false},\"responsive_web_device_follow_without_user_follow_enabled\":{\"value\":false},\"responsive_web_disconnect_third_party_sso_enabled\":{\"value\":true},\"responsive_web_dockable_autoplay_policy_enabled\":{\"value\":true},\"responsive_web_drew_mute_and_block_enabled\":{\"value\":false},\"responsive_web_drew_profile_block_enabled\":{\"value\":false},\"responsive_web_drew_timeline_block_enabled\":{\"value\":true},\"responsive_web_dtime_fccts_enabled\":{\"value\":false},\"responsive_web_dtime_featured_timelines_modal_enabled\":{\"value\":true},\"responsive_web_dtime_show_new_tweets_enabled\":{\"value\":true},\"responsive_web_dtime_sparkle_menu_featured_timelines_enabled\":{\"value\":false},\"responsive_web_dtime_timelines_directory_enabled\":{\"value\":false},\"responsive_web_dtime_timelines_preview_enabled\":{\"value\":false},\"responsive_web_dtime_tpat_enabled\":{\"value\":true},\"responsive_web_dynamic_product_ads_enabled\":{\"value\":false},\"responsive_web_edit_tweet_api_enabled\":{\"value\":true},\"responsive_web_edit_tweet_composition_enabled\":{\"value\":true},\"responsive_web_edit_tweet_perspective_enabled\":{\"value\":false},\"responsive_web_edit_tweet_upsell_enabled\":{\"value\":true},\"responsive_web_element_size_impression_scribe_enabled\":{\"value\":true},\"responsive_web_enhance_cards_enabled\":{\"value\":true},\"responsive_web_eu_countries\":{\"value\":[\"at\",\"be\",\"bg\",\"ch\",\"cy\",\"cz\",\"de\",\"dk\",\"ee\",\"es\",\"fi\",\"fr\",\"gb\",\"gr\",\"hr\",\"hu\",\"ie\",\"is\",\"it\",\"li\",\"lt\",\"lu\",\"lv\",\"mt\",\"nl\",\"no\",\"pl\",\"pt\",\"ro\",\"se\",\"si\",\"sk\"]},\"responsive_web_explorer_ads_enabled\":{\"value\":true},\"responsive_web_extension_compatibility_hide\":{\"value\":true},\"responsive_web_extension_compatibility_impression_guard\":{\"value\":true},\"responsive_web_extension_compatibility_override_param\":{\"value\":true},\"responsive_web_extension_compatibility_scribe\":{\"value\":true},\"responsive_web_extension_compatibility_size_threshold\":{\"value\":50},\"responsive_web_fake_root_twitter_domain_for_testing\":{\"value\":false},\"responsive_web_feature_gating_enabled\":{\"value\":true},\"responsive_web_fetch_hashflags_on_boot\":{\"value\":true},\"responsive_web_footer_categorized_variant_enabled\":{\"value\":false},\"responsive_web_framerate_tracking_home_enabled\":{\"value\":false},\"responsive_web_gaggle_site_enabled\":{\"value\":false},\"responsive_web_graphql_conversations_enabled\":{\"value\":true},\"responsive_web_graphql_dark_reads_probability\":{\"value\":0},\"responsive_web_graphql_feedback\":{\"value\":true},\"responsive_web_graphql_home_enabled\":{\"value\":true},\"responsive_web_graphql_home_latest_enabled\":{\"value\":true},\"responsive_web_graphql_likes_timeline\":{\"value\":true},\"responsive_web_graphql_media_timeline\":{\"value\":true},\"responsive_web_graphql_timeline_navigation_enabled\":{\"value\":false},\"responsive_web_graphql_topic_timeline_enabled\":{\"value\":true},\"responsive_web_hashtag_highlight_is_enabled\":{\"value\":false},\"responsive_web_hashtag_highlight_show_avatar\":{\"value\":false},\"responsive_web_hashtag_highlight_use_small_font\":{\"value\":false},\"responsive_web_hevc_upload_preview_enabled\":{\"value\":false},\"responsive_web_home_new_tweets_pill_v2\":{\"value\":false},\"responsive_web_home_pinned_timelines_latest_enabled\":{\"value\":false},\"responsive_web_home_pinned_timelines_lists_enabled\":{\"value\":false},\"responsive_web_home_sticky_new_tweets_pill_delay_seconds\":{\"value\":1},\"responsive_web_home_sticky_new_tweets_pill_duration_seconds\":{\"value\":120},\"responsive_web_home_sticky_new_tweets_pill_enabled\":{\"value\":true},\"responsive_web_htl_empty_state_redesign_variant\":{\"value\":\"control\"},\"responsive_web_impression_pixel_enabled\":{\"value\":true},\"responsive_web_impression_tracker_refactor_enabled\":{\"value\":true},\"responsive_web_install_banner_show_immediate\":{\"value\":true},\"responsive_web_instream_video_redesign_enabled\":{\"value\":true},\"responsive_web_instream_video_store_keyed\":{\"value\":true},\"responsive_web_lbm_v2_home_enabled\":{\"value\":false},\"responsive_web_lbm_v2_replies_enabled\":{\"value\":false},\"responsive_web_left_nav_refresh_connect_enabled\":{\"value\":false},\"responsive_web_left_nav_refresh_topics_enabled\":{\"value\":false},\"responsive_web_like_by_author_enabled\":{\"value\":false},\"responsive_web_like_by_author_new_line\":{\"value\":false},\"responsive_web_list_tweet_integration_enabled\":{\"value\":false},\"responsive_web_live_commerce_enabled\":{\"value\":true},\"responsive_web_live_video_parity_periscope_auth_enabled\":{\"value\":false},\"responsive_web_location_spotlight_display_map\":{\"value\":true},\"responsive_web_location_spotlight_v1_config\":{\"value\":true},\"responsive_web_location_spotlight_v1_display\":{\"value\":true},\"responsive_web_logged_out_gating_13622_ddg\":{\"value\":\"\"},\"responsive_web_logged_out_gating_14123_ddg\":{\"value\":\"\"},\"responsive_web_logged_out_gating_14788_ddg\":{\"value\":\"\"},\"responsive_web_logged_out_gating_14992_ddg\":{\"value\":\"\"},\"responsive_web_logged_out_gating_15377_ddg\":{\"value\":\"\"},\"responsive_web_logged_out_gating_non_holdback_ddgs\":{\"value\":\"\"},\"responsive_web_logged_out_notifications_enabled\":{\"value\":false},\"responsive_web_logged_out_notifications_including_home\":{\"value\":false},\"responsive_web_login_input_type_email_enabled\":{\"value\":false},\"responsive_web_login_signup_sheet_app_install_cta_enabled\":{\"value\":true},\"responsive_web_media_upload_limit_2g\":{\"value\":250},\"responsive_web_media_upload_limit_3g\":{\"value\":1500},\"responsive_web_media_upload_limit_slow_2g\":{\"value\":150},\"responsive_web_media_upload_md5_hashing_enabled\":{\"value\":true},\"responsive_web_media_upload_metrics_enabled\":{\"value\":true},\"responsive_web_media_upload_target_jpg_pixels_per_byte\":{\"value\":1},\"responsive_web_menu_section_divider_enabled\":{\"value\":false},\"responsive_web_misinfo_label_revamp_tweaks_enabled\":{\"value\":false},\"responsive_web_mixed_media_consumption_enabled\":{\"value\":true},\"responsive_web_mobile_app_spotlight_v1_config\":{\"value\":false},\"responsive_web_mobile_app_spotlight_v1_display\":{\"value\":false},\"responsive_web_moment_maker_annotations_enabled\":{\"value\":false},\"responsive_web_moment_maker_enabled\":{\"value\":true},\"responsive_web_moment_maker_promoted_tweets_enabled\":{\"value\":false},\"responsive_web_multiple_account_limit\":{\"value\":5},\"responsive_web_new_copy_security_key_2fa_enabled\":{\"value\":true},\"responsive_web_newsletters_callout_enabled\":{\"value\":true},\"responsive_web_newsletters_menu_enabled\":{\"value\":true},\"responsive_web_newsletters_profile_subscribe_enabled\":{\"value\":true},\"responsive_web_newsletters_subscribe_double_opt_in_removal_enabled\":{\"value\":true},\"responsive_web_nft_avatar\":{\"value\":true},\"responsive_web_nft_avatar_help_link\":{\"value\":\"https://help.twitter.com/en/using-twitter/twitter-blue-labs#nft\"},\"responsive_web_notifications_empty_state_redesign_variant\":{\"value\":\"control\"},\"responsive_web_ntab_verified_mentions_vit_internal_dogfood\":{\"value\":false},\"responsive_web_nux_web_to_app_drop_gate_enabled\":{\"value\":false},\"responsive_web_oauth2_consent_flow_enabled\":{\"value\":true},\"responsive_web_ocf_reportflow_appeals_enabled\":{\"value\":false},\"responsive_web_ocf_reportflow_dms_enabled\":{\"value\":false},\"responsive_web_ocf_reportflow_lists_enabled\":{\"value\":true},\"responsive_web_ocf_reportflow_profiles_enabled\":{\"value\":false},\"responsive_web_ocf_reportflow_spaces_enabled\":{\"value\":false},\"responsive_web_ocf_reportflow_suspension_appeals_enabled\":{\"value\":false},\"responsive_web_ocf_reportflow_testers\":{\"value\":false},\"responsive_web_ocf_reportflow_tweets_enabled\":{\"value\":true},\"responsive_web_ocf_sms_autoverify_darkwrite\":{\"value\":false},\"responsive_web_ocf_sms_autoverify_enabled\":{\"value\":false},\"responsive_web_offscreen_video_scroller_removal_enabled\":{\"value\":false},\"responsive_web_open_app_appbar_button_enabled\":{\"value\":true},\"responsive_web_open_in_app_prompt_enabled\":{\"value\":false},\"responsive_web_original_tweet_nudge_enabled\":{\"value\":false},\"responsive_web_original_tweet_nudge_show_nudge\":{\"value\":false},\"responsive_web_original_tweet_nudge_supported_languages\":{\"value\":[\"en\"]},\"responsive_web_passwordless_sso_enabled\":{\"value\":false},\"responsive_web_pinned_replies_enabled\":{\"value\":false},\"responsive_web_placeholder_siwg_button_enabled\":{\"value\":false},\"responsive_web_prerolls_fullscreen_disabled_on_ios\":{\"value\":false},\"responsive_web_professional_journeys_holdback_enabled\":{\"value\":false},\"responsive_web_profile_spotlight_v0_config\":{\"value\":false},\"responsive_web_profile_spotlight_v0_display\":{\"value\":false},\"responsive_web_promoted_account_card_enabled\":{\"value\":true},\"responsive_web_promoted_badge_below_header\":{\"value\":false},\"responsive_web_promoted_badge_use_circle_icon\":{\"value\":false},\"responsive_web_qp_graphql_accounts_enabled\":{\"value\":true},\"responsive_web_qp_intro_experiment_enabled\":{\"value\":false},\"responsive_web_qp_payment_select_enabled\":{\"value\":true},\"responsive_web_reactions_api_test\":{\"value\":false},\"responsive_web_reactions_enabled\":{\"value\":false},\"responsive_web_reactions_fruit_basket_threshold\":{\"value\":20},\"responsive_web_reactions_legacy_heart\":{\"value\":true},\"responsive_web_reactions_nux_banner\":{\"value\":false},\"responsive_web_reader_extended_menu\":{\"value\":true},\"responsive_web_recent_searches_events_enabled\":{\"value\":true},\"responsive_web_recent_searches_topics_enabled\":{\"value\":true},\"responsive_web_recent_searches_users_enabled\":{\"value\":true},\"responsive_web_repeat_profile_visits_notifications_device_follow_only_version_enabled\":{\"value\":false},\"responsive_web_repeat_profile_visits_notifications_enabled\":{\"value\":false},\"responsive_web_reply_nudge_copy_version\":{\"value\":1},\"responsive_web_reply_nudge_enabled\":{\"value\":true},\"responsive_web_reply_nudge_show_nudge\":{\"value\":true},\"responsive_web_reply_nudge_supported_languages\":{\"value\":[\"en\"]},\"responsive_web_reply_nudge_testing_keyword\":{\"value\":false},\"responsive_web_reply_storm_enabled\":{\"value\":false},\"responsive_web_report_page_not_found\":{\"value\":false},\"responsive_web_scroller_autopoll_enabled\":{\"value\":false},\"responsive_web_scroller_top_positioning_enabled\":{\"value\":false},\"responsive_web_search_home_page_design_variation\":{\"value\":\"\"},\"responsive_web_send_cookies_metadata_enabled\":{\"value\":true},\"responsive_web_settings_timeline_polling_enabled\":{\"value\":false},\"responsive_web_settings_timeline_polling_interval_ms\":{\"value\":0},\"responsive_web_settings_timeline_refresh_background_interval\":{\"value\":0},\"responsive_web_share_action_order_desktop\":{\"value\":\"copy_link_first_bookmark_last\"},\"responsive_web_share_action_order_mobile\":{\"value\":\"default\"},\"responsive_web_share_only_tweet_url_omit_title_and_text\":{\"value\":false},\"responsive_web_sidebar_ttf_enabled\":{\"value\":false},\"responsive_web_spud_enabled\":{\"value\":true},\"responsive_web_sso_redirect_enabled\":{\"value\":false},\"responsive_web_ssr_footer_categorized_variant_enabled\":{\"value\":true},\"responsive_web_ssr_verified_crawler_rux_injections_enabled\":{\"value\":true},\"responsive_web_suppress_app_button_banner_suppressed\":{\"value\":true},\"responsive_web_text_conversations_enabled\":{\"value\":false},\"responsive_web_themed_scrollbars\":{\"value\":false},\"responsive_web_third_party_sso_buttons_enabled\":{\"value\":true},\"responsive_web_timeline_cover_killswitch_enabled\":{\"value\":false},\"responsive_web_timeline_refetching_on_revisit_enabled\":{\"value\":true},\"responsive_web_timeline_relay_lists_management_enabled\":{\"value\":false},\"responsive_web_timeline_relay_user_lists_enabled\":{\"value\":false},\"responsive_web_tracer_global_trace_sample_rate\":{\"value\":1},\"responsive_web_trends_setting_new_endpoints\":{\"value\":true},\"responsive_web_tweet_analytics_m2_enabled\":{\"value\":true},\"responsive_web_tweet_analytics_m3_enabled\":{\"value\":false},\"responsive_web_tweet_analytics_promoted_audience_demographics_enabled\":{\"value\":true},\"responsive_web_tweet_analytics_video_metrics_v2_enabled\":{\"value\":false},\"responsive_web_twitter_article_compose_enabled\":{\"value\":false},\"responsive_web_twitter_article_cover_aspect_ratio_5_2\":{\"value\":false},\"responsive_web_twitter_article_data_v2_enabled\":{\"value\":false},\"responsive_web_twitter_article_geo_gated\":{\"value\":true},\"responsive_web_twitter_article_max_times_show_tweet_banner\":{\"value\":3},\"responsive_web_twitter_article_tweet_other_notes_enabled\":{\"value\":false},\"responsive_web_twitter_article_tweet_own_notes_enabled\":{\"value\":false},\"responsive_web_twitter_article_view_enabled\":{\"value\":false},\"responsive_web_twitter_blue_home_redesign_enabled\":{\"value\":true},\"responsive_web_twitter_blue_signup_nux_enabled\":{\"value\":true},\"responsive_web_typeahead_reverse_bolding_enabled\":{\"value\":true},\"responsive_web_uc_gql_enabled\":{\"value\":true},\"responsive_web_unsupported_entry_tombstone\":{\"value\":false},\"responsive_web_use_app_button_variations\":{\"value\":\"treatment_1\"},\"responsive_web_use_app_prompt_copy_variant\":{\"value\":\"prompt_better\"},\"responsive_web_use_app_prompt_enabled\":{\"value\":true},\"responsive_web_use_badge_counts_for_ntab\":{\"value\":false},\"responsive_web_vdl_dash_redesign_enabled\":{\"value\":true},\"responsive_web_video_pcomplete_enabled\":{\"value\":true},\"responsive_web_video_promoted_logging_enabled\":{\"value\":true},\"responsive_web_video_trimmer_enabled\":{\"value\":false},\"responsive_web_vod_muted_captions_enabled\":{\"value\":true},\"responsive_web_vs_config_resize_observer_enabled\":{\"value\":true},\"responsive_web_zipkin_api_requests_enabled\":{\"value\":false},\"responsive_web_zipkin_api_requests_paths_allowlist\":{\"value\":[\"/2/timeline/home.json\"]},\"rito_safety_mode_blocked_profile_enabled\":{\"value\":true},\"rito_safety_mode_features_enabled\":{\"value\":false},\"rito_safety_mode_modal_prompt_enabled\":{\"value\":false},\"rito_safety_mode_settings_enabled\":{\"value\":false},\"rweb_home_perf_client_prefetch_mode\":{\"value\":\"all\"},\"rweb_reply_downvote_before_like\":{\"value\":false},\"rweb_reply_downvote_enabled\":{\"value\":false},\"rweb_reply_downvote_inline_days\":{\"value\":1},\"rweb_reply_downvote_inline_education\":{\"value\":60},\"rweb_reply_downvote_inline_survey\":{\"value\":0},\"rweb_reply_downvote_nux_inline_days\":{\"value\":7},\"rweb_update_fatigue_switch_to_app_day_timeout\":{\"value\":7},\"rweb_update_fatigue_switch_to_app_link\":{\"value\":\"BannerSwitchToApp\"},\"rweb_video_tagging_enabled\":{\"value\":false},\"sc_r4_enabled\":{\"value\":false},\"scribe_api_error_sample_size\":{\"value\":0},\"scribe_api_sample_size\":{\"value\":100},\"scribe_cdn_host_list\":{\"value\":[\"si0.twimg.com\",\"si1.twimg.com\",\"si2.twimg.com\",\"si3.twimg.com\",\"a0.twimg.com\",\"a1.twimg.com\",\"a2.twimg.com\",\"a3.twimg.com\",\"abs.twimg.com\",\"amp.twimg.com\",\"o.twimg.com\",\"pbs.twimg.com\",\"pbs-eb.twimg.com\",\"pbs-ec.twimg.com\",\"pbs-v6.twimg.com\",\"pbs-h1.twimg.com\",\"pbs-h2.twimg.com\",\"video.twimg.com\",\"platform.twitter.com\",\"cdn.api.twitter.com\",\"ton.twimg.com\",\"v.cdn.vine.co\",\"mtc.cdn.vine.co\",\"edge.vncdn.co\",\"mid.vncdn.co\"]},\"scribe_cdn_sample_size\":{\"value\":50},\"scribe_web_nav_sample_size\":{\"value\":100},\"sensitive_media_settings_enabled\":{\"value\":false},\"sensitive_tweet_warnings_enabled\":{\"value\":true},\"settings_revamp_search_bar_enabled\":{\"value\":true},\"share_animation_after_like_enabled\":{\"value\":false},\"shortened_tracking_parameters_mapping\":{\"value\":[\"01:twcamp&#x3D;share&amp;twsrc&#x3D;android&amp;twgr&#x3D;sms\",\"02:twcamp&#x3D;share&amp;twsrc&#x3D;android&amp;twgr&#x3D;email\",\"03:twcamp&#x3D;share&amp;twsrc&#x3D;android&amp;twgr&#x3D;gmail\",\"04:twcamp&#x3D;share&amp;twsrc&#x3D;android&amp;twgr&#x3D;facebook\",\"05:twcamp&#x3D;share&amp;twsrc&#x3D;android&amp;twgr&#x3D;wechat\",\"06:twcamp&#x3D;share&amp;twsrc&#x3D;android&amp;twgr&#x3D;line\",\"07:twcamp&#x3D;share&amp;twsrc&#x3D;android&amp;twgr&#x3D;fbmessenger\",\"08:twcamp&#x3D;share&amp;twsrc&#x3D;android&amp;twgr&#x3D;whatsapp\",\"09:twcamp&#x3D;share&amp;twsrc&#x3D;android&amp;twgr&#x3D;other\",\"10:twcamp&#x3D;share&amp;twsrc&#x3D;ios&amp;twgr&#x3D;sms\",\"11:twcamp&#x3D;share&amp;twsrc&#x3D;ios&amp;twgr&#x3D;email\",\"12:twcamp&#x3D;share&amp;twsrc&#x3D;ios&amp;twgr&#x3D;other\",\"13:twcamp&#x3D;share&amp;twsrc&#x3D;android&amp;twgr&#x3D;download\",\"14:twcamp&#x3D;share&amp;twsrc&#x3D;ios&amp;twgr&#x3D;download\",\"15:twcamp&#x3D;share&amp;twsrc&#x3D;android&amp;twgr&#x3D;hangouts\",\"16:twcamp&#x3D;share&amp;twsrc&#x3D;android&amp;twgr&#x3D;twitterdm\",\"17:twcamp&#x3D;share&amp;twsrc&#x3D;m5&amp;twgr&#x3D;email\",\"18:twcamp&#x3D;share&amp;twsrc&#x3D;m5&amp;twgr&#x3D;download\",\"19:twcamp&#x3D;share&amp;twsrc&#x3D;android&amp;twgr&#x3D;copy\",\"20:twcamp&#x3D;share&amp;twsrc&#x3D;m5&amp;twgr&#x3D;copy\",\"21:twcamp&#x3D;share&amp;twsrc&#x3D;ios&amp;twgr&#x3D;copy\",\"22:twcamp&#x3D;share&amp;twsrc&#x3D;ios&amp;twgr&#x3D;snapchat\",\"23:twcamp&#x3D;share&amp;twsrc&#x3D;android&amp;twgr&#x3D;snapchat\",\"24:twcamp&#x3D;share&amp;twsrc&#x3D;ios&amp;twgr&#x3D;whatsapp\",\"25:twcamp&#x3D;share&amp;twsrc&#x3D;ios&amp;twgr&#x3D;fbmessenger\",\"26:twcamp&#x3D;share&amp;twsrc&#x3D;ios&amp;twgr&#x3D;facebook\",\"27:twcamp&#x3D;share&amp;twsrc&#x3D;ios&amp;twgr&#x3D;gmail\",\"28:twcamp&#x3D;share&amp;twsrc&#x3D;ios&amp;twgr&#x3D;telegram\",\"29:twcamp&#x3D;share&amp;twsrc&#x3D;ios&amp;twgr&#x3D;line\",\"30:twcamp&#x3D;share&amp;twsrc&#x3D;ios&amp;twgr&#x3D;viber\",\"31:twcamp&#x3D;share&amp;twsrc&#x3D;android&amp;twgr&#x3D;slack\",\"32:twcamp&#x3D;share&amp;twsrc&#x3D;android&amp;twgr&#x3D;kakao\",\"33:twcamp&#x3D;share&amp;twsrc&#x3D;android&amp;twgr&#x3D;discord\",\"34:twcamp&#x3D;share&amp;twsrc&#x3D;android&amp;twgr&#x3D;reddit\",\"35:twcamp&#x3D;share&amp;twsrc&#x3D;android&amp;twgr&#x3D;telegram\",\"36:twcamp&#x3D;share&amp;twsrc&#x3D;android&amp;twgr&#x3D;instagram\",\"37:twcamp&#x3D;share&amp;twsrc&#x3D;android&amp;twgr&#x3D;daum\",\"38:twcamp&#x3D;share&amp;twsrc&#x3D;ios&amp;twgr&#x3D;instagram\",\"39:twcamp&#x3D;share&amp;twsrc&#x3D;ios&amp;twgr&#x3D;linkedin\",\"40:twcamp&#x3D;share&amp;twsrc&#x3D;android&amp;twgr&#x3D;linkedin\",\"41:twcamp&#x3D;share&amp;twsrc&#x3D;gryphon&amp;twgr&#x3D;copy\",\"42:twcamp&#x3D;share&amp;twsrc&#x3D;iphone&amp;twgr&#x3D;sms\",\"43:twcamp&#x3D;share&amp;twsrc&#x3D;iphone&amp;twgr&#x3D;email\",\"44:twcamp&#x3D;share&amp;twsrc&#x3D;iphone&amp;twgr&#x3D;other\",\"45:twcamp&#x3D;share&amp;twsrc&#x3D;iphone&amp;twgr&#x3D;download\",\"46:twcamp&#x3D;share&amp;twsrc&#x3D;iphone&amp;twgr&#x3D;copy\",\"47:twcamp&#x3D;share&amp;twsrc&#x3D;iphone&amp;twgr&#x3D;snapchat\",\"48:twcamp&#x3D;share&amp;twsrc&#x3D;iphone&amp;twgr&#x3D;whatsapp\",\"49:twcamp&#x3D;share&amp;twsrc&#x3D;iphone&amp;twgr&#x3D;fbmessenger\",\"50:twcamp&#x3D;share&amp;twsrc&#x3D;iphone&amp;twgr&#x3D;facebook\",\"51:twcamp&#x3D;share&amp;twsrc&#x3D;iphone&amp;twgr&#x3D;gmail\",\"52:twcamp&#x3D;share&amp;twsrc&#x3D;iphone&amp;twgr&#x3D;telegram\",\"53:twcamp&#x3D;share&amp;twsrc&#x3D;iphone&amp;twgr&#x3D;line\",\"54:twcamp&#x3D;share&amp;twsrc&#x3D;iphone&amp;twgr&#x3D;viber\",\"55:twcamp&#x3D;share&amp;twsrc&#x3D;iphone&amp;twgr&#x3D;instagram\",\"56:twcamp&#x3D;share&amp;twsrc&#x3D;iphone&amp;twgr&#x3D;linkedin\",\"57:twcamp&#x3D;share&amp;twsrc&#x3D;ipad&amp;twgr&#x3D;sms\",\"58:twcamp&#x3D;share&amp;twsrc&#x3D;ipad&amp;twgr&#x3D;email\",\"59:twcamp&#x3D;share&amp;twsrc&#x3D;ipad&amp;twgr&#x3D;other\",\"60:twcamp&#x3D;share&amp;twsrc&#x3D;ipad&amp;twgr&#x3D;download\",\"61:twcamp&#x3D;share&amp;twsrc&#x3D;ipad&amp;twgr&#x3D;copy\",\"62:twcamp&#x3D;share&amp;twsrc&#x3D;ipad&amp;twgr&#x3D;snapchat\",\"63:twcamp&#x3D;share&amp;twsrc&#x3D;ipad&amp;twgr&#x3D;whatsapp\",\"64:twcamp&#x3D;share&amp;twsrc&#x3D;ipad&amp;twgr&#x3D;fbmessenger\",\"65:twcamp&#x3D;share&amp;twsrc&#x3D;ipad&amp;twgr&#x3D;facebook\",\"66:twcamp&#x3D;share&amp;twsrc&#x3D;ipad&amp;twgr&#x3D;gmail\",\"67:twcamp&#x3D;share&amp;twsrc&#x3D;ipad&amp;twgr&#x3D;telegram\",\"68:twcamp&#x3D;share&amp;twsrc&#x3D;ipad&amp;twgr&#x3D;line\",\"69:twcamp&#x3D;share&amp;twsrc&#x3D;ipad&amp;twgr&#x3D;viber\",\"70:twcamp&#x3D;share&amp;twsrc&#x3D;ipad&amp;twgr&#x3D;instagram\",\"71:twcamp&#x3D;share&amp;twsrc&#x3D;ipad&amp;twgr&#x3D;linkedin\"]},\"smbo_legacy_pac_is_in_follow_position_test\":{\"value\":false},\"social_context_and_topic_context_refresh_alignment_enabled\":{\"value\":false},\"spaces_2022_h2_clipping\":{\"value\":true},\"spaces_2022_h2_clipping_consumption\":{\"value\":true},\"spaces_2022_h2_clipping_duration_seconds\":{\"value\":30},\"spaces_2022_h2_follow_host\":{\"value\":true},\"spaces_2022_h2_reactions_web_send\":{\"value\":false},\"spaces_2022_h2_spacebar\":{\"value\":false},\"spaces_2022_h2_spacebar_use_mock_data\":{\"value\":false},\"spaces_2022_h2_spacebar_web_sidebar\":{\"value\":false},\"spaces_2022_h2_spacebar_web_topnavbar\":{\"value\":\"disabled\"},\"spaces_2022_h2_spacebar_web_use_topnavbar\":{\"value\":true},\"spaces_2022_h2_spaces_communities\":{\"value\":false},\"standardized_nudges_misinfo\":{\"value\":true},\"standardized_nudges_toxicity\":{\"value\":false},\"stateful_login_enabled\":{\"value\":true},\"subscriptions_blue_premium_labeling_enabled\":{\"value\":true},\"subscriptions_enabled\":{\"value\":true},\"subscriptions_feature_1002\":{\"value\":true},\"subscriptions_feature_1003\":{\"value\":true},\"subscriptions_feature_1005\":{\"value\":true},\"subscriptions_feature_1006\":{\"value\":true},\"subscriptions_feature_1007\":{\"value\":true},\"subscriptions_feature_1009\":{\"value\":true},\"subscriptions_feature_1011\":{\"value\":true},\"subscriptions_feature_labs_1001\":{\"value\":true},\"subscriptions_feature_labs_1004\":{\"value\":true},\"subscriptions_long_video_rweb_new_copy_enabled\":{\"value\":true},\"subscriptions_long_video_upload\":{\"value\":true},\"subscriptions_management_enabled\":{\"value\":true},\"subscriptions_marketing_page_refresh_enabled\":{\"value\":false},\"subscriptions_settings_item_enabled\":{\"value\":true},\"subscriptions_sign_up_enabled\":{\"value\":false},\"subscriptions_stripe_testing\":{\"value\":false},\"subscriptions_tab_customization_on_android_enabled\":{\"value\":true},\"subscriptions_top_articles_on_ios_enabled\":{\"value\":true},\"subscriptions_twitter_blue_logo_enabled\":{\"value\":true},\"super_follow_android_web_subscription_enabled\":{\"value\":false},\"super_follow_exclusive_tweet_creation_api_enabled\":{\"value\":true},\"super_follow_tweet_api_enabled\":{\"value\":true},\"super_follow_user_api_enabled\":{\"value\":true},\"super_follow_web_application_enabled\":{\"value\":false},\"super_follow_web_deactivate_enabled\":{\"value\":true},\"super_follow_web_debug_enabled\":{\"value\":false},\"super_follow_web_edit_perks_enabled\":{\"value\":true},\"super_follow_web_monetization_dashboard_enabled\":{\"value\":false},\"super_follow_web_onboarding_enabled\":{\"value\":true},\"targeted_project_friday_enabled\":{\"value\":false},\"topic_landing_page_clearer_controls_enabled\":{\"value\":true},\"topic_landing_page_cta_text\":{\"value\":\"control\"},\"topic_landing_page_share_enabled\":{\"value\":true},\"topics_context_controls_followed_variation\":{\"value\":\"see_more\"},\"topics_context_controls_implicit_context_x_enabled\":{\"value\":true},\"topics_context_controls_implicit_variation\":{\"value\":\"see_more\"},\"topics_context_controls_inline_prompt_enabled\":{\"value\":false},\"topics_discovery_page_enabled\":{\"value\":false},\"toxic_reply_filter_inline_callout_enabled\":{\"value\":false},\"toxic_reply_filter_settings_enabled\":{\"value\":false},\"traffic_rewrite_map\":{\"value\":[]},\"trusted_friends_audience_control_exp_variant\":{\"value\":\"control\"},\"trusted_friends_consumption_enabled\":{\"value\":true},\"trusted_friends_dash_discovery_enabled\":{\"value\":true},\"trusted_friends_tweet_creation_enabled\":{\"value\":true},\"tweet_limited_actions_config_community_tweet_community_deleted\":{\"value\":[\"add_to_bookmarks\",\"add_to_moment\",\"embed\",\"follow\",\"hide_community_tweet\",\"like\",\"lists_add_remove\",\"mute_conversation\",\"pin_to_profile\",\"quote_tweet\",\"react\",\"remove_from_community\",\"reply\",\"retweet\",\"send_via_dm\",\"share_tweet_via\",\"view_hidden_replies\",\"view_tweet_activity\",\"vote_on_poll\"]},\"tweet_limited_actions_config_community_tweet_community_not_found\":{\"value\":[\"add_to_bookmarks\",\"add_to_moment\",\"embed\",\"follow\",\"hide_community_tweet\",\"like\",\"lists_add_remove\",\"mute_conversation\",\"pin_to_profile\",\"quote_tweet\",\"react\",\"remove_from_community\",\"reply\",\"retweet\",\"send_via_dm\",\"share_tweet_via\",\"view_hidden_replies\",\"view_tweet_activity\",\"vote_on_poll\"]},\"tweet_limited_actions_config_community_tweet_community_suspended\":{\"value\":[\"add_to_bookmarks\",\"add_to_moment\",\"embed\",\"follow\",\"hide_community_tweet\",\"like\",\"lists_add_remove\",\"mute_conversation\",\"pin_to_profile\",\"quote_tweet\",\"react\",\"remove_from_community\",\"reply\",\"retweet\",\"send_via_dm\",\"share_tweet_via\",\"view_hidden_replies\",\"view_tweet_activity\",\"vote_on_poll\"]},\"tweet_limited_actions_config_community_tweet_hidden\":{\"value\":[\"add_to_bookmarks\",\"add_to_moment\",\"embed\",\"follow\",\"hide_community_tweet\",\"like\",\"lists_add_remove\",\"mute_conversation\",\"pin_to_profile\",\"quote_tweet\",\"react\",\"reply\",\"retweet\",\"send_via_dm\",\"share_tweet_via\",\"view_hidden_replies\",\"view_tweet_activity\",\"vote_on_poll\"]},\"tweet_limited_actions_config_community_tweet_member\":{\"value\":[\"embed\",\"pin_to_profile\",\"retweet\"]},\"tweet_limited_actions_config_community_tweet_member_removed\":{\"value\":[\"add_to_bookmarks\",\"add_to_moment\",\"embed\",\"follow\",\"hide_community_tweet\",\"like\",\"lists_add_remove\",\"mute_conversation\",\"pin_to_profile\",\"quote_tweet\",\"react\",\"remove_from_community\",\"reply\",\"retweet\",\"send_via_dm\",\"share_tweet_via\",\"view_hidden_replies\",\"view_tweet_activity\",\"vote_on_poll\"]},\"tweet_limited_actions_config_community_tweet_non_member\":{\"value\":[\"embed\",\"like\",\"pin_to_profile\",\"react\",\"reply\",\"reply_down_vote\",\"retweet\",\"share_tweet_via\",\"vote_on_poll\"]},\"tweet_limited_actions_config_disable_state_media_autoplay\":{\"value\":[\"autoplay\"]},\"tweet_limited_actions_config_dpa_enabled\":{\"value\":true},\"tweet_limited_actions_config_dynamic_product_ad\":{\"value\":[\"reply\",\"retweet\",\"quote_tweet\",\"share_tweet_via\",\"send_via_dm\",\"copy_link\",\"add_to_bookmarks\",\"like\"]},\"tweet_limited_actions_config_enabled\":{\"value\":true},\"tweet_limited_actions_config_limit_trusted_friends_tweet\":{\"value\":[\"retweet\",\"quote_tweet\",\"share_tweet_via\",\"send_via_dm\",\"copy_link\",\"view_tweet_activity\",\"embed\",\"add_to_moment\"]},\"tweet_limited_actions_config_non_compliant\":{\"value\":[\"reply\",\"retweet\",\"like\",\"react\",\"send_via_dm\",\"add_to_bookmarks\",\"add_to_moment\",\"pin_to_profile\",\"view_tweet_activity\",\"share_tweet_via\",\"copy_link\"]},\"tweet_limited_actions_config_skip_tweet_detail\":{\"value\":[\"reply\"]},\"tweet_limited_actions_config_skip_tweet_detail_enabled\":{\"value\":true},\"tweet_limited_actions_config_soft_nudge_with_quote_tweet\":{\"value\":[\"show_retweet_action_menu\"]},\"tweet_translation_timeline_enabled\":{\"value\":false},\"tweet_with_visibility_results_prefer_gql_limited_actions_policy_enabled\":{\"value\":false},\"tweetypie_unmention_optimization_enabled\":{\"value\":true},\"ucpd_enabled\":{\"value\":true},\"unified_cards_ad_metadata_container_dynamic_card_content_query_enabled\":{\"value\":true},\"unified_cards_collection_ads_convert_to_image_website_card\":{\"value\":true},\"unified_cards_dpa_cta_button_enabled\":{\"value\":false},\"unified_cards_dpa_metadata_enabled\":{\"value\":false},\"unified_cards_follow_card_consumption_enabled\":{\"value\":true},\"user_display_name_max_limit\":{\"value\":50},\"verified_phone_label_enabled\":{\"value\":false},\"vibe_api_enabled\":{\"value\":true},\"vibe_tweet_context_enabled\":{\"value\":true},\"vod_attribution_tweet_detail_pivot_enabled\":{\"value\":true},\"voice_consumption_enabled\":{\"value\":true},\"voice_rooms_card_version\":{\"value\":2},\"voice_rooms_discovery_page_enabled\":{\"value\":false},\"voice_rooms_end_screen_participants\":{\"value\":true},\"voice_rooms_expanded_dock\":{\"value\":true},\"voice_rooms_expanded_dock_reactions\":{\"value\":true},\"voice_rooms_host_analytics_enabled\":{\"value\":true},\"voice_rooms_recent_search_audiospace_ring_enabled\":{\"value\":true},\"voice_rooms_replay_consumption\":{\"value\":true},\"voice_rooms_search_results_page_audiospace_ring_enabled\":{\"value\":false},\"voice_rooms_sharing_listening_data_with_followers_setting_enabled\":{\"value\":true},\"voice_rooms_speaking_enabled\":{\"value\":false},\"voice_rooms_typeahead_audiospace_ring_enabled\":{\"value\":true},\"web_video_bitrate_persistence_enabled\":{\"value\":false},\"web_video_caption_repositioning_enabled\":{\"value\":true},\"web_video_hls_android_mse_enabled\":{\"value\":true},\"web_video_hls_mp4_threshold_sec\":{\"value\":0},\"web_video_hls_variant_version\":{\"value\":\"1\"},\"web_video_hlsjs_version\":{\"value\":\"\"},\"web_video_playback_rate_enabled\":{\"value\":false},\"web_video_player_size_cap_disabled\":{\"value\":true},\"web_video_prefetch_playlist_autoplay_disabled\":{\"value\":false},\"web_video_transcribed_captions_enabled\":{\"value\":false}},\"impression_pointers\":{\"responsive_web_share_only_tweet_url_omit_title_and_text\":[\"share_learning_holdback_h2_2022_15147\"],\"professional_launchpad_upload_address_book\":[\"professional_home_m1_15184\"],\"professional_launchpad_m1_enabled\":[\"professional_home_m1_15184\"],\"home_timeline_like_reactivity_fatigue\":[\"like_tweet_reactivity_all_users_15346\"],\"responsive_web_suppress_app_button_banner_suppressed\":[\"responsive_web_suppress_app_button_14988\"],\"unified_cards_collection_ads_convert_to_image_website_card\":[\"unified_cards_image_collection_website_rweb_15246\"],\"onboarding_connect_tab_urt_graphql_enabled\":[\"rweb_connect_tab_migration_graphql_15139\"],\"unified_cards_follow_card_consumption_enabled\":[\"promoted_account_unified_card_migration_rweb_15490\"]},\"impressions\":{\"like_tweet_reactivity_all_users_15346\":{\"key\":\"like_tweet_reactivity_all_users_15346\",\"bucket\":\"control\",\"version\":2},\"professional_home_m1_15184\":{\"key\":\"professional_home_m1_15184\",\"bucket\":\"treatment\",\"version\":5},\"promoted_account_unified_card_migration_rweb_15490\":{\"key\":\"promoted_account_unified_card_migration_rweb_15490\",\"bucket\":\"treatment\",\"version\":1},\"responsive_web_suppress_app_button_14988\":{\"key\":\"responsive_web_suppress_app_button_14988\",\"bucket\":\"suppress_switch_to_app_banner\",\"version\":6},\"rweb_connect_tab_migration_graphql_15139\":{\"key\":\"rweb_connect_tab_migration_graphql_15139\",\"bucket\":\"treatment\",\"version\":1},\"share_learning_holdback_h2_2022_15147\":{\"key\":\"share_learning_holdback_h2_2022_15147\",\"bucket\":\"control\",\"version\":1},\"unified_cards_image_collection_website_rweb_15246\":{\"key\":\"unified_cards_image_collection_website_rweb_15246\",\"bucket\":\"control\",\"version\":9}},\"keysRead\":{},\"settingsVersion\":\"703088b4a8d31d5911ed5a67d8e55166\",\"behavioralEventAllowlist\":{\"children\":{\"messages\":{\"children\":{\"message\":{\"children\":{\"card\":{\"children\":{\"community_card\":{\"children\":{\"click\":{\"isTerminal\":1},\"impress\":{\"isTerminal\":1}},\"isTerminal\":0}},\"isTerminal\":0}},\"isTerminal\":0}},\"isTerminal\":0},\"community\":{\"children\":{\"impress\":{\"isTerminal\":1},\"**\":{\"children\":{\"impress\":{\"isTerminal\":1},\"click\":{\"isTerminal\":1}},\"isTerminal\":0}},\"isTerminal\":0},\"home\":{\"children\":{\"timeline\":{\"children\":{\"tweet\":{\"children\":{\"*\":{\"children\":{\"click\":{\"isTerminal\":1}},\"isTerminal\":0},\"avatar\":{\"children\":{\"click\":{\"isTerminal\":1}},\"isTerminal\":0},\"image\":{\"children\":{\"click\":{\"isTerminal\":1}},\"isTerminal\":0},\"click\":{\"isTerminal\":1},\"menu_control\":{\"children\":{\"*\":{\"children\":{\"click\":{\"isTerminal\":1}},\"isTerminal\":0}},\"isTerminal\":0},\"quote_tweet\":{\"children\":{\"image\":{\"children\":{\"click\":{\"isTerminal\":1}},\"isTerminal\":0}},\"isTerminal\":0},\"user\":{\"children\":{\"click\":{\"isTerminal\":1}},\"isTerminal\":0}},\"isTerminal\":0}},\"isTerminal\":0}},\"isTerminal\":0},\"profile\":{\"children\":{\"tweets_replies\":{\"children\":{\"impress\":{\"isTerminal\":1}},\"isTerminal\":0},\"impress\":{\"isTerminal\":1},\"*\":{\"children\":{\"click\":{\"isTerminal\":1},\"timeline\":{\"children\":{\"**\":{\"children\":{\"click\":{\"isTerminal\":1}},\"isTerminal\":0}},\"isTerminal\":0}},\"isTerminal\":0},\"likes\":{\"children\":{\"impress\":{\"isTerminal\":1}},\"isTerminal\":0},\"menu_control\":{\"children\":{\"*\":{\"children\":{\"click\":{\"isTerminal\":1}},\"isTerminal\":0}},\"isTerminal\":0},\"media\":{\"children\":{\"impress\":{\"isTerminal\":1}},\"isTerminal\":0},\"tweets\":{\"children\":{\"impress\":{\"isTerminal\":1}},\"isTerminal\":0}},\"isTerminal\":0},\"push_notification\":{\"children\":{\"background\":{\"children\":{\"dismiss\":{\"children\":{\"click\":{\"isTerminal\":1}},\"isTerminal\":0},\"click\":{\"isTerminal\":1},\"impress\":{\"isTerminal\":1}},\"isTerminal\":0}},\"isTerminal\":0},\"communities\":{\"children\":{\"**\":{\"children\":{\"click\":{\"isTerminal\":1},\"impress\":{\"isTerminal\":1}},\"isTerminal\":0},\"impress\":{\"isTerminal\":1}},\"isTerminal\":0},\"tweet_details\":{\"children\":{\"timeline\":{\"children\":{\"tweet\":{\"children\":{\"menu_control\":{\"children\":{\"*\":{\"children\":{\"click\":{\"isTerminal\":1}},\"isTerminal\":0}},\"isTerminal\":0},\"*\":{\"children\":{\"click\":{\"isTerminal\":1}},\"isTerminal\":0}},\"isTerminal\":0},\"focal_tweet\":{\"children\":{\"*\":{\"children\":{\"click\":{\"isTerminal\":1}},\"isTerminal\":0},\"menu_control\":{\"children\":{\"*\":{\"children\":{\"click\":{\"isTerminal\":1}},\"isTerminal\":0}},\"isTerminal\":0}},\"isTerminal\":0}},\"isTerminal\":0},\"impress\":{\"isTerminal\":1}},\"isTerminal\":0},\"fullscreen_image\":{\"children\":{\"impress\":{\"isTerminal\":1}},\"isTerminal\":0}}}}},\"typeaheadUsers\":{\"fetchStatus\":\"none\",\"users\":{},\"denylist\":{},\"lastUpdated\":0,\"index\":{}},\"altTextPromptPreference\":{\"fetchStatus\":\"none\",\"updateStatus\":\"none\"},\"settings\":{\"local\":{\"nextPushCheckin\":0,\"shouldAutoPlayGif\":false,\"scale\":\"normal\",\"themeColor\":\"blue500\",\"highContrastEnabled\":false,\"themeBackground\":\"light\",\"loginPromptLastShown\":0,\"reducedMotionEnabled\":false,\"showTweetMediaDetailDrawer\":true,\"autoPollNewTweets\":false,\"shouldAutoTagLocation\":false,\"undoPreview\":{},\"replyVotingSurveyClicked\":0,\"pushNotificationsPermission\":null},\"remote\":{\"settings\":{\"display_sensitive_media\":false,\"protected\":false,\"screen_name\":\"EdgeForex16\",\"always_use_https\":true,\"use_cookie_personalization\":false,\"sleep_time\":{\"enabled\":false,\"end_time\":null,\"start_time\":null},\"geo_enabled\":false,\"language\":\"en\",\"discoverable_by_email\":false,\"discoverable_by_mobile_phone\":false,\"personalized_trends\":true,\"allow_media_tagging\":\"all\",\"allow_contributor_request\":\"all\",\"allow_ads_personalization\":false,\"allow_logged_out_device_personalization\":false,\"allow_location_history_personalization\":false,\"allow_sharing_data_for_third_party_personalization\":false,\"allow_dms_from\":\"following\",\"allow_dm_groups_from\":\"following\",\"translator_type\":\"none\",\"country_code\":\"es\",\"nsfw_user\":false,\"nsfw_admin\":false,\"ranked_timeline_setting\":null,\"ranked_timeline_eligible\":null,\"address_book_live_sync_enabled\":false,\"universal_quality_filtering_enabled\":\"enabled\",\"dm_receipt_setting\":\"all_enabled\",\"alt_text_compose_enabled\":null,\"mention_filter\":\"unfiltered\",\"allow_authenticated_periscope_requests\":true,\"protect_password_reset\":false,\"require_password_login\":false,\"requires_login_verification\":false,\"ext\":{\"ssoConnections\":{\"r\":{\"ok\":[]},\"ttl\":-1}},\"dm_quality_filter\":\"enabled\",\"autoplay_disabled\":false,\"settings_metadata\":{}},\"fetchStatus\":\"loaded\"},\"dataSaver\":{\"dataSaverMode\":false},\"transient\":{\"dtabBarInfo\":{\"hide\":false},\"loginPromptShown\":false,\"lastViewedDmInboxPath\":\"/messages\",\"themeFocus\":\"\"}},\"devices\":{\"browserPush\":{\"fetchStatus\":\"none\",\"pushNotificationsPrompt\":{\"dismissed\":false,\"fetchStatus\":\"none\"},\"subscribed\":false,\"supported\":null},\"devices\":{\"data\":{\"emails\":[],\"phone_numbers\":[]},\"fetchStatus\":\"none\"},\"notificationSettings\":{\"push_settings\":{\"error\":null,\"fetchStatus\":\"none\"},\"push_settings_template\":{\"template\":{\"settings\":[]}},\"checkin_time\":null}},\"toasts\":[],\"educationFlags\":{\"PinnedConversationsEducation\":1664882599223},\"userClaim\":{\"config\":{\"subscriptions\":{},\"features\":{}},\"debug\":{},\"fetchStatus\":\"loaded\"},\"subscriptionProductFeatures\":{\"data\":{},\"fetchStatus\":\"none\"},\"session\":{\"country\":\"IN\",\"communitiesActions\":{\"create\":false},\"isActiveCreator\":false,\"isRestrictedSession\":false,\"guestId\":\"166529693279936751\",\"hasCommunityMemberships\":false,\"language\":\"en\",\"oneFactorLoginEligibility\":{\"fetchStatus\":\"none\"},\"ssoInitTokens\":{},\"superFollowersCount\":0,\"superFollowsApplicationStatus\":\"NotStarted\",\"user_id\":\"1562060197786427392\",\"userFeatures\":{\"mediatool_studio_library\":false}},\"conversationFollowNudge\":{\"conversationIdMap\":{}},\"urt\":{},\"visibilityResults\":{\"tweets\":{}},\"navigation\":{},\"mediaUpload\":[],\"directMessages\":{\"conversations\":{},\"entries\":{\"entries\":{},\"entryIdsByConversationId\":{},\"reactionsByMessageId\":{}},\"inbox\":{\"cursors\":{\"inbox\":{\"fetchStatus\":\"none\"},\"trusted\":{\"fetchStatus\":\"none\"},\"untrusted\":{\"fetchStatus\":\"none\"},\"untrusted_low_quality\":{\"fetchStatus\":\"none\"}},\"lastSeenEventIds\":{},\"poppedOutConversationId\":null,\"drawerVisibility\":\"collapsed\"},\"search\":{\"searchResults\":{},\"recentSearches\":[]},\"updates\":{\"isLoaded\":false,\"isLoading\":false}},\"audio\":{\"conversationLookup\":{}},\"multiAccount\":{\"fetchStatus\":\"none\",\"users\":[],\"badgeCounts\":{},\"addAccountFetchStatus\":\"none\"},\"hashflags\":{\"fetchStatus\":\"none\",\"hashflags\":{\"brandedHashtags\":{},\"brandedLikes\":{}}},\"teams\":{\"fetchStatus\":\"none\",\"teams\":{}},\"ssrExperiments\":{}};window.__META_DATA__={\"env\":\"prod\",\"isCanary\":false,\"sha\":\"798f1c4971633c21a0cde7a1b32ebb6f9da6a4fd\",\"isLoggedIn\":true,\"hasMultiAccountCookie\":false,\"uaParserTags\":[\"m2\",\"rweb\",\"msw\"],\"serverDate\":1665420363794,\"cookies\":{\"version\":\"1661819456366\",\"fetchedTime\":1661971138705,\"categories\":{\"2\":[\"Authorization\",\"DECLINED_DATE\",\"LAST_INVITATION_VIEW\",\"NEW_SUBSCRIPTION_ACCOUNT\",\"SUBMITTED_DATE\",\"_ep_sess\",\"_mb_tk\",\"_sl\",\"_support_session\",\"_ttc_session\",\"_twitter_sess\",\"aa_u\",\"ab_decider\",\"ads_prefs\",\"aem-lang-preference\",\"app_shell_visited\",\"att\",\"auth_multi\",\"auth_token\",\"backendDataInSessionFlag\",\"bouncer_reset_cookie\",\"cd_user_id\",\"client_token\",\"cms-csp-nonce\",\"co\",\"connect.sid\",\"cookies_enabled\",\"csrf_id\",\"csrf_same_site\",\"csrf_same_site_set\",\"csrftoken\",\"ct0\",\"d_prefs\",\"daa\",\"dnt\",\"dtab_local\",\"email_read_only\",\"email_uid\",\"eu_cn\",\"fm\",\"form-lead-gen\",\"gscr\",\"gt\",\"guest_id\",\"kampyleInvitePresented\",\"kampyleSessionPageCounter\",\"kampyleUserPercentile\",\"kampyleUserSessionCount\",\"kampyleUserSessionsCount\",\"kampyle_userid\",\"kdt\",\"lang\",\"lang-preference\",\"language\",\"lastOwnerId\",\"lscr\",\"lv-ctx-\",\"lv-ctx-zzz*\",\"lv-uid\",\"m_session\",\"mdLogger\",\"md_isSurveySubmittedInSession\",\"messages\",\"mobile_ads_stat_type\",\"mobile_ads_time_interval\",\"momentmaker.tos.accepted*\",\"muc\",\"night_mode\",\"request_method\",\"scroll0\",\"scroll1\",\"sessionid\",\"shopify_app_session\",\"shopify_app_session.sig\",\"signup_ui_metrics\",\"ssa-calendar-signup\",\"studio_account\",\"timezone\",\"tooltip\",\"tweetdeck_version\",\"twid\",\"ui_metrics\",\"user_id\",\"zipbox_auth_token\",\"zipbox_forms_auth_token\"]}}};window.__PREFETCH_DATA__={\"items\":[{\"key\":\"dataUsageSettings\",\"payload\":{\"dataSaverMode\":false}}],\"timestamp\":1665420363438};</script><script id=\"nonce-csp\" nonce=\"\"></script><script charset=\"utf-8\" nonce=\"\" type=\"text/javascript\">window.__SCRIPTS_LOADED__ = {};(()=>{\"use strict\";var e,d,n,a,o,r={},i={};function t(e){var d=i[e];if(void 0!==d)return d.exports;var n=i[e]={id:e,loaded:!1,exports:{}};return r[e].call(n.exports,n,n.exports,t),n.loaded=!0,n.exports}t.m=r,t.amdO={},e=[],t.O=(d,n,a,o)=>{if(!n){var r=1/0;for(b=0;b<e.length;b++){for(var[n,a,o]=e[b],i=!0,l=0;l<n.length;l++)(!1&o||r>=o)&&Object.keys(t.O).every((e=>t.O[e](n[l])))?n.splice(l--,1):(i=!1,o<r&&(r=o));if(i){e.splice(b--,1);var s=a();void 0!==s&&(d=s)}}return d}o=o||0;for(var b=e.length;b>0&&e[b-1][2]>o;b--)e[b]=e[b-1];e[b]=[n,a,o]},t.n=e=>{var d=e&&e.__esModule?()=>e.default:()=>e;return t.d(d,{a:d}),d},n=Object.getPrototypeOf?e=>Object.getPrototypeOf(e):e=>e.__proto__,t.t=function(e,a){if(1&a&&(e=this(e)),8&a)return e;if(\"object\"==typeof e&&e){if(4&a&&e.__esModule)return e;if(16&a&&\"function\"==typeof e.then)return e}var o=Object.create(null);t.r(o);var r={};d=d||[null,n({}),n([]),n(n)];for(var i=2&a&&e;\"object\"==typeof i&&!~d.indexOf(i);i=n(i))Object.getOwnPropertyNames(i).forEach((d=>r[d]=()=>e[d]));return r.default=()=>e,t.d(o,r),o},t.d=(e,d)=>{for(var n in d)t.o(d,n)&&!t.o(e,n)&&Object.defineProperty(e,n,{enumerable:!0,get:d[n]})},t.f={},t.e=e=>Promise.all(Object.keys(t.f).reduce(((d,n)=>(t.f[n](e,d),d)),[])),t.u=e=>e+\".\"+{\"bundle.NetworkInstrument\":\"82eb1bc\",\"loader.HoverCard\":\"7057124\",\"ondemand.Dropdown\":\"b3b0628\",\"ondemand.ModelViewer\":\"44e23f0\",\"loader.graphQLDarkReads\":\"11a5fbf\",\"shared~bundle.Conversation\":\"5963c00\",\"shared~loader.AudioDock~bundle.AudioSpacePeek~bundle.AudioSpaceAnalytics~bundle.AudioSpaceReport~bundle.Birdw\":\"d1423c9\",\"loader.AudioDock\":\"83ef42f\",\"loader.richScribeAction\":\"be9dfee\",\"shared~loader.DashMenu~bundle.Account\":\"6dce6fe\",\"loader.DashMenu\":\"4b40b31\",\"shared~bundle.Articles~bundle.AudioSpaceDetail~bundle.AudioSpaceDiscovery~bundle.Birdwatch~bundle.BookmarkFol\":\"ba88f17\",\"shared~bundle.AudioSpaceDetail~bundle.AudioSpaceDiscovery~bundle.Birdwatch~bundle.BookmarkFolders~bundle.Book\":\"ac9af63\",\"shared~bundle.Birdwatch~bundle.Compose~bundle.RichTextCompose~bundle.Settings~bundle.Display~bundle.Ocf~bundl\":\"a885d92\",\"shared~loader.DMDrawer~bundle.DirectMessages~bundle.Notifications\":\"d97f914\",\"bundle.Notifications\":\"e26431d\",\"loader.NewTweetsPill\":\"9070b98\",\"loader.SideNav\":\"948c23f\",\"shared~loader.Typeahead~loader.DMDrawer~bundle.AudioSpaceDiscovery~bundle.Communities~bundle.Compose~bundle.R\":\"94f4a88\",\"shared~loader.Typeahead~loader.DMDrawer~bundle.Communities~bundle.Compose~bundle.RichTextCompose~bundle.Deleg\":\"160d6eb\",\"shared~loader.Typeahead~loader.DMDrawer~bundle.Communities~bundle.Delegate~bundle.DirectMessages~bundle.DMRic\":\"d67a88b\",\"shared~loader.Typeahead~bundle.Communities~bundle.Delegate~bundle.Ocf~bundle.LoggedOutHome~bundle.Search~bund\":\"e1d55c2\",\"shared~loader.Typeahead~bundle.LoggedOutHome~bundle.Search\":\"2f8a719\",\"loader.Typeahead\":\"3767136\",\"loader.AppModules\":\"f162004\",\"ondemand.BranchSdk\":\"e9a9d4e\",\"shared~loader.DMDrawer~bundle.Compose~bundle.RichTextCompose~bundle.AccountVerification~bundle.SettingsProfil\":\"483dfe4\",\"shared~loader.DMDrawer~bundle.Compose~bundle.RichTextCompose~bundle.DirectMessages~bundle.DMRichTextCompose~b\":\"ecd1518\",\"shared~loader.DMDrawer~bundle.Compose~bundle.RichTextCompose~bundle.DMRichTextCompose~bundle.DirectMessages~b\":\"6e702b3\",\"shared~loader.DMDrawer~bundle.DMRichTextCompose~bundle.DirectMessages\":\"1b8a04c\",\"shared~loader.DMDrawer~bundle.DirectMessages~bundle.DMRichTextCompose\":\"6bb3136\",\"shared~loader.DMDrawer~bundle.DirectMessages\":\"bcd98df\",\"loader.DMDrawer\":\"08caecc\",\"bundle.AboutThisAd\":\"63c6e59\",\"bundle.NotMyAccount\":\"b6efb41\",\"bundle.Account\":\"e1bab1c\",\"shared~bundle.MultiAccount~bundle.Birdwatch~bundle.BookmarkFolders~bundle.Communities~ondemand.ComposeSchedul\":\"23de6ca\",\"bundle.MultiAccount\":\"35b4f70\",\"bundle.Articles\":\"9caced9\",\"bundle.AudioSpaceDetail\":\"d656c85\",\"shared~bundle.AudioSpacePeek~bundle.Communities~ondemand.CommunityHandler\":\"d084a40\",\"bundle.AudioSpacePeek\":\"0d65488\",\"bundle.AudioSpaceDiscovery\":\"184b1d8\",\"bundle.AudioSpaceAnalytics\":\"30be2e2\",\"bundle.AudioSpaceReport\":\"080ef90\",\"shared~bundle.Birdwatch~ondemand.inlineTombstoneHandler~ondemand.tweetHandler\":\"d852864\",\"shared~bundle.Birdwatch~bundle.Explore~bundle.Topics\":\"98b89c3\",\"bundle.Birdwatch\":\"3b86e1c\",\"bundle.BookmarkFolders\":\"3719d7f\",\"bundle.Bookmarks\":\"6cc0a81\",\"src_app_screens_BrandedLikesPreview_index_js-modules_horizon-web_src_exports_Reaction_tempAss-ae55df\":\"abc29e5\",\"bundle.LiveEvent\":\"e0f9975\",\"bundle.Collection\":\"fdac8ea\",\"shared~bundle.Communities~bundle.ComposeMedia~bundle.Compose~bundle.RichTextCompose~bundle.SettingsProfile~bu\":\"5c9b555\",\"shared~bundle.Communities~bundle.UserLists\":\"2304ec6\",\"bundle.Communities\":\"ee1f45d\",\"shared~bundle.ComposeMedia~bundle.Compose~bundle.RichTextCompose~bundle.TwitterArticles~bundle.PlainTextCompo\":\"c0a0f88\",\"shared~bundle.Compose~bundle.RichTextCompose~bundle.Ocf~bundle.PlainTextCompose\":\"2c8142c\",\"shared~bundle.Compose~bundle.RichTextCompose~bundle.PlainTextCompose\":\"75b3bce\",\"shared~bundle.Compose~bundle.RichTextCompose\":\"20f423b\",\"bundle.Compose\":\"9609916\",\"shared~bundle.ComposeMedia~bundle.TwitterArticles\":\"e9970ed\",\"bundle.ComposeMedia\":\"4dfb7a9\",\"shared~ondemand.ComposeScheduling~bundle.SettingsProfessionalProfileLocationSpotlight\":\"5e83113\",\"ondemand.ComposeScheduling\":\"3e11b5a\",\"shared~bundle.RichTextCompose~bundle.DMRichTextCompose~bundle.TwitterArticles~ondemand.RichText\":\"7c8fadf\",\"bundle.RichTextCompose\":\"a61f6ed\",\"bundle.ConnectTab\":\"db4d4ed\",src_app_screens_ConversationFollowNudge_index_js:\"b842614\",\"bundle.CustomTimelineTools\":\"c58f644\",\"shared~bundle.Delegate~ondemand.SettingsRevamp~ondemand.SettingsInternals~ondemand.SensitiveMediaSettings~bun\":\"afe4814\",\"shared~bundle.AccountVerification~bundle.BadgeViolationsNotification~bundle.SettingsRevamp\":\"d899356\",\"shared~bundle.AccountVerification~bundle.TwitterArticles\":\"18c3364\",\"bundle.AccountVerification\":\"29bd84c\",\"shared~ondemand.SettingsInternals~bundle.SettingsRevamp~bundle.SettingsTransparency\":\"f9e941f\",\"shared~ondemand.SettingsInternals~ondemand.SettingsRevamp\":\"fed7520\",\"ondemand.SettingsInternals\":\"03ad9dc\",\"shared~ondemand.SettingsRevamp~ondemand.SettingsMonetization\":\"e72b547\",\"ondemand.SettingsRevamp\":\"4aefcbb\",\"bundle.AccountAutomation\":\"713de14\",\"shared~bundle.Settings~bundle.Display\":\"875a008\",\"bundle.Settings\":\"1abefb6\",\"bundle.SettingsInternals\":\"0bc3497\",\"shared~bundle.SettingsProfile~bundle.Ocf\":\"8400485\",\"bundle.SettingsProfile\":\"2f4fce5\",\"ondemand.SensitiveMediaSettings\":\"0232930\",\"shared~ondemand.SettingsMonetization~ondemand.SettingsSuperFollows~bundle.SuperFollowsSubscribe\":\"107aca5\",\"shared~ondemand.SettingsMonetization~ondemand.SettingsSuperFollows\":\"a8aed42\",\"ondemand.SettingsMonetization\":\"4989b47\",\"ondemand.SettingsSuperFollows\":\"669809b\",\"shared~bundle.DirectMessages~bundle.TweetMediaDetail~bundle.UserAvatar~bundle.UserNft\":\"eb6af14\",\"shared~bundle.DMRichTextCompose~bundle.DirectMessages\":\"5648d76\",\"bundle.DirectMessages\":\"02529bb\",\"bundle.DMRichTextCompose\":\"0d154e2\",\"bundle.Display\":\"b2e2086\",\"bundle.Explore\":\"67c863c\",\"bundle.GenericTimeline\":\"9374f55\",\"shared~bundle.GifSearch~bundle.TwitterArticles\":\"8a93f11\",\"bundle.GifSearch\":\"765fd67\",\"bundle.KeyboardShortcuts\":\"4ed1ebd\",\"bundle.HomeTimeline\":\"9fe1f82\",\"bundle.Login\":\"7ec1e3a\",\"bundle.SmsLogin\":\"c62b272\",\"bundle.Logout\":\"01b874c\",\"bundle.MomentMaker\":\"2a723fc\",\"ondemand.ReactBeautifulDnd\":\"e951c2f\",\"bundle.NewsLanding\":\"b88c41a\",\"bundle.Newsletters\":\"8f73f32\",\"bundle.BadgeViolationsNotification\":\"15ad931\",\"bundle.Twitterversary\":\"2838420\",\"bundle.NotificationDetail\":\"57e7558\",\"bundle.OAuth\":\"60345cc\",\"bundle.Ocf\":\"78c6531\",\"bundle.Place\":\"8156afb\",\"bundle.SettingsProfessionalProfile\":\"2f4fa60\",\"shared~bundle.SettingsProfessionalProfileProfileSpotlight~bundle.SettingsProfessionalProfileLocationSpotlight\":\"329a306\",\"bundle.SettingsProfessionalProfileProfileSpotlight\":\"055692b\",\"bundle.SettingsProfessionalProfileLocationSpotlight\":\"5ac25a3\",\"bundle.SettingsProfessionalProfileMobileAppSpotlight\":\"e1172b6\",\"bundle.ProfessionalHome\":\"a3587c6\",\"shared~bundle.ReaderMode~bundle.TweetMediaDetail~bundle.ImmersiveMediaViewer\":\"ed1b832\",\"bundle.ReaderMode\":\"4825687\",\"bundle.Report\":\"7c47639\",\"shared~bundle.ReportCenter~bundle.SafetyCenter\":\"f2c25b0\",\"bundle.ReportCenter\":\"12fc69a\",\"bundle.SafetyCenter\":\"f572a25\",\"shared~bundle.LoggedOutHome~bundle.Search\":\"77276e5\",\"bundle.LoggedOutHome\":\"07b4030\",\"bundle.SafetyModeModal\":\"345dd9c\",\"bundle.Search\":\"488a44a\",\"bundle.AdvancedSearch\":\"324aa26\",\"bundle.SettingsRevamp\":\"69a9b0b\",\"bundle.SettingsTransparency\":\"6fe0387\",\"bundle.Download\":\"afd5ca9\",\"bundle.Topics\":\"08ba184\",\"bundle.ExploreTopics\":\"39b6386\",\"bundle.Trends\":\"965f9ae\",\"bundle.TrustedFriendsManagement\":\"c7e34b2\",\"bundle.TrustedFriendsRedirect\":\"0ebea01\",\"bundle.Conversation\":\"8faac6a\",\"bundle.ConversationWithRelay\":\"c9f03d4\",\"bundle.TweetMediaTags\":\"31b30f3\",\"bundle.ConversationParticipants\":\"f00fdec\",\"shared~bundle.TweetMediaDetail~bundle.ImmersiveMediaViewer\":\"e4a15b0\",\"bundle.TweetMediaDetail\":\"9d9d659\",\"bundle.ImmersiveMediaViewer\":\"942d588\",\"bundle.TweetEditHistory\":\"6597a72\",\"bundle.QuoteTweetActivity\":\"23531c6\",\"bundle.TweetActivity\":\"47e3893\",\"bundle.TweetActivityReactions\":\"95e394d\",\"bundle.TwitterArticles\":\"eb399b1\",\"bundle.TwitterBluePaymentFailureFix\":\"aa46ba5\",\"bundle.TwitterBlue\":\"acd1455\",\"bundle.Moment\":\"1da3ace\",\"shared~bundle.UserLists~ondemand.HoverCard\":\"87cf13f\",\"bundle.UserLists\":\"08e483e\",\"shared~ondemand.EditPinned~ondemand.EventSummaryHandler~ondemand.ListHandler\":\"c85516e\",\"shared~ondemand.EditPinned~ondemand.ListHandler\":\"4ae6199\",\"ondemand.EditPinned\":\"3601fe9\",\"bundle.UserMoments\":\"117c778\",\"bundle.UserAvatar\":\"4c2f5d3\",\"bundle.UserNft\":\"ef821bc\",\"bundle.UserRedirect\":\"5b8a6fb\",\"bundle.SuperFollowsManage\":\"3391ba7\",\"bundle.FollowerRequests\":\"f8334f4\",\"bundle.ProfileRedirect\":\"41b0860\",\"bundle.SuperFollowsSubscribe\":\"d71f548\",\"bundle.UserFollowLists\":\"a8e936d\",\"bundle.UserProfile\":\"58ec874\",\"ondemand.StaticAssets\":\"c7b0056\",\"loader.LoggedOutNotifications\":\"f0d51f4\",\"shared~ondemand.EmojiPickerData~ondemand.ParticipantReaction~ondemand.EmojiPicker\":\"a05a33c\",\"shared~loaders.video.VideoPlayerDefaultUI~loaders.video.VideoPlayerHashtagHighlightUI~loaders.video.VideoPlay\":\"fa9ff27\",\"shared~loaders.video.VideoPlayerDefaultUI~loaders.video.VideoPlayerEventsUI\":\"1c9a9d8\",\"loaders.video.VideoPlayerDefaultUI\":\"4ab4dff\",\"loaders.video.VideoPlayerHashtagHighlightUI\":\"f4126b3\",\"shared~ondemand.HoverCard~ondemand.topicLandingHeaderHandler\":\"30405ca\",\"ondemand.HoverCard\":\"9bb0dd1\",\"loader.AudioContextSpaceClip\":\"fa77584\",\"loader.AudioContextSpaceMedia\":\"f36ccbf\",\"loader.AudioContextVoiceMedia\":\"1181ea2\",\"shared~ondemand.InlinePlayer~loader.AudioOnlyVideoPlayer~ondemand.immersiveTweetHandler\":\"fba53cc\",\"ondemand.InlinePlayer\":\"ab12865\",\"ondemand.video.PlayerHls1\":\"ae9c160\",\"loaders.video.PlayerHls1.1\":\"d3acbf2\",\"ondemand.emoji.ar\":\"c4515ee\",\"ondemand.emoji.ar-x-fm\":\"79cb984\",\"ondemand.emoji.bg\":\"153cc24\",\"ondemand.emoji.bn\":\"3d5848e\",\"ondemand.emoji.ca\":\"433f96b\",\"ondemand.emoji.cs\":\"dfe42bc\",\"ondemand.emoji.da\":\"3f52eea\",\"ondemand.emoji.de\":\"db210be\",\"ondemand.emoji.el\":\"4b51519\",\"ondemand.emoji.en\":\"e28c053\",\"ondemand.emoji.en-GB\":\"82e7756\",\"ondemand.emoji.en-ss\":\"0b47096\",\"ondemand.emoji.en-xx\":\"1813930\",\"ondemand.emoji.es\":\"45ddee6\",\"ondemand.emoji.eu\":\"a60c54c\",\"ondemand.emoji.fa\":\"e8247cc\",\"ondemand.emoji.fi\":\"1daecd9\",\"ondemand.emoji.fil\":\"5060f69\",\"ondemand.emoji.fr\":\"a7c4e3a\",\"ondemand.emoji.ga\":\"a22b03f\",\"ondemand.emoji.gl\":\"d2ac12c\",\"ondemand.emoji.gu\":\"b758226\",\"ondemand.emoji.ha\":\"de019b8\",\"ondemand.emoji.he\":\"23b2430\",\"ondemand.emoji.hi\":\"6085132\",\"ondemand.emoji.hr\":\"a3c8ca8\",\"ondemand.emoji.hu\":\"ecd33b8\",\"ondemand.emoji.id\":\"e8df797\",\"ondemand.emoji.ig\":\"5848835\",\"ondemand.emoji.it\":\"f39638e\",\"ondemand.emoji.ja\":\"504be20\",\"ondemand.emoji.kn\":\"648b339\",\"ondemand.emoji.ko\":\"e70fb0f\",\"ondemand.emoji.mr\":\"4a7690e\",\"ondemand.emoji.ms\":\"9300da7\",\"ondemand.emoji.nb\":\"16989fd\",\"ondemand.emoji.nl\":\"577c681\",\"ondemand.emoji.pl\":\"64bdd48\",\"ondemand.emoji.pt\":\"74f7678\",\"ondemand.emoji.ro\":\"9394714\",\"ondemand.emoji.ru\":\"3fafb41\",\"ondemand.emoji.sk\":\"6678b28\",\"ondemand.emoji.sr\":\"2486369\",\"ondemand.emoji.sv\":\"9ae8739\",\"ondemand.emoji.ta\":\"1f1d891\",\"ondemand.emoji.th\":\"8d331d9\",\"ondemand.emoji.tr\":\"7f81f1c\",\"ondemand.emoji.uk\":\"640da18\",\"ondemand.emoji.ur\":\"a24c935\",\"ondemand.emoji.vi\":\"2042935\",\"ondemand.emoji.yo\":\"80b576e\",\"ondemand.emoji.zh\":\"e196306\",\"ondemand.emoji.zh-Hant\":\"8002ed1\",\"ondemand.ParticipantReaction\":\"e519e03\",\"loader.AudioOnlyVideoPlayer\":\"50b5b36\",\"loader.WideLayout\":\"f45b689\",\"loader.AbsolutePower\":\"64ed833\",\"ondemand.LottieWeb\":\"2a17e33\",\"loader.TimelineRenderer\":\"d1508cc\",\"ondemand.DividerHandler\":\"619fe40\",\"ondemand.TombstonedEntryHandler\":\"2623c30\",\"ondemand.ArticleHandler\":\"6bcc548\",\"ondemand.collectionHeaderHandler\":\"fd2ade8\",\"ondemand.CommunityHandler\":\"1ed8359\",\"ondemand.EventSummaryHandler\":\"2711142\",\"ondemand.InlinePromptHandler\":\"300788c\",\"ondemand.TransparentLabelHandler\":\"5b5340a\",\"ondemand.LabelHandler\":\"ece14bf\",\"ondemand.MomentAnnotationHandler\":\"0db1046\",\"ondemand.MomentSummaryHandler\":\"6833af7\",\"ondemand.newsArticleHandler\":\"69ec5fb\",\"ondemand.newsPreviewHandler\":\"1c5bad7\",\"ondemand.NotificationHandler\":\"5ae96e7\",\"ondemand.ScoreEventSummaryHandler\":\"c30ce02\",\"ondemand.TimelineCardHandler\":\"5a511a4\",\"ondemand.topicHandler\":\"b9064b1\",\"ondemand.TopicFollowPromptHandler\":\"d4b10bb\",\"ondemand.topicLandingHeaderHandler\":\"477931b\",\"ondemand.TrendHandler\":\"8529e75\",\"ondemand.VerticalGridItemHandler\":\"0bc64db\",\"ondemand.MessageHandler\":\"a933a31\",\"ondemand.PagedCarouselItemHandler\":\"67a9ebd\",\"ondemand.RelatedSearchHandler\":\"7b162fb\",\"ondemand.selfThreadTweetComposerHandler\":\"01e9699\",\"ondemand.spellingHandler\":\"07802c9\",\"ondemand.ThreadHeaderHandler\":\"d3ae36e\",\"ondemand.TileHandler\":\"ab274e3\",\"ondemand.GapHandler\":\"7e08a0f\",\"ondemand.IconLabelHandler\":\"be5d1a4\",\"ondemand.ListHandler\":\"c4c397a\",\"ondemand.newsEntriesGapHandler\":\"f024332\",\"ondemand.promptHandler\":\"c6b463e\",\"ondemand.CarouselTimelineHandler\":\"49b0ff4\",\"ondemand.ConversationGapHandler\":\"acc6999\",\"ondemand.FooterLoader\":\"ffca5bc\",\"ondemand.ModuleHeader\":\"5fa6c91\",\"ondemand.ImpressionPlaceholderHandler\":\"cd28b46\",\"ondemand.ShowMoreHandler\":\"925740e\",\"ondemand.VerticalGridListHandler\":\"e190507\",\"ondemand.VerticalGridRowHandler\":\"33fe149\",\"shared~ondemand.inlineTombstoneHandler~ondemand.tweetHandler\":\"3c51a71\",\"ondemand.inlineTombstoneHandler\":\"e85dc78\",\"ondemand.tweetUnavailableTombstoneHandler\":\"2ffd58a\",\"ondemand.disconnectedRepliesTombstoneHandler\":\"1232fd1\",\"ondemand.tweetHandler\":\"91637b0\",\"ondemand.unsupportedHandler\":\"884930a\",\"ondemand.UserHandler\":\"2dec280\",\"loader.ExploreSidebar\":\"1b2ed2c\",\"loader.SignupModule\":\"10a581f\",\"loader.FeedbackSheet\":\"2acf6e6\",\"ondemand.RichText\":\"b89c253\",\"loader.PushNotificationsPrompt\":\"c163874\",\"ondemand.EmojiPicker\":\"c35240a\",\"loader.MediaPreviewVideoPlayer\":\"2a9ce57\",\"ondemand.inertPolyfill\":\"2df6945\",\"loader.PreviewActions\":\"acec8e0\",\"ondemand.IntentPrompt\":\"8748493\",\"loader.TweetCurationActionMenu\":\"7393463\",\"ondemand.PivotLabelHandler\":\"aa13213\",\"loaders.video.VideoPlayerEventsUI\":\"01ad998\",\"loader.MediaPickerWithPreview\":\"b7c734e\",\"ondemand.countries-ar\":\"6e283ff\",\"ondemand.countries-bg\":\"206e67c\",\"ondemand.countries-bn\":\"ada13be\",\"ondemand.countries-ca\":\"e604986\",\"ondemand.countries-cs\":\"62a617d\",\"ondemand.countries-da\":\"47fef47\",\"ondemand.countries-de\":\"c87885b\",\"ondemand.countries-el\":\"743a450\",\"ondemand.countries-en-GB\":\"e489124\",\"ondemand.countries-en\":\"b85f503\",\"ondemand.countries-es\":\"9f0424c\",\"ondemand.countries-eu\":\"4be663b\",\"ondemand.countries-fa\":\"2039b08\",\"ondemand.countries-fi\":\"9e8f5b2\",\"ondemand.countries-fil\":\"cc13c01\",\"ondemand.countries-fr\":\"86f67b2\",\"ondemand.countries-ga\":\"cc0b5bc\",\"ondemand.countries-gl\":\"37727cf\",\"ondemand.countries-gu\":\"66ce688\",\"ondemand.countries-he\":\"7932e03\",\"ondemand.countries-hi\":\"37bb496\",\"ondemand.countries-hr\":\"eaa486e\",\"ondemand.countries-hu\":\"9708b88\",\"ondemand.countries-id\":\"8cdcb1b\",\"ondemand.countries-ig\":\"8e78c6c\",\"ondemand.countries-it\":\"92d1618\",\"ondemand.countries-ja\":\"ac1fb55\",\"ondemand.countries-kn\":\"0eb939a\",\"ondemand.countries-ko\":\"3fdfa56\",\"ondemand.countries-mr\":\"3c855dc\",\"ondemand.countries-ms\":\"ac88b1c\",\"ondemand.countries-nb\":\"c797cb9\",\"ondemand.countries-nl\":\"d058e2c\",\"ondemand.countries-pl\":\"c7e5be1\",\"ondemand.countries-pt\":\"ad59220\",\"ondemand.countries-ro\":\"6618031\",\"ondemand.countries-ru\":\"d9bb8d1\",\"ondemand.countries-sk\":\"442e484\",\"ondemand.countries-sr\":\"ddc59d5\",\"ondemand.countries-sv\":\"5b1fa8a\",\"ondemand.countries-ta\":\"4cbd0da\",\"ondemand.countries-th\":\"13fabf4\",\"ondemand.countries-tr\":\"0f542be\",\"ondemand.countries-uk\":\"e174270\",\"ondemand.countries-ur\":\"6eb865b\",\"ondemand.countries-yo\":\"914c44a\",\"ondemand.countries-zh-Hant\":\"2c03aa8\",\"ondemand.countries-zh\":\"c1bd765\",\"ondemand.EditBirthdate\":\"f2962ae\",\"loader.AudioSpacebar\":\"d290b6d\",\"ondemand.framerateTracking\":\"0e976ba\",\"ondemand.qrcode\":\"c20b720\",\"bundle.TimezoneSelector.timezones\":\"e30ca37\",\"ondemand.immersiveTweetHandler\":\"f4994fe\",\"loader.ProfileClusterFollow\":\"3600b71\",\"ondemand.Balloons\":\"b96ebd7\",\"ondemand.ProfileSidebar\":\"fca5f97\",\"loaders.video.VideoPlayerPrerollUI\":\"36598cc\",\"ondemand.CarouselScroller\":\"82df1d3\",\"bundle.PlainTextCompose\":\"1fb7e78\",\"ondemand.DownvoteEducation\":\"987862e\",\"ondemand.LeaveThisConversation\":\"bf89129\",\"ondemand.CommunityTweetPinning\":\"1c6c817\",\"ondemand.AudioSpacebar.Mocks\":\"643fe11\"}[e]+\"9.js\",t.g=function(){if(\"object\"==typeof globalThis)return globalThis;try{return this||new Function(\"return this\")()}catch(e){if(\"object\"==typeof window)return window}}(),t.hmd=e=>((e=Object.create(e)).children||(e.children=[]),Object.defineProperty(e,\"exports\",{enumerable:!0,set:()=>{throw new Error(\"ES Modules may not assign module.exports or exports.*, Use ESM export syntax, instead: \"+e.id)}}),e),t.o=(e,d)=>Object.prototype.hasOwnProperty.call(e,d),a={},o=\"@twitter/responsive-web:\",t.l=(e,d,n,r)=>{if(a[e])a[e].push(d);else{var i,l;if(void 0!==n)for(var s=document.getElementsByTagName(\"script\"),b=0;b<s.length;b++){var c=s[b];if(c.getAttribute(\"src\")==e||c.getAttribute(\"data-webpack\")==o+n){i=c;break}}i||(l=!0,(i=document.createElement(\"script\")).charset=\"utf-8\",i.timeout=120,t.nc&&i.setAttribute(\"nonce\",t.nc),i.setAttribute(\"data-webpack\",o+n),i.src=e),a[e]=[d];var u=(d,n)=>{i.onerror=i.onload=null,clearTimeout(m);var o=a[e];if(delete a[e],i.parentNode&&i.parentNode.removeChild(i),o&&o.forEach((e=>e(n))),d)return d(n)},m=setTimeout(u.bind(null,void 0,{type:\"timeout\",target:i}),12e4);i.onerror=u.bind(null,i.onerror),i.onload=u.bind(null,i.onload),l&&document.head.appendChild(i)}},t.r=e=>{\"undefined\"!=typeof Symbol&&Symbol.toStringTag&&Object.defineProperty(e,Symbol.toStringTag,{value:\"Module\"}),Object.defineProperty(e,\"__esModule\",{value:!0})},t.nmd=e=>(e.paths=[],e.children||(e.children=[]),e),t.p=\"https://abs.twimg.com/responsive-web/client-web/\",(()=>{var e={runtime:0};t.f.j=(d,n)=>{var a=t.o(e,d)?e[d]:void 0;if(0!==a)if(a)n.push(a[2]);else if(\"runtime\"!=d){var o=new Promise(((n,o)=>a=e[d]=[n,o]));n.push(a[2]=o);var r=t.p+t.u(d),i=new Error;t.l(r,(n=>{if(t.o(e,d)&&(0!==(a=e[d])&&(e[d]=void 0),a)){var o=n&&(\"load\"===n.type?\"missing\":n.type),r=n&&n.target&&n.target.src;i.message=\"Loading chunk \"+d+\" failed.\\n(\"+o+\": \"+r+\")\",i.name=\"ChunkLoadError\",i.type=o,i.request=r,a[1](i)}}),\"chunk-\"+d,d)}else e[d]=0},t.O.j=d=>0===e[d];var d=(d,n)=>{var a,o,[r,i,l]=n,s=0;if(r.some((d=>0!==e[d]))){for(a in i)t.o(i,a)&&(t.m[a]=i[a]);if(l)var b=l(t)}for(d&&d(n);s<r.length;s++)o=r[s],t.o(e,o)&&e[o]&&e[o][0](),e[o]=0;return t.O(b)},n=self.webpackChunk_twitter_responsive_web=self.webpackChunk_twitter_responsive_web||[];n.forEach(d.bind(null,0)),n.push=d.bind(null,n.push.bind(n))})()})(),window.__SCRIPTS_LOADED__.runtime=!0;\n",
       "</script><script charset=\"utf-8\" nonce=\"\" type=\"text/javascript\">performance && performance.mark && performance.mark('scripts-blocking-start')</script><script charset=\"utf-8\" crossorigin=\"anonymous\" nonce=\"\" src=\"https://abs.twimg.com/responsive-web/client-web/vendor.77b95e49.js\" type=\"text/javascript\"></script><script charset=\"utf-8\" crossorigin=\"anonymous\" nonce=\"\" src=\"https://abs.twimg.com/responsive-web/client-web/i18n/en.55305ad9.js\" type=\"text/javascript\"></script><script charset=\"utf-8\" crossorigin=\"anonymous\" nonce=\"\" src=\"https://abs.twimg.com/responsive-web/client-web/main.c2f63e89.js\" type=\"text/javascript\"></script><script charset=\"utf-8\" nonce=\"\" type=\"text/javascript\">performance && performance.measure && performance.measure('scripts-blocking', 'scripts-blocking-start')</script><script nonce=\"\">(function () {\n",
       "  if (!window.__SCRIPTS_LOADED__['main']) {\n",
       "    document.getElementById('ScriptLoadFailure').style.display = 'block';\n",
       "    var criticalScripts = [\"vendor\",\"i18n\",\"main\"];\n",
       "    for (var i = 0; i < criticalScripts.length; i++) {\n",
       "      var criticalScript = criticalScripts[i];\n",
       "      if (!window.__SCRIPTS_LOADED__[criticalScript]) {\n",
       "        document.getElementsByName('failedScript')[0].value = criticalScript;\n",
       "        break;\n",
       "      }\n",
       "    }\n",
       "  }\n",
       "})();</script><div style=\"width: 0px; height: 0px;\"></div></body></html>"
      ]
     },
     "execution_count": 57,
     "metadata": {},
     "output_type": "execute_result"
    }
   ],
   "source": [
    "soup"
   ]
  },
  {
   "cell_type": "markdown",
   "id": "d4e29472",
   "metadata": {},
   "source": [
    "# Rough Work"
   ]
  },
  {
   "cell_type": "code",
   "execution_count": 69,
   "id": "4c32004c",
   "metadata": {},
   "outputs": [],
   "source": [
    "username = \"nuvoforex\""
   ]
  },
  {
   "cell_type": "code",
   "execution_count": 70,
   "id": "438c8065",
   "metadata": {},
   "outputs": [],
   "source": [
    "driver.get(f\"https://twitter.com/{username}\")\n",
    "WebDriverWait(driver, 20).until(EC.element_to_be_clickable((By.XPATH, \"(//span[text()='Follow']/ancestor::div[@role='button'])[1]\")))\n",
    "html_source = driver.page_source\n",
    "sourcedata = html_source.encode('utf-8')\n",
    "soup = BeautifulSoup( sourcedata , 'html.parser')"
   ]
  },
  {
   "cell_type": "code",
   "execution_count": 71,
   "id": "bd231b20",
   "metadata": {
    "scrolled": false
   },
   "outputs": [
    {
     "data": {
      "text/plain": [
       "'Edge Forex'"
      ]
     },
     "execution_count": 71,
     "metadata": {},
     "output_type": "execute_result"
    }
   ],
   "source": [
    "name = soup.find_all('div',{\"class\":\"css-901oao r-1awozwy r-1nao33i r-6koalj r-37j5jr r-adyw6z r-1vr29t4 r-135wba7 r-bcqeeo r-1udh08x r-qvutc0\"})\n",
    "for i in name:\n",
    "    name = i.find('span',{\"class\":\"css-901oao css-16my406 r-poiln3 r-bcqeeo r-qvutc0\"}).text\n",
    "name"
   ]
  },
  {
   "cell_type": "code",
   "execution_count": 72,
   "id": "ce5ca784",
   "metadata": {},
   "outputs": [
    {
     "data": {
      "text/plain": [
       "'@nuvoforex'"
      ]
     },
     "execution_count": 72,
     "metadata": {},
     "output_type": "execute_result"
    }
   ],
   "source": [
    "screenname = soup.find_all('div',{\"class\":\"css-901oao css-1hf3ou5 r-1bwzh9t r-18u37iz r-37j5jr r-a023e6 r-16dba41 r-rjixqe r-bcqeeo r-qvutc0\"})\n",
    "screenname = screenname[0].find('span',{\"class\":\"css-901oao css-16my406 r-poiln3 r-bcqeeo r-qvutc0\"}).text\n",
    "screenname"
   ]
  },
  {
   "cell_type": "code",
   "execution_count": 73,
   "id": "5f7772ca",
   "metadata": {},
   "outputs": [
    {
     "data": {
      "text/plain": [
       "'1533791006021279745'"
      ]
     },
     "execution_count": 73,
     "metadata": {},
     "output_type": "execute_result"
    }
   ],
   "source": [
    "user_id = soup.find(\"img\",{\"alt\":'Opens profile photo'})[\"src\"][37:-21]\n",
    "user_id"
   ]
  },
  {
   "cell_type": "code",
   "execution_count": 74,
   "id": "09796ff3",
   "metadata": {},
   "outputs": [
    {
     "name": "stdout",
     "output_type": "stream",
     "text": [
      "1,224 4,952\n"
     ]
    }
   ],
   "source": [
    "fo_fol = soup.find_all('span',{\"class\":\"css-901oao css-16my406 r-1nao33i r-poiln3 r-1b43r93 r-b88u0q r-1cwl3u0 r-bcqeeo r-qvutc0\"})\n",
    "\n",
    "following_count = fo_fol[0].find(\"span\",{'class':\"css-901oao css-16my406 r-poiln3 r-bcqeeo r-qvutc0\"}).text\n",
    "followers_count = fo_fol[1].find(\"span\",{'class':\"css-901oao css-16my406 r-poiln3 r-bcqeeo r-qvutc0\"}).text\n",
    "\n",
    "print(followers_count,following_count)"
   ]
  },
  {
   "cell_type": "code",
   "execution_count": 75,
   "id": "40971d89",
   "metadata": {},
   "outputs": [
    {
     "data": {
      "text/plain": [
       "False"
      ]
     },
     "execution_count": 75,
     "metadata": {},
     "output_type": "execute_result"
    }
   ],
   "source": [
    "is_private = False\n",
    "if soup.find(\"div\",{\"class\":\"css-901oao r-1nao33i r-37j5jr r-1yjpyg1 r-1vr29t4 r-ueyrd6 r-5oul0u r-bcqeeo r-fdjqy7 r-qvutc0\"}):\n",
    "    is_private = True\n",
    "is_private"
   ]
  },
  {
   "cell_type": "code",
   "execution_count": 76,
   "id": "d3cb2b71",
   "metadata": {},
   "outputs": [
    {
     "data": {
      "text/plain": [
       "False"
      ]
     },
     "execution_count": 76,
     "metadata": {},
     "output_type": "execute_result"
    }
   ],
   "source": [
    "is_verified = False\n",
    "if soup.find(\"svg\",{\"aria-label\":\"Verified account\"}):\n",
    "    is_verified = True\n",
    "is_verified"
   ]
  },
  {
   "cell_type": "code",
   "execution_count": 77,
   "id": "ff6610c1",
   "metadata": {},
   "outputs": [
    {
     "data": {
      "text/plain": [
       "'3,946'"
      ]
     },
     "execution_count": 77,
     "metadata": {},
     "output_type": "execute_result"
    }
   ],
   "source": [
    "tweet_count = soup.find('div',{\"class\":\"css-901oao css-1hf3ou5 r-1bwzh9t r-37j5jr r-n6v787 r-16dba41 r-1cwl3u0 r-bcqeeo r-qvutc0\"}).text.replace(\"Tweets\",\"\").strip()\n",
    "tweet_count"
   ]
  },
  {
   "cell_type": "code",
   "execution_count": 78,
   "id": "305113e1",
   "metadata": {},
   "outputs": [
    {
     "name": "stdout",
     "output_type": "stream",
     "text": [
      "True Financial Tech Company\n"
     ]
    }
   ],
   "source": [
    "is_bussiness_acc = False ; bussiness_sector = \"NULL\"\n",
    "if soup.find(\"span\",{\"data-testid\":\"UserProfessionalCategory\"}):\n",
    "    __ = soup.find(\"span\",{\"data-testid\":\"UserProfessionalCategory\"})\n",
    "    bussiness_sector = __.find(\"span\",{'class':'css-901oao css-16my406 r-poiln3 r-bcqeeo r-qvutc0'}).text\n",
    "    is_bussiness_acc = True\n",
    "\n",
    "print(is_bussiness_acc,bussiness_sector)"
   ]
  },
  {
   "cell_type": "code",
   "execution_count": 79,
   "id": "4f610b26",
   "metadata": {},
   "outputs": [
    {
     "data": {
      "text/plain": [
       "'Toronto, Canada'"
      ]
     },
     "execution_count": 79,
     "metadata": {},
     "output_type": "execute_result"
    }
   ],
   "source": [
    "location = \"NULL\"\n",
    "if soup.find(\"span\",{\"data-testid\":\"UserLocation\"}):\n",
    "    __ = soup.find(\"span\",{\"data-testid\":\"UserLocation\"})\n",
    "    location = __.find(\"span\",{'class':'css-901oao css-16my406 r-poiln3 r-bcqeeo r-qvutc0'}).text\n",
    "location"
   ]
  },
  {
   "cell_type": "code",
   "execution_count": 80,
   "id": "eb9e8b29",
   "metadata": {},
   "outputs": [
    {
     "data": {
      "text/plain": [
       "'https://t.co/0GR1LP0SCS'"
      ]
     },
     "execution_count": 80,
     "metadata": {},
     "output_type": "execute_result"
    }
   ],
   "source": [
    "bio_link = \"NULL\"\n",
    "if soup.find(\"a\",{\"data-testid\":\"UserUrl\"}):\n",
    "    bio_link = soup.find(\"a\",{\"data-testid\":\"UserUrl\"})['href']\n",
    "bio_link"
   ]
  },
  {
   "cell_type": "code",
   "execution_count": 81,
   "id": "cdc3acb5",
   "metadata": {},
   "outputs": [
    {
     "data": {
      "text/plain": [
       "'Joined September 2014'"
      ]
     },
     "execution_count": 81,
     "metadata": {},
     "output_type": "execute_result"
    }
   ],
   "source": [
    "date_joined = \"NULL\"\n",
    "if soup.find(\"span\",{\"data-testid\":\"UserJoinDate\"}):\n",
    "    __ = soup.find(\"span\",{\"data-testid\":\"UserJoinDate\"})\n",
    "    date_joined = __.find(\"span\",{\"class\":\"css-901oao css-16my406 r-poiln3 r-bcqeeo r-qvutc0\"}).text\n",
    "date_joined"
   ]
  },
  {
   "cell_type": "code",
   "execution_count": 82,
   "id": "d303c5d9",
   "metadata": {},
   "outputs": [
    {
     "data": {
      "text/plain": [
       "\"We are FOREX signal service provider,who will work hard to get you the best results,so you don't have to.\""
      ]
     },
     "execution_count": 82,
     "metadata": {},
     "output_type": "execute_result"
    }
   ],
   "source": [
    "user_bio = \"NULL\"\n",
    "if soup.find(\"div\",{\"data-testid\":\"UserDescription\"}):\n",
    "    user_bio = \"\"\n",
    "    __ = soup.find_all(\"div\",{\"data-testid\":\"UserDescription\"})\n",
    "    user_bio = [user_bio+i.text for i in __][0]\n",
    "user_bio"
   ]
  },
  {
   "cell_type": "code",
   "execution_count": 83,
   "id": "1073c323",
   "metadata": {},
   "outputs": [],
   "source": [
    "data = {\n",
    "\n",
    "                \"user id\" : user_id,\n",
    "                \"screen name\" : screenname,\n",
    "                \"name\" : name,\n",
    "                \"followers\" : followers_count,\n",
    "                \"following\" : following_count,\n",
    "                \"bio\" : user_bio,\n",
    "                \"bio link\" : bio_link,\n",
    "                \"date joined\" : date_joined,\n",
    "                \"location\" : location,\n",
    "                \"is private\" : is_private,\n",
    "                \"is verified\" : is_verified,\n",
    "                \"is bussiness account\" : is_bussiness_acc,\n",
    "                \"bussiness sector\" : bussiness_sector,\n",
    "\n",
    "            }"
   ]
  },
  {
   "cell_type": "code",
   "execution_count": 84,
   "id": "0418c003",
   "metadata": {},
   "outputs": [
    {
     "name": "stdout",
     "output_type": "stream",
     "text": [
      "{\n",
      "    \"user id\": \"1533791006021279745\",\n",
      "    \"screen name\": \"@nuvoforex\",\n",
      "    \"name\": \"Edge Forex\",\n",
      "    \"followers\": \"1,224\",\n",
      "    \"following\": \"4,952\",\n",
      "    \"bio\": \"We are FOREX signal service provider,who will work hard to get you the best results,so you don't have to.\",\n",
      "    \"bio link\": \"https://t.co/0GR1LP0SCS\",\n",
      "    \"date joined\": \"Joined September 2014\",\n",
      "    \"location\": \"Toronto, Canada\",\n",
      "    \"is private\": false,\n",
      "    \"is verified\": false,\n",
      "    \"is bussiness account\": true,\n",
      "    \"bussiness sector\": \"Financial Tech Company\"\n",
      "}\n"
     ]
    }
   ],
   "source": [
    "import json \n",
    "\n"
   ]
  },
  {
   "cell_type": "code",
   "execution_count": 92,
   "id": "a02480d9",
   "metadata": {},
   "outputs": [],
   "source": [
    "js = soup.find(\"script\",{\"data-testid\":\"UserProfileSchema-test\"}).text\n",
    "js = js.replace(\"\\n\",\"\")\n",
    "res = json.loads(js)"
   ]
  },
  {
   "cell_type": "code",
   "execution_count": 100,
   "id": "e8782af9",
   "metadata": {},
   "outputs": [
    {
     "data": {
      "text/plain": [
       "{'@context': 'http://schema.org',\n",
       " '@type': 'ProfilePage',\n",
       " 'dateCreated': '2014-09-28T11:32:37.000Z',\n",
       " 'author': {'@type': 'Person',\n",
       "  'additionalName': 'nuvoforex',\n",
       "  'description': \"We are FOREX signal service provider,who will work hard to get you the best results,so you don't have to.\",\n",
       "  'givenName': 'Edge Forex',\n",
       "  'homeLocation': {'@type': 'Place', 'name': 'Toronto, Canada'},\n",
       "  'identifier': '2788849409',\n",
       "  'image': {'@type': 'ImageObject',\n",
       "   'contentUrl': 'https://pbs.twimg.com/profile_images/1533791006021279745/5Qke2kf6_400x400.jpg',\n",
       "   'thumbnailUrl': 'https://pbs.twimg.com/profile_images/1533791006021279745/5Qke2kf6_normal.jpg'},\n",
       "  'interactionStatistic': [{'@type': 'InteractionCounter',\n",
       "    'interactionType': 'https://schema.org/FollowAction',\n",
       "    'name': 'Follows',\n",
       "    'userInteractionCount': 1224},\n",
       "   {'@type': 'InteractionCounter',\n",
       "    'interactionType': 'https://schema.org/SubscribeAction',\n",
       "    'name': 'Friends',\n",
       "    'userInteractionCount': 4952},\n",
       "   {'@type': 'InteractionCounter',\n",
       "    'interactionType': 'https://schema.org/WriteAction',\n",
       "    'name': 'Tweets',\n",
       "    'userInteractionCount': 3946}],\n",
       "  'url': 'https://twitter.com/nuvoforex'},\n",
       " 'contentRating': '',\n",
       " 'relatedLink': ['https://t.co/0GR1LP0SCS',\n",
       "  'https://telegram.me/+hTMSInfl-Tw2NzU0']}"
      ]
     },
     "execution_count": 100,
     "metadata": {},
     "output_type": "execute_result"
    }
   ],
   "source": [
    "res"
   ]
  },
  {
   "cell_type": "code",
   "execution_count": 112,
   "id": "79de6ac1",
   "metadata": {},
   "outputs": [],
   "source": [
    "user_id = res['author']['identifier']\n",
    "screenname = res['author']['additionalName']\n",
    "try:\n",
    "    name = res['author']['givenName']\n",
    "except:\n",
    "    name = \"NULL\"\n",
    "followers_count = res['author']['interactionStatistic'][0]['userInteractionCount']\n",
    "following_count = res['author']['interactionStatistic'][1]['userInteractionCount']\n",
    "tweet_count = res['author']['interactionStatistic'][2]['userInteractionCount']\n",
    "try:\n",
    "    user_bio = res['author']['description']\n",
    "except:\n",
    "    user_bio = \"NULL\"\n",
    "try:\n",
    "    bio_link = res['relatedLink'][1]\n",
    "except:\n",
    "    bio_link = \"NULL\"\n",
    "date_joined = res['dateCreated']\n",
    "try:\n",
    "    location = res['author']['homeLocation']['name']\n",
    "except:\n",
    "    location = \"NULL\""
   ]
  },
  {
   "cell_type": "code",
   "execution_count": 113,
   "id": "38f05e32",
   "metadata": {},
   "outputs": [],
   "source": [
    "data = {\n",
    "        \"user id\" : user_id,\n",
    "        \"screen name\" : screenname,\n",
    "        \"name\" : name,\n",
    "        \"followers\" : followers_count,\n",
    "        \"following\" : following_count,\n",
    "        \"bio\" : user_bio,\n",
    "        \"bio link\" : bio_link,\n",
    "        \"date joined\" : date_joined,\n",
    "        \"location\" : location,\n",
    "        \"is private\" : is_private,\n",
    "        \"is verified\" : is_verified,\n",
    "        \"is bussiness account\" : is_bussiness_acc,\n",
    "        \"bussiness sector\" : bussiness_sector,\n",
    "}"
   ]
  },
  {
   "cell_type": "code",
   "execution_count": 114,
   "id": "2c161857",
   "metadata": {},
   "outputs": [
    {
     "name": "stdout",
     "output_type": "stream",
     "text": [
      "{\n",
      "    \"user id\": \"2788849409\",\n",
      "    \"screen name\": \"nuvoforex\",\n",
      "    \"name\": \"Edge Forex\",\n",
      "    \"followers\": 1224,\n",
      "    \"following\": 4952,\n",
      "    \"bio\": \"We are FOREX signal service provider,who will work hard to get you the best results,so you don't have to.\",\n",
      "    \"bio link\": \"https://telegram.me/+hTMSInfl-Tw2NzU0\",\n",
      "    \"date joined\": \"2014-09-28T11:32:37.000Z\",\n",
      "    \"location\": \"Toronto, Canada\",\n",
      "    \"is private\": false,\n",
      "    \"is verified\": false,\n",
      "    \"is bussiness account\": true,\n",
      "    \"bussiness sector\": \"Financial Tech Company\"\n",
      "}\n"
     ]
    }
   ],
   "source": [
    "json_object = json.dumps(data, indent = 4) \n",
    "print(json_object)"
   ]
  },
  {
   "cell_type": "code",
   "execution_count": null,
   "id": "4224e72a",
   "metadata": {},
   "outputs": [],
   "source": [
    "def scrape_twitter(driver,accs):\n",
    "    global master_dict\n",
    "    master_dict = dict()\n",
    "    iter_counter = 0\n",
    "    \n",
    "    for username in tqdm(accs):\n",
    "        if iter_counter>50:\n",
    "            iter_counter = 0 \n",
    "            time.sleep(2)\n",
    "        iter_counter+=1\n",
    "        \n",
    "        try:\n",
    "            \n",
    "            driver.get(f\"https://twitter.com/{username}\")\n",
    "            \n",
    "            try:\n",
    "                WebDriverWait(driver, 20).until(EC.element_to_be_clickable((By.XPATH, \"(//span[text()='Follow']/ancestor::div[@role='button'])[1]\")))\n",
    "            except:\n",
    "                WebDriverWait(driver, 20).until(EC.element_to_be_clickable((By.XPATH, \"(//span[text()='Following']/ancestor::div[@role='button'])[1]\")))\n",
    "                \n",
    "            html_source = driver.page_source\n",
    "            sourcedata = html_source.encode('utf-8')\n",
    "            soup = BeautifulSoup( sourcedata , 'html.parser')\n",
    "            \n",
    "            user_id = res['author']['identifier']\n",
    "            screenname = res['author']['additionalName']\n",
    "            try:\n",
    "                name = res['author']['givenName']\n",
    "            except:\n",
    "                name = \"NULL\"\n",
    "            followers_count = res['author']['interactionStatistic'][0]['userInteractionCount']\n",
    "            following_count = res['author']['interactionStatistic'][1]['userInteractionCount']\n",
    "            tweet_count = res['author']['interactionStatistic'][2]['userInteractionCount']\n",
    "            try:\n",
    "                user_bio = res['author']['description']\n",
    "            except:\n",
    "                user_bio = \"NULL\"\n",
    "            try:\n",
    "                bio_link = res['relatedLink'][1]\n",
    "            except:\n",
    "                bio_link = \"NULL\"\n",
    "            date_joined = res['dateCreated']\n",
    "            try:\n",
    "                location = res['author']['homeLocation']['name']\n",
    "            except:\n",
    "                location = \"NULL\"\n",
    "\n",
    "            is_private = False\n",
    "            if soup.find(\"div\",{\"class\":\"css-901oao r-1nao33i r-37j5jr r-1yjpyg1 r-1vr29t4 r-ueyrd6 r-5oul0u r-bcqeeo r-fdjqy7 r-qvutc0\"}):\n",
    "                is_private = True\n",
    "\n",
    "\n",
    "            is_verified = False\n",
    "            if soup.find(\"svg\",{\"aria-label\":\"Verified account\"}):\n",
    "                is_verified = True\n",
    "\n",
    "            is_bussiness_acc = False ; bussiness_sector = \"NULL\"\n",
    "            if soup.find(\"span\",{\"data-testid\":\"UserProfessionalCategory\"}):\n",
    "                __ = soup.find(\"span\",{\"data-testid\":\"UserProfessionalCategory\"})\n",
    "                bussiness_sector = __.find(\"span\",{'class':'css-901oao css-16my406 r-poiln3 r-bcqeeo r-qvutc0'}).text\n",
    "                is_bussiness_acc = True\n",
    "                \n",
    "            data = {\n",
    "\n",
    "                \"user id\" : user_id,\n",
    "                \"screen name\" : screenname,\n",
    "                \"name\" : name,\n",
    "                \"followers\" : followers_count,\n",
    "                \"following\" : following_count,\n",
    "                \"bio\" : user_bio,\n",
    "                \"bio link\" : bio_link,\n",
    "                \"date joined\" : date_joined,\n",
    "                \"location\" : location,\n",
    "                \"is private\" : is_private,\n",
    "                \"is verified\" : is_verified,\n",
    "                \"is bussiness account\" : is_bussiness_acc,\n",
    "                \"bussiness sector\" : bussiness_sector,\n",
    "\n",
    "            }\n",
    "            master_dict.update({screenname:data})\n",
    "            \n",
    "            tdf = pd.DataFrame(data,index=[0])\n",
    "            global df\n",
    "            df = pd.concat([df,tdf], ignore_index = True)\n",
    "        \n",
    "        except TimeoutException:\n",
    "            df.to_excel(\"twitter_scraped.xlsx\")\n",
    "            pass\n",
    "        except IndexError:\n",
    "            mdf.to_excel(\"twitter_scraped.xlsx\")\n",
    "            pass\n",
    "        except TypeError:\n",
    "            df.to_excel(\"twitter_scraped.xlsx\")\n",
    "            pass\n",
    "        finally:\n",
    "            df.to_excel(\"twitter_scraped.xlsx\")"
   ]
  }
 ],
 "metadata": {
  "kernelspec": {
   "display_name": "Python 3 (ipykernel)",
   "language": "python",
   "name": "python3"
  },
  "language_info": {
   "codemirror_mode": {
    "name": "ipython",
    "version": 3
   },
   "file_extension": ".py",
   "mimetype": "text/x-python",
   "name": "python",
   "nbconvert_exporter": "python",
   "pygments_lexer": "ipython3",
   "version": "3.9.7"
  }
 },
 "nbformat": 4,
 "nbformat_minor": 5
}
