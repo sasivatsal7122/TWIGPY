{
 "cells": [
  {
   "cell_type": "code",
   "execution_count": 3,
   "id": "3fe7a2a5",
   "metadata": {},
   "outputs": [],
   "source": [
    "from selenium import webdriver\n",
    "from selenium.webdriver.chrome.service import Service\n",
    "from webdriver_manager.chrome import ChromeDriverManager\n",
    "from selenium.webdriver.support.ui import WebDriverWait\n",
    "from selenium.webdriver.support import expected_conditions as EC\n",
    "from selenium.webdriver.common.by import By\n",
    "from selenium.webdriver.chrome.options import Options\n",
    "import pickle\n",
    "\n",
    "from explicit import waiter, XPATH\n",
    "import time\n",
    "import pandas as pd\n",
    "from bs4 import BeautifulSoup"
   ]
  },
  {
   "cell_type": "code",
   "execution_count": 5,
   "id": "c4b54177",
   "metadata": {},
   "outputs": [],
   "source": [
    "username = \"EdgeForex16\"\n",
    "password = \"Success01!\""
   ]
  },
  {
   "cell_type": "code",
   "execution_count": 6,
   "id": "b3d7f957",
   "metadata": {},
   "outputs": [],
   "source": [
    "def login(driver):\n",
    "    driver.get(\"https://twitter.com/i/flow/login\")\n",
    "    waiter.find_write(driver, \"//*[@id='layers']/div/div/div/div/div/div/div[2]/div[2]/div/div/div[2]/div[2]/div/div/div/div[5]/label/div/div[2]/div/input\", username, by=XPATH)\n",
    "    waiter.find_element(driver, \"//*[@id='layers']/div/div/div/div/div/div/div[2]/div[2]/div/div/div[2]/div[2]/div/div/div/div[6]/div\", by=XPATH).click()\n",
    "    waiter.find_write(driver, \"//*[@id='layers']/div/div/div/div/div/div/div[2]/div[2]/div/div/div[2]/div[2]/div[1]/div/div/div[3]/div/label/div/div[2]/div[1]/input\", password, by=XPATH)\n",
    "    waiter.find_element(driver, \"//*[@id='layers']/div/div/div/div/div/div/div[2]/div[2]/div/div/div[2]/div[2]/div[2]/div/div[1]/div/div/div/div\", by=XPATH).click()\n",
    "    time.sleep(4)"
   ]
  },
  {
   "cell_type": "code",
   "execution_count": 7,
   "id": "3658211a",
   "metadata": {},
   "outputs": [
    {
     "name": "stderr",
     "output_type": "stream",
     "text": [
      "[WDM] - Current google-chrome version is 105.0.5195\n",
      "[WDM] - Get LATEST driver version for 105.0.5195\n"
     ]
    },
    {
     "name": "stdout",
     "output_type": "stream",
     "text": [
      " \n"
     ]
    },
    {
     "name": "stderr",
     "output_type": "stream",
     "text": [
      "[WDM] - Driver [C:\\Users\\sasiv\\.wdm\\drivers\\chromedriver\\win32\\105.0.5195.52\\chromedriver.exe] found in cache\n"
     ]
    }
   ],
   "source": [
    "# options = Options()\n",
    "\n",
    "# # options.headless = True\n",
    "# options.add_argument(\"--incognito\")\n",
    "# driver = webdriver.Chrome(options=options,service=Service(ChromeDriverManager().install())) \n",
    "\n",
    "# login(driver)\n",
    "\n",
    "# pickle.dump( driver.get_cookies() , open(\"twittercookies.pkl\",\"wb\"))"
   ]
  },
  {
   "cell_type": "code",
   "execution_count": 224,
   "id": "a7125aa2",
   "metadata": {},
   "outputs": [
    {
     "name": "stderr",
     "output_type": "stream",
     "text": [
      "[WDM] - Current google-chrome version is 105.0.5195\n",
      "[WDM] - Get LATEST driver version for 105.0.5195\n",
      "[WDM] - Driver [C:\\Users\\sasiv\\.wdm\\drivers\\chromedriver\\win32\\105.0.5195.52\\chromedriver.exe] found in cache\n"
     ]
    },
    {
     "name": "stdout",
     "output_type": "stream",
     "text": [
      " \n"
     ]
    }
   ],
   "source": [
    "result_dict = dict()\n",
    "\n",
    "options = Options()\n",
    "\n",
    "options.headless = False\n",
    "options.add_argument(\"--incognito\")\n",
    "driver = webdriver.Chrome(options=options,service=Service(ChromeDriverManager().install())) \n",
    "driver.get(f\"https://www.twitter.com/\")\n",
    "cookies = pickle.load(open(\"twittercookies.pkl\", \"rb\"))\n",
    "for cookie in cookies:\n",
    "    driver.add_cookie(cookie)"
   ]
  },
  {
   "cell_type": "code",
   "execution_count": 242,
   "id": "438c8065",
   "metadata": {},
   "outputs": [],
   "source": [
    "driver.get(\"https://twitter.com/BharathK_188\")\n",
    "wait_until = WebDriverWait(driver, 20).until(EC.presence_of_element_located((By.TAG_NAME , \"span\")))"
   ]
  },
  {
   "cell_type": "code",
   "execution_count": 243,
   "id": "966478ba",
   "metadata": {},
   "outputs": [],
   "source": [
    "html_source = driver.page_source\n",
    "sourcedata = html_source.encode('utf-8')\n",
    "soup = BeautifulSoup( sourcedata , 'html.parser')"
   ]
  },
  {
   "cell_type": "code",
   "execution_count": 244,
   "id": "bd231b20",
   "metadata": {
    "scrolled": false
   },
   "outputs": [
    {
     "data": {
      "text/plain": [
       "'Bharat Kumar'"
      ]
     },
     "execution_count": 244,
     "metadata": {},
     "output_type": "execute_result"
    }
   ],
   "source": [
    "name = soup.find_all('div',{\"class\":\"css-901oao r-1awozwy r-1nao33i r-6koalj r-37j5jr r-adyw6z r-1vr29t4 r-135wba7 r-bcqeeo r-1udh08x r-qvutc0\"})\n",
    "for i in name:\n",
    "    name = i.find('span',{\"class\":\"css-901oao css-16my406 r-poiln3 r-bcqeeo r-qvutc0\"}).text\n",
    "name"
   ]
  },
  {
   "cell_type": "code",
   "execution_count": 245,
   "id": "ce5ca784",
   "metadata": {},
   "outputs": [
    {
     "data": {
      "text/plain": [
       "'@BharathK_188'"
      ]
     },
     "execution_count": 245,
     "metadata": {},
     "output_type": "execute_result"
    }
   ],
   "source": [
    "screenname = soup.find_all('div',{\"class\":\"css-901oao css-1hf3ou5 r-1bwzh9t r-18u37iz r-37j5jr r-a023e6 r-16dba41 r-rjixqe r-bcqeeo r-qvutc0\"})\n",
    "screenname = screenname[0].find('span',{\"class\":\"css-901oao css-16my406 r-poiln3 r-bcqeeo r-qvutc0\"}).text\n",
    "screenname"
   ]
  },
  {
   "cell_type": "code",
   "execution_count": 246,
   "id": "09796ff3",
   "metadata": {},
   "outputs": [
    {
     "name": "stdout",
     "output_type": "stream",
     "text": [
      "7 72\n"
     ]
    }
   ],
   "source": [
    "fo_fol = soup.find_all('span',{\"class\":\"css-901oao css-16my406 r-1nao33i r-poiln3 r-1b43r93 r-b88u0q r-1cwl3u0 r-bcqeeo r-qvutc0\"})\n",
    "\n",
    "following_count = fo_fol[0].find(\"span\",{'class':\"css-901oao css-16my406 r-poiln3 r-bcqeeo r-qvutc0\"}).text\n",
    "followers_count = fo_fol[1].find(\"span\",{'class':\"css-901oao css-16my406 r-poiln3 r-bcqeeo r-qvutc0\"}).text\n",
    "\n",
    "print(followers_count,following_count)"
   ]
  },
  {
   "cell_type": "code",
   "execution_count": 247,
   "id": "40971d89",
   "metadata": {},
   "outputs": [
    {
     "data": {
      "text/plain": [
       "False"
      ]
     },
     "execution_count": 247,
     "metadata": {},
     "output_type": "execute_result"
    }
   ],
   "source": [
    "is_private = False\n",
    "if soup.find(\"div\",{\"class\":\"css-901oao r-1nao33i r-37j5jr r-1yjpyg1 r-1vr29t4 r-ueyrd6 r-5oul0u r-bcqeeo r-fdjqy7 r-qvutc0\"}):\n",
    "    is_private = True\n",
    "is_private"
   ]
  },
  {
   "cell_type": "code",
   "execution_count": 248,
   "id": "d3cb2b71",
   "metadata": {},
   "outputs": [
    {
     "data": {
      "text/plain": [
       "True"
      ]
     },
     "execution_count": 248,
     "metadata": {},
     "output_type": "execute_result"
    }
   ],
   "source": [
    "is_verified = False\n",
    "if soup.find(\"svg\",{\"aria-label\":\"Verified account\"}):\n",
    "    is_verified = True\n",
    "is_verified"
   ]
  },
  {
   "cell_type": "code",
   "execution_count": 249,
   "id": "ff6610c1",
   "metadata": {},
   "outputs": [
    {
     "data": {
      "text/plain": [
       "'80'"
      ]
     },
     "execution_count": 249,
     "metadata": {},
     "output_type": "execute_result"
    }
   ],
   "source": [
    "tweet_count = soup.find('div',{\"class\":\"css-901oao css-1hf3ou5 r-1bwzh9t r-37j5jr r-n6v787 r-16dba41 r-1cwl3u0 r-bcqeeo r-qvutc0\"}).text.replace(\"Tweets\",\"\").strip()\n",
    "tweet_count"
   ]
  },
  {
   "cell_type": "code",
   "execution_count": 250,
   "id": "305113e1",
   "metadata": {},
   "outputs": [
    {
     "name": "stdout",
     "output_type": "stream",
     "text": [
      "False NULL\n"
     ]
    }
   ],
   "source": [
    "is_bussiness_acc = False ; bussiness_sector = \"NULL\"\n",
    "if soup.find(\"span\",{\"data-testid\":\"UserProfessionalCategory\"}):\n",
    "    __ = soup.find(\"span\",{\"data-testid\":\"UserProfessionalCategory\"})\n",
    "    bussiness_sector = __.find(\"span\",{'class':'css-901oao css-16my406 r-poiln3 r-bcqeeo r-qvutc0'}).text\n",
    "    is_bussiness_acc = True\n",
    "\n",
    "print(is_bussiness_acc,bussiness_sector)"
   ]
  },
  {
   "cell_type": "code",
   "execution_count": 251,
   "id": "4f610b26",
   "metadata": {},
   "outputs": [
    {
     "data": {
      "text/plain": [
       "'Vishakhapatnam, India'"
      ]
     },
     "execution_count": 251,
     "metadata": {},
     "output_type": "execute_result"
    }
   ],
   "source": [
    "location = \"NULL\"\n",
    "if soup.find(\"span\",{\"data-testid\":\"UserLocation\"}):\n",
    "    __ = soup.find(\"span\",{\"data-testid\":\"UserLocation\"})\n",
    "    location = __.find(\"span\",{'class':'css-901oao css-16my406 r-poiln3 r-bcqeeo r-qvutc0'}).text\n",
    "location"
   ]
  },
  {
   "cell_type": "code",
   "execution_count": 252,
   "id": "eb9e8b29",
   "metadata": {},
   "outputs": [
    {
     "data": {
      "text/plain": [
       "'NULL'"
      ]
     },
     "execution_count": 252,
     "metadata": {},
     "output_type": "execute_result"
    }
   ],
   "source": [
    "bio_link = \"NULL\"\n",
    "if soup.find(\"a\",{\"data-testid\":\"UserUrl\"}):\n",
    "    bio_link = soup.find(\"a\",{\"data-testid\":\"UserUrl\"})['href']\n",
    "bio_link"
   ]
  },
  {
   "cell_type": "code",
   "execution_count": 253,
   "id": "cdc3acb5",
   "metadata": {},
   "outputs": [
    {
     "data": {
      "text/plain": [
       "'Joined August 2020'"
      ]
     },
     "execution_count": 253,
     "metadata": {},
     "output_type": "execute_result"
    }
   ],
   "source": [
    "date_joined = \"NULL\"\n",
    "if soup.find(\"span\",{\"data-testid\":\"UserJoinDate\"}):\n",
    "    __ = soup.find(\"span\",{\"data-testid\":\"UserJoinDate\"})\n",
    "    date_joined = __.find(\"span\",{\"class\":\"css-901oao css-16my406 r-poiln3 r-bcqeeo r-qvutc0\"}).text\n",
    "date_joined"
   ]
  },
  {
   "cell_type": "code",
   "execution_count": 254,
   "id": "d303c5d9",
   "metadata": {},
   "outputs": [
    {
     "data": {
      "text/plain": [
       "'Cinema • 20 • Still discovering myself'"
      ]
     },
     "execution_count": 254,
     "metadata": {},
     "output_type": "execute_result"
    }
   ],
   "source": [
    "user_bio = \"NULL\"\n",
    "if soup.find(\"div\",{\"data-testid\":\"UserDescription\"}):\n",
    "    user_bio = \"\"\n",
    "    __ = soup.find_all(\"div\",{\"data-testid\":\"UserDescription\"})\n",
    "    user_bio = [user_bio+i.text for i in __][0]\n",
    "user_bio"
   ]
  },
  {
   "cell_type": "code",
   "execution_count": null,
   "id": "0418c003",
   "metadata": {},
   "outputs": [],
   "source": []
  }
 ],
 "metadata": {
  "kernelspec": {
   "display_name": "Python 3 (ipykernel)",
   "language": "python",
   "name": "python3"
  },
  "language_info": {
   "codemirror_mode": {
    "name": "ipython",
    "version": 3
   },
   "file_extension": ".py",
   "mimetype": "text/x-python",
   "name": "python",
   "nbconvert_exporter": "python",
   "pygments_lexer": "ipython3",
   "version": "3.9.7"
  }
 },
 "nbformat": 4,
 "nbformat_minor": 5
}
